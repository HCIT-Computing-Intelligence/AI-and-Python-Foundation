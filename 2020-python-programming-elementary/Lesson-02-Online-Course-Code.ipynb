{
 "cells": [
  {
   "cell_type": "code",
   "execution_count": 112,
   "metadata": {},
   "outputs": [],
   "source": [
    "import jieba\n",
    "import numpy as np\n",
    "from jieba import posseg\n",
    "from collections import defaultdict\n",
    "\n",
    "\n",
    "def cut(string):\n",
    "    return list(jieba.cut(string))\n",
    "\n",
    "\n",
    "def idf(word):\n",
    "    eps = 1e-6\n",
    "    \n",
    "    return 1 / (np.log10(sum(1 for s in sentences if word in s)) + eps)\n",
    "\n",
    "\n",
    "def tf(word, sentence_cut):\n",
    "    return sentence_cut.count(word)\n",
    "\n",
    "\n",
    "def tfidf(word, sentence):\n",
    "    return tf(word, sentence) * idf(word)\n",
    "\n",
    "\n",
    "def get_tfidf_from_sentence(sentence_cut):\n",
    "    ## you code here\n",
    "    '''\n",
    "    return : a dictionary\n",
    "    '''\n",
    "    \n",
    "    tf_idf_words = dict()\n",
    "    \n",
    "    for c in set(sentence_cut):\n",
    "        tf_idf_words[c] = tfidf(c, sentence_cut)\n",
    "        \n",
    "    return tf_idf_words\n",
    "\n",
    "\n",
    "def get_top_tfidf(sentence_cut, ratio=0.25):\n",
    "    \"\"\"\n",
    "    return : [(word1, tfidf_value), (word2, tfidf_value)]\n",
    "    \"\"\"\n",
    "    tfidf_value = get_tfidf_from_sentence(sentence_cut)\n",
    "    \n",
    "    top_ratio = ratio\n",
    "    \n",
    "    return sorted(tfidf_value.items(), key=lambda x: x[1], reverse=True)[:int(len(tfidf_value)*top_ratio)]\n",
    "\n",
    "\n",
    "def is_name(cut_word):\n",
    "    w, _type = list(posseg.cut(cut_word))[0]\n",
    "    \n",
    "    if _type == 'nr': return True\n",
    "    \n",
    "    return False\n",
    "\n",
    "\n",
    "# def get_names_from_sentence(sentence: str):\n",
    "#     names = []\n",
    "    \n",
    "#     for w_t in posseg.cut(cut_word):\n",
    "#         w, t = tuple(w_t)\n",
    "        \n",
    "#         if t ++ \n",
    "#     return [w for w in cut_sentence if is_name(w)]\n",
    "\n",
    "\n",
    "# we do some refractor\n",
    "def get_name_correlate(sentence: str):\n",
    "    \n",
    "    name_correlate = defaultdict(lambda : defaultdict(int))\n",
    "    \n",
    "    names = []\n",
    "    \n",
    "    for w_t in posseg.cut(sentence):\n",
    "        w, t = tuple(w_t)\n",
    "        \n",
    "        if t == 'nr': names.append(w)\n",
    "            \n",
    "    for n in names:\n",
    "        for w in names:\n",
    "            if n == w: continue\n",
    "                \n",
    "            name_correlate[n][w] += 1 \n",
    "    \n",
    "    return name_correlate"
   ]
  },
  {
   "cell_type": "code",
   "execution_count": 2,
   "metadata": {},
   "outputs": [],
   "source": [
    "content = open('dataset/article_9k.txt')\n",
    "CHARACTERS = content.read()"
   ]
  },
  {
   "cell_type": "code",
   "execution_count": 3,
   "metadata": {},
   "outputs": [],
   "source": [
    "sentences = CHARACTERS.split('\\n')\n",
    "all_sentences_with_cut_tokens = []"
   ]
  },
  {
   "cell_type": "code",
   "execution_count": 4,
   "metadata": {
    "scrolled": true
   },
   "outputs": [
    {
     "name": "stderr",
     "output_type": "stream",
     "text": [
      "Building prefix dict from the default dictionary ...\n",
      "Loading model from cache /var/folders/t4/cqwq7kjd23zb1pddhb8858rh0000gn/T/jieba.cache\n",
      "Loading model cost 0.864 seconds.\n",
      "Prefix dict has been built succesfully.\n"
     ]
    }
   ],
   "source": [
    "all_sentences_with_cut_tokens = [cut(s) for s in sentences]"
   ]
  },
  {
   "cell_type": "markdown",
   "metadata": {},
   "source": [
    "## Practice 用tf-idf来表征单词的重要性"
   ]
  },
  {
   "cell_type": "code",
   "execution_count": 5,
   "metadata": {},
   "outputs": [],
   "source": [
    "sample_news = get_top_tfidf(all_sentences_with_cut_tokens[99])"
   ]
  },
  {
   "cell_type": "code",
   "execution_count": 6,
   "metadata": {},
   "outputs": [
    {
     "data": {
      "text/plain": [
       "[('任远明', 1000000.0),\n",
       " ('服务卡', 3.321922577293393),\n",
       " ('邮储', 2.880754937115057),\n",
       " ('工会', 2.1986151062485737),\n",
       " ('会籍', 2.0958988814880564),\n",
       " ('四川省', 1.877751728962409),\n",
       " ('正阳', 1.7954218232340378),\n",
       " ('总工会', 1.5276591648884605),\n",
       " ('普惠性', 1.4306755346564182),\n",
       " ('邮政', 1.3404543612178637),\n",
       " ('分行', 1.209673545005994),\n",
       " ('会员', 1.1436194292939366),\n",
       " ('服务', 1.0351708152199),\n",
       " ('省', 0.9591856844299416),\n",
       " ('摄据', 0.9266275493897159),\n",
       " ('银行', 0.857793461373016),\n",
       " ('合作', 0.7672664304498398),\n",
       " ('公司', 0.7587249254744466),\n",
       " ('党组', 0.7339192276116211),\n",
       " ('签约', 0.7227635066571622)]"
      ]
     },
     "execution_count": 6,
     "metadata": {},
     "output_type": "execute_result"
    }
   ],
   "source": [
    "sample_news"
   ]
  },
  {
   "cell_type": "code",
   "execution_count": 7,
   "metadata": {},
   "outputs": [],
   "source": [
    "import random"
   ]
  },
  {
   "cell_type": "code",
   "execution_count": 108,
   "metadata": {},
   "outputs": [],
   "source": [
    "random_article_id = random.randint(0, 10000)\n",
    "sample_news = get_top_tfidf(all_sentences_with_cut_tokens[random_article_id])"
   ]
  },
  {
   "cell_type": "code",
   "execution_count": 9,
   "metadata": {},
   "outputs": [
    {
     "data": {
      "text/plain": [
       "[('386884', 1000000.0),\n",
       " ('公司债', 2.182798560741661),\n",
       " ('发行', 2.0521499452539005),\n",
       " ('调整期', 1.2243877552582467),\n",
       " ('缩水', 1.0699577312598316),\n",
       " ('募集', 0.883072844362164),\n",
       " ('只数', 0.8725021082885628),\n",
       " ('今年以来', 0.7029632261905293),\n",
       " ('经参', 0.6585381373201477),\n",
       " ('较紧', 0.6425481916007906),\n",
       " ('wwwstcncom06', 0.6376726584217304),\n",
       " ('规模', 0.5586571716735749),\n",
       " ('起色', 0.5438181203771033),\n",
       " ('证券时报', 0.5419763266432966),\n",
       " ('同期相比', 0.5300844878652039),\n",
       " ('424', 0.5269736491516478),\n",
       " ('企业', 0.5116369451466272),\n",
       " ('七成', 0.47380100514998263)]"
      ]
     },
     "execution_count": 9,
     "metadata": {},
     "output_type": "execute_result"
    }
   ],
   "source": [
    "sample_news"
   ]
  },
  {
   "cell_type": "code",
   "execution_count": 76,
   "metadata": {},
   "outputs": [],
   "source": [
    "value_a, value_b = ('a', 'b')"
   ]
  },
  {
   "cell_type": "code",
   "execution_count": 81,
   "metadata": {},
   "outputs": [],
   "source": [
    "some_list = [1, 2, 3, 4, 5]"
   ]
  },
  {
   "cell_type": "code",
   "execution_count": 82,
   "metadata": {},
   "outputs": [],
   "source": [
    "even_number = [n for n in some_list if n % 2 == 0]"
   ]
  },
  {
   "cell_type": "code",
   "execution_count": 83,
   "metadata": {},
   "outputs": [],
   "source": [
    "#frequency_dict = dict()\n",
    "\n",
    "frequency_dict = {w: tfidf for w, tfidf in sample_news}\n",
    "\n",
    "# for w, tfidf in sample_news:\n",
    "#     print(w)\n",
    "#     print(tfidf)\n",
    "    \n",
    "#     frequency_dict[w] = tfidf"
   ]
  },
  {
   "cell_type": "code",
   "execution_count": 84,
   "metadata": {},
   "outputs": [
    {
     "data": {
      "text/plain": [
       "{'386884': 1000000.0,\n",
       " '公司债': 2.182798560741661,\n",
       " '发行': 2.0521499452539005,\n",
       " '调整期': 1.2243877552582467,\n",
       " '缩水': 1.0699577312598316,\n",
       " '募集': 0.883072844362164,\n",
       " '只数': 0.8725021082885628,\n",
       " '今年以来': 0.7029632261905293,\n",
       " '经参': 0.6585381373201477,\n",
       " '较紧': 0.6425481916007906,\n",
       " 'wwwstcncom06': 0.6376726584217304,\n",
       " '规模': 0.5586571716735749,\n",
       " '起色': 0.5438181203771033,\n",
       " '证券时报': 0.5419763266432966,\n",
       " '同期相比': 0.5300844878652039,\n",
       " '424': 0.5269736491516478,\n",
       " '企业': 0.5116369451466272,\n",
       " '七成': 0.47380100514998263}"
      ]
     },
     "execution_count": 84,
     "metadata": {},
     "output_type": "execute_result"
    }
   ],
   "source": [
    "frequency_dict"
   ]
  },
  {
   "cell_type": "code",
   "execution_count": 10,
   "metadata": {},
   "outputs": [],
   "source": [
    "from wordcloud import WordCloud"
   ]
  },
  {
   "cell_type": "code",
   "execution_count": 91,
   "metadata": {},
   "outputs": [],
   "source": [
    "wc = WordCloud(font_path='fonts/SimHei.ttf')"
   ]
  },
  {
   "cell_type": "code",
   "execution_count": 103,
   "metadata": {},
   "outputs": [
    {
     "data": {
      "text/plain": [
       "<wordcloud.wordcloud.WordCloud at 0x179be18d0>"
      ]
     },
     "execution_count": 103,
     "metadata": {},
     "output_type": "execute_result"
    }
   ],
   "source": [
    "wc.generate_from_frequencies(frequency_dict)"
   ]
  },
  {
   "cell_type": "code",
   "execution_count": 93,
   "metadata": {},
   "outputs": [],
   "source": [
    "%matplotlib inline"
   ]
  },
  {
   "cell_type": "code",
   "execution_count": 94,
   "metadata": {},
   "outputs": [],
   "source": [
    "import matplotlib.pyplot as plt"
   ]
  },
  {
   "cell_type": "code",
   "execution_count": 104,
   "metadata": {},
   "outputs": [
    {
     "data": {
      "text/plain": [
       "<matplotlib.image.AxesImage at 0x179024198>"
      ]
     },
     "execution_count": 104,
     "metadata": {},
     "output_type": "execute_result"
    },
    {
     "data": {
      "image/png": "[encoded data removed]",
      "text/plain": [
       "<Figure size 432x288 with 1 Axes>"
      ]
     },
     "metadata": {
      "needs_background": "light"
     },
     "output_type": "display_data"
    }
   ],
   "source": [
    "plt.imshow(wc)"
   ]
  },
  {
   "cell_type": "code",
   "execution_count": 97,
   "metadata": {},
   "outputs": [],
   "source": [
    "def plot_word_cloud(string):\n",
    "    cut_string = cut(string)\n",
    "    wc.generate_from_frequencies({k: v for k, v in get_top_tfidf(cut_string)})\n",
    "    plt.imshow(wc)"
   ]
  },
  {
   "cell_type": "code",
   "execution_count": 58,
   "metadata": {},
   "outputs": [],
   "source": [
    "point_a = point_a + (4, 5, 6)"
   ]
  },
  {
   "cell_type": "code",
   "execution_count": 59,
   "metadata": {},
   "outputs": [
    {
     "data": {
      "text/plain": [
       "(1, 2, 3, 4, 5, 6)"
      ]
     },
     "execution_count": 59,
     "metadata": {},
     "output_type": "execute_result"
    }
   ],
   "source": [
    "point_a"
   ]
  },
  {
   "cell_type": "code",
   "execution_count": 110,
   "metadata": {},
   "outputs": [
    {
     "name": "stderr",
     "output_type": "stream",
     "text": [
      "/Users/gaominquan/anaconda3/lib/python3.7/site-packages/ipykernel_launcher.py:14: RuntimeWarning: divide by zero encountered in log10\n",
      "  \n"
     ]
    },
    {
     "data": {
      "image/png": "[encoded data removed]",
      "text/plain": [
       "<Figure size 432x288 with 1 Axes>"
      ]
     },
     "metadata": {
      "needs_background": "light"
     },
     "output_type": "display_data"
    }
   ],
   "source": [
    "plot_word_cloud('【美国暴力抗议浪潮：#美国超60名记者遭逮捕或袭击#】近期，非裔美国人乔治·弗洛伊德“遭警察暴力执法致死”事件引发大范围抗议示威，多名记者被警察攻击或拘捕。美行业团体称，48小时内超60名记者遇袭或被捕。其中CNN摄影记者琳达·蒂拉多被橡胶子弹击中，其左眼有可能永久性失明，MSNBC主持人阿里·维尔希和同事被催泪瓦斯袭击……')"
   ]
  },
  {
   "cell_type": "markdown",
   "metadata": {},
   "source": [
    "## point_a 没有可以自己修改自己值的method"
   ]
  },
  {
   "cell_type": "code",
   "execution_count": 60,
   "metadata": {},
   "outputs": [
    {
     "data": {
      "text/plain": [
       "['__add__',\n",
       " '__class__',\n",
       " '__contains__',\n",
       " '__delattr__',\n",
       " '__dir__',\n",
       " '__doc__',\n",
       " '__eq__',\n",
       " '__format__',\n",
       " '__ge__',\n",
       " '__getattribute__',\n",
       " '__getitem__',\n",
       " '__getnewargs__',\n",
       " '__gt__',\n",
       " '__hash__',\n",
       " '__init__',\n",
       " '__init_subclass__',\n",
       " '__iter__',\n",
       " '__le__',\n",
       " '__len__',\n",
       " '__lt__',\n",
       " '__mul__',\n",
       " '__ne__',\n",
       " '__new__',\n",
       " '__reduce__',\n",
       " '__reduce_ex__',\n",
       " '__repr__',\n",
       " '__rmul__',\n",
       " '__setattr__',\n",
       " '__sizeof__',\n",
       " '__str__',\n",
       " '__subclasshook__',\n",
       " 'count',\n",
       " 'index']"
      ]
     },
     "execution_count": 60,
     "metadata": {},
     "output_type": "execute_result"
    }
   ],
   "source": [
    "dir(point_a)"
   ]
  },
  {
   "cell_type": "code",
   "execution_count": 61,
   "metadata": {},
   "outputs": [
    {
     "data": {
      "text/plain": [
       "['__add__',\n",
       " '__class__',\n",
       " '__contains__',\n",
       " '__delattr__',\n",
       " '__delitem__',\n",
       " '__dir__',\n",
       " '__doc__',\n",
       " '__eq__',\n",
       " '__format__',\n",
       " '__ge__',\n",
       " '__getattribute__',\n",
       " '__getitem__',\n",
       " '__gt__',\n",
       " '__hash__',\n",
       " '__iadd__',\n",
       " '__imul__',\n",
       " '__init__',\n",
       " '__init_subclass__',\n",
       " '__iter__',\n",
       " '__le__',\n",
       " '__len__',\n",
       " '__lt__',\n",
       " '__mul__',\n",
       " '__ne__',\n",
       " '__new__',\n",
       " '__reduce__',\n",
       " '__reduce_ex__',\n",
       " '__repr__',\n",
       " '__reversed__',\n",
       " '__rmul__',\n",
       " '__setattr__',\n",
       " '__setitem__',\n",
       " '__sizeof__',\n",
       " '__str__',\n",
       " '__subclasshook__',\n",
       " 'append',\n",
       " 'clear',\n",
       " 'copy',\n",
       " 'count',\n",
       " 'extend',\n",
       " 'index',\n",
       " 'insert',\n",
       " 'pop',\n",
       " 'remove',\n",
       " 'reverse',\n",
       " 'sort']"
      ]
     },
     "execution_count": 61,
     "metadata": {},
     "output_type": "execute_result"
    }
   ],
   "source": [
    "dir(point_b)"
   ]
  },
  {
   "cell_type": "code",
   "execution_count": 62,
   "metadata": {},
   "outputs": [],
   "source": [
    "some_dictionary = {}"
   ]
  },
  {
   "cell_type": "code",
   "execution_count": 63,
   "metadata": {},
   "outputs": [],
   "source": [
    "some_dictionary[point_a] = 'red'"
   ]
  },
  {
   "cell_type": "code",
   "execution_count": 64,
   "metadata": {},
   "outputs": [
    {
     "ename": "TypeError",
     "evalue": "unhashable type: 'list'",
     "output_type": "error",
     "traceback": [
      "\u001b[0;31m---------------------------------------------------------------------------\u001b[0m",
      "\u001b[0;31mTypeError\u001b[0m                                 Traceback (most recent call last)",
      "\u001b[0;32m<ipython-input-64-2bbc4af01831>\u001b[0m in \u001b[0;36m<module>\u001b[0;34m\u001b[0m\n\u001b[0;32m----> 1\u001b[0;31m \u001b[0msome_dictionary\u001b[0m\u001b[0;34m[\u001b[0m\u001b[0mpoint_b\u001b[0m\u001b[0;34m]\u001b[0m \u001b[0;34m=\u001b[0m \u001b[0;34m'green'\u001b[0m\u001b[0;34m\u001b[0m\u001b[0;34m\u001b[0m\u001b[0m\n\u001b[0m",
      "\u001b[0;31mTypeError\u001b[0m: unhashable type: 'list'"
     ]
    }
   ],
   "source": [
    "some_dictionary[point_b] = 'green'"
   ]
  },
  {
   "cell_type": "code",
   "execution_count": 67,
   "metadata": {},
   "outputs": [],
   "source": [
    "some_ditionary = {\n",
    "    'key_1': 'value_1',\n",
    "    'key_2': 'value_2',\n",
    "    'key_3': 'value_3',\n",
    "    'key_4': 'value_4',\n",
    "    'key_5': 'value_5',\n",
    "    'key_6': 'value_6',\n",
    "    'key_7': 'value_7',\n",
    "    'key_8': 'value_8',\n",
    "}"
   ]
  },
  {
   "cell_type": "code",
   "execution_count": 69,
   "metadata": {},
   "outputs": [
    {
     "data": {
      "text/plain": [
       "'value_1'"
      ]
     },
     "execution_count": 69,
     "metadata": {},
     "output_type": "execute_result"
    }
   ],
   "source": [
    "some_ditionary['key_1'] # -> 'key_1' 的 地址， hash(value) -> 地址 "
   ]
  },
  {
   "cell_type": "code",
   "execution_count": 72,
   "metadata": {},
   "outputs": [
    {
     "data": {
      "text/plain": [
       "-3839962503235498640"
      ]
     },
     "execution_count": 72,
     "metadata": {},
     "output_type": "execute_result"
    }
   ],
   "source": [
    "hash('key_1')"
   ]
  },
  {
   "cell_type": "code",
   "execution_count": 73,
   "metadata": {},
   "outputs": [
    {
     "data": {
      "text/plain": [
       "-3898426199850900750"
      ]
     },
     "execution_count": 73,
     "metadata": {},
     "output_type": "execute_result"
    }
   ],
   "source": [
    "hash('key_2')"
   ]
  },
  {
   "cell_type": "code",
   "execution_count": 70,
   "metadata": {},
   "outputs": [
    {
     "data": {
      "text/plain": [
       "'value_8'"
      ]
     },
     "execution_count": 70,
     "metadata": {},
     "output_type": "execute_result"
    }
   ],
   "source": [
    "some_ditionary['key_8'] # -> 'key_8' 的地址"
   ]
  },
  {
   "cell_type": "code",
   "execution_count": null,
   "metadata": {},
   "outputs": [],
   "source": [
    "some_dictionary[point_b] = 'green'"
   ]
  },
  {
   "cell_type": "code",
   "execution_count": null,
   "metadata": {},
   "outputs": [],
   "source": [
    "point_b.append('a') # point_b的值变了，值变了之后，hash(point_b)变了\n",
    "# dictionary -> 拿不到当时存的时候 的那个值了"
   ]
  },
  {
   "cell_type": "code",
   "execution_count": null,
   "metadata": {},
   "outputs": [],
   "source": [
    "some_dictionary[point_b]"
   ]
  },
  {
   "cell_type": "code",
   "execution_count": null,
   "metadata": {},
   "outputs": [],
   "source": [
    "list()\n",
    "set()\n",
    "dict()"
   ]
  },
  {
   "cell_type": "markdown",
   "metadata": {},
   "source": [
    "## Python内部：dictionary"
   ]
  },
  {
   "cell_type": "code",
   "execution_count": 56,
   "metadata": {},
   "outputs": [],
   "source": [
    "point_b.append(4)"
   ]
  },
  {
   "cell_type": "code",
   "execution_count": 57,
   "metadata": {},
   "outputs": [
    {
     "data": {
      "text/plain": [
       "[2, 3, 4, 4]"
      ]
     },
     "execution_count": 57,
     "metadata": {},
     "output_type": "execute_result"
    }
   ],
   "source": [
    "point_b"
   ]
  },
  {
   "cell_type": "code",
   "execution_count": 45,
   "metadata": {},
   "outputs": [],
   "source": [
    "x, y, z = point_a\n",
    "x_b, y_b, z_b = point_b"
   ]
  },
  {
   "cell_type": "code",
   "execution_count": 46,
   "metadata": {},
   "outputs": [
    {
     "data": {
      "text/plain": [
       "2"
      ]
     },
     "execution_count": 46,
     "metadata": {},
     "output_type": "execute_result"
    }
   ],
   "source": [
    "x_b"
   ]
  },
  {
   "cell_type": "code",
   "execution_count": 47,
   "metadata": {},
   "outputs": [
    {
     "data": {
      "text/plain": [
       "3"
      ]
     },
     "execution_count": 47,
     "metadata": {},
     "output_type": "execute_result"
    }
   ],
   "source": [
    "y_b"
   ]
  },
  {
   "cell_type": "code",
   "execution_count": 42,
   "metadata": {},
   "outputs": [
    {
     "data": {
      "text/plain": [
       "1"
      ]
     },
     "execution_count": 42,
     "metadata": {},
     "output_type": "execute_result"
    }
   ],
   "source": [
    "x"
   ]
  },
  {
   "cell_type": "code",
   "execution_count": 43,
   "metadata": {},
   "outputs": [
    {
     "data": {
      "text/plain": [
       "2"
      ]
     },
     "execution_count": 43,
     "metadata": {},
     "output_type": "execute_result"
    }
   ],
   "source": [
    "y"
   ]
  },
  {
   "cell_type": "code",
   "execution_count": 44,
   "metadata": {},
   "outputs": [
    {
     "data": {
      "text/plain": [
       "3"
      ]
     },
     "execution_count": 44,
     "metadata": {},
     "output_type": "execute_result"
    }
   ],
   "source": [
    "z"
   ]
  },
  {
   "cell_type": "code",
   "execution_count": 21,
   "metadata": {},
   "outputs": [],
   "source": [
    "some_list = [1, 2, 3, 4, 5, 'Int', (2, 3, 4)]"
   ]
  },
  {
   "cell_type": "code",
   "execution_count": 24,
   "metadata": {},
   "outputs": [
    {
     "data": {
      "text/plain": [
       "1"
      ]
     },
     "execution_count": 24,
     "metadata": {},
     "output_type": "execute_result"
    }
   ],
   "source": [
    "some_list[0]"
   ]
  },
  {
   "cell_type": "code",
   "execution_count": 25,
   "metadata": {},
   "outputs": [
    {
     "data": {
      "text/plain": [
       "'Int'"
      ]
     },
     "execution_count": 25,
     "metadata": {},
     "output_type": "execute_result"
    }
   ],
   "source": [
    "some_list[5]"
   ]
  },
  {
   "cell_type": "markdown",
   "metadata": {},
   "source": [
    "## C++ / C / Java / Matlab"
   ]
  },
  {
   "cell_type": "code",
   "execution_count": 26,
   "metadata": {},
   "outputs": [],
   "source": [
    "array = [1, 2, 3, 4, 5]"
   ]
  },
  {
   "cell_type": "code",
   "execution_count": 27,
   "metadata": {},
   "outputs": [],
   "source": [
    "char_array = ['a', 'b']"
   ]
  },
  {
   "cell_type": "markdown",
   "metadata": {},
   "source": [
    "## 列表 list"
   ]
  },
  {
   "cell_type": "code",
   "execution_count": 28,
   "metadata": {},
   "outputs": [],
   "source": [
    "array = [1, 2, 3, 4, 1, 3,1, 1, 1, 2, 1, 1, 1, 3, 1, 4, 10]"
   ]
  },
  {
   "cell_type": "code",
   "execution_count": null,
   "metadata": {},
   "outputs": [],
   "source": [
    "some_java_code = [1, 'a', 5, [1, 2, 3]]"
   ]
  },
  {
   "cell_type": "code",
   "execution_count": null,
   "metadata": {},
   "outputs": [],
   "source": [
    "some_java_code[1]"
   ]
  },
  {
   "cell_type": "code",
   "execution_count": null,
   "metadata": {},
   "outputs": [],
   "source": [
    "java -> |1 |'a' |5 |[1, 2, 3] |9 | | | | | | | | | | | | | | | | | | | | | | | | | \n",
    "python -> | 01010101010101010 | 1010101010101010 | 1010101010101011 | 1010101010101001 | "
   ]
  },
  {
   "cell_type": "code",
   "execution_count": null,
   "metadata": {},
   "outputs": [],
   "source": [
    "1 -> some_address # 01010101010101010 # 3EAB593B\n",
    "'a' -> some_address #1010101010101010 # "
   ]
  },
  {
   "cell_type": "code",
   "execution_count": 37,
   "metadata": {},
   "outputs": [],
   "source": [
    "python_list = ['a', (1, 2), [3, 4, 5], 10]"
   ]
  },
  {
   "cell_type": "code",
   "execution_count": null,
   "metadata": {},
   "outputs": [],
   "source": [
    "python_list = ['01010101010101010', '1010101010101010']"
   ]
  },
  {
   "cell_type": "code",
   "execution_count": 35,
   "metadata": {},
   "outputs": [
    {
     "name": "stdout",
     "output_type": "stream",
     "text": [
      "CPU times: user 3 µs, sys: 1 µs, total: 4 µs\n",
      "Wall time: 6.2 µs\n"
     ]
    },
    {
     "data": {
      "text/plain": [
       "1"
      ]
     },
     "execution_count": 35,
     "metadata": {},
     "output_type": "execute_result"
    }
   ],
   "source": [
    "%%time\n",
    "array[0] # array's address + 1 * len(Int)"
   ]
  },
  {
   "cell_type": "code",
   "execution_count": 36,
   "metadata": {},
   "outputs": [
    {
     "name": "stdout",
     "output_type": "stream",
     "text": [
      "CPU times: user 4 µs, sys: 1e+03 ns, total: 5 µs\n",
      "Wall time: 8.11 µs\n"
     ]
    },
    {
     "data": {
      "text/plain": [
       "4"
      ]
     },
     "execution_count": 36,
     "metadata": {},
     "output_type": "execute_result"
    }
   ],
   "source": [
    "%%time\n",
    "array[15]"
   ]
  },
  {
   "cell_type": "code",
   "execution_count": 13,
   "metadata": {},
   "outputs": [],
   "source": [
    "wc.generate_from_frequencies?"
   ]
  },
  {
   "cell_type": "markdown",
   "metadata": {},
   "source": [
    "## Graph 图"
   ]
  },
  {
   "cell_type": "markdown",
   "metadata": {},
   "source": [
    "![](imgs/g_1.png)"
   ]
  },
  {
   "cell_type": "markdown",
   "metadata": {},
   "source": [
    "![](imgs/g_2.jpg)"
   ]
  },
  {
   "cell_type": "markdown",
   "metadata": {},
   "source": [
    "![](imgs/g_3.jpg)"
   ]
  },
  {
   "cell_type": "code",
   "execution_count": 111,
   "metadata": {},
   "outputs": [],
   "source": [
    "import networkx as nx"
   ]
  },
  {
   "cell_type": "code",
   "execution_count": 113,
   "metadata": {},
   "outputs": [
    {
     "data": {
      "text/plain": [
       "'在上周五刚刚结束的挑战的法则中由潘玮柏大张伟戚薇乔杉刘维于小彤组成的首发嘉宾阵容在经过第一期户外挑战和比拼之后迎来了他们首次舞台表演潘玮柏首发登场霸气演绎分裂的时光超完美表演惊艳全场当晚6位嘉宾纷纷放大招拿出自己最擅长的绝技为观众呈现了一场最完美的演出潘玮柏首发登场经典歌曲被遗忘的时光24个比利的全新改编演绎分裂的时光在原曲嘻哈流行的基础上加入弦乐伴奏与合唱团搭配瞬间气势磅礴充满张力尤其独有的潘氏低音炮一开嗓就引发全场尖叫苏到极致让人见识到什么是开口跪系列舞台上的潘玮柏霸气侧漏气场十足特别是高潮处呈现出的那种撕心裂肺的感觉仿佛能把人带到歌的故事里去这个改编跟原曲比起来节奏放缓了却在这缓慢抒情的演绎中又不缺乏爆发力像在对人们诉说着他的音乐他的追求超震撼演绎瞬间引发网友热议这个版本的24个比利太震撼了现场还是那么稳从头赞到尾的表演低音好撩人实力没得说不愧为初代偶像超级帅的现场很有感觉男神魅力依旧不减啊现场是真的稳'"
      ]
     },
     "execution_count": 113,
     "metadata": {},
     "output_type": "execute_result"
    }
   ],
   "source": [
    "sentences[1000]"
   ]
  },
  {
   "cell_type": "code",
   "execution_count": 120,
   "metadata": {},
   "outputs": [],
   "source": [
    "sample_correlate = get_name_correlate(sentences[1000])"
   ]
  },
  {
   "cell_type": "code",
   "execution_count": 169,
   "metadata": {},
   "outputs": [
    {
     "data": {
      "text/plain": [
       "defaultdict(<function __main__.get_name_correlate.<locals>.<lambda>()>,\n",
       "            {'潘玮柏': defaultdict(int,\n",
       "                         {'大张伟': 4,\n",
       "                          '戚薇': 4,\n",
       "                          '乔杉': 4,\n",
       "                          '刘维': 4,\n",
       "                          '张力': 4,\n",
       "                          '潘氏': 4,\n",
       "                          '高潮': 4}),\n",
       "             '大张伟': defaultdict(int,\n",
       "                         {'潘玮柏': 4,\n",
       "                          '戚薇': 1,\n",
       "                          '乔杉': 1,\n",
       "                          '刘维': 1,\n",
       "                          '张力': 1,\n",
       "                          '潘氏': 1,\n",
       "                          '高潮': 1}),\n",
       "             '戚薇': defaultdict(int,\n",
       "                         {'潘玮柏': 4,\n",
       "                          '大张伟': 1,\n",
       "                          '乔杉': 1,\n",
       "                          '刘维': 1,\n",
       "                          '张力': 1,\n",
       "                          '潘氏': 1,\n",
       "                          '高潮': 1}),\n",
       "             '乔杉': defaultdict(int,\n",
       "                         {'潘玮柏': 4,\n",
       "                          '大张伟': 1,\n",
       "                          '戚薇': 1,\n",
       "                          '刘维': 1,\n",
       "                          '张力': 1,\n",
       "                          '潘氏': 1,\n",
       "                          '高潮': 1}),\n",
       "             '刘维': defaultdict(int,\n",
       "                         {'潘玮柏': 4,\n",
       "                          '大张伟': 1,\n",
       "                          '戚薇': 1,\n",
       "                          '乔杉': 1,\n",
       "                          '张力': 1,\n",
       "                          '潘氏': 1,\n",
       "                          '高潮': 1}),\n",
       "             '张力': defaultdict(int,\n",
       "                         {'潘玮柏': 4,\n",
       "                          '大张伟': 1,\n",
       "                          '戚薇': 1,\n",
       "                          '乔杉': 1,\n",
       "                          '刘维': 1,\n",
       "                          '潘氏': 1,\n",
       "                          '高潮': 1}),\n",
       "             '潘氏': defaultdict(int,\n",
       "                         {'潘玮柏': 4,\n",
       "                          '大张伟': 1,\n",
       "                          '戚薇': 1,\n",
       "                          '乔杉': 1,\n",
       "                          '刘维': 1,\n",
       "                          '张力': 1,\n",
       "                          '高潮': 1}),\n",
       "             '高潮': defaultdict(int,\n",
       "                         {'潘玮柏': 4,\n",
       "                          '大张伟': 1,\n",
       "                          '戚薇': 1,\n",
       "                          '乔杉': 1,\n",
       "                          '刘维': 1,\n",
       "                          '张力': 1,\n",
       "                          '潘氏': 1})})"
      ]
     },
     "execution_count": 169,
     "metadata": {},
     "output_type": "execute_result"
    }
   ],
   "source": [
    "sample_correlate"
   ]
  },
  {
   "cell_type": "code",
   "execution_count": 131,
   "metadata": {},
   "outputs": [],
   "source": [
    "from collections import defaultdict"
   ]
  },
  {
   "cell_type": "code",
   "execution_count": 145,
   "metadata": {},
   "outputs": [
    {
     "data": {
      "text/plain": [
       "{}"
      ]
     },
     "execution_count": 145,
     "metadata": {},
     "output_type": "execute_result"
    }
   ],
   "source": [
    "dict()"
   ]
  },
  {
   "cell_type": "code",
   "execution_count": 149,
   "metadata": {},
   "outputs": [],
   "source": [
    "some_test_defalut = defaultdict(int)"
   ]
  },
  {
   "cell_type": "code",
   "execution_count": 150,
   "metadata": {},
   "outputs": [],
   "source": [
    "some_test_defalut['a'] += 10"
   ]
  },
  {
   "cell_type": "code",
   "execution_count": 151,
   "metadata": {},
   "outputs": [
    {
     "data": {
      "text/plain": [
       "10"
      ]
     },
     "execution_count": 151,
     "metadata": {},
     "output_type": "execute_result"
    }
   ],
   "source": [
    "some_test_defalut['a']"
   ]
  },
  {
   "cell_type": "code",
   "execution_count": 161,
   "metadata": {},
   "outputs": [],
   "source": [
    "simple_graph = defaultdict(list)\n",
    "\n",
    "for key, relation in sample_correlate.items():\n",
    "    simple_graph[key] += [name for name in relation]"
   ]
  },
  {
   "cell_type": "code",
   "execution_count": 162,
   "metadata": {},
   "outputs": [
    {
     "data": {
      "text/plain": [
       "defaultdict(list,\n",
       "            {'潘玮柏': ['大张伟', '戚薇', '乔杉', '刘维', '张力', '潘氏', '高潮'],\n",
       "             '大张伟': ['潘玮柏', '戚薇', '乔杉', '刘维', '张力', '潘氏', '高潮'],\n",
       "             '戚薇': ['潘玮柏', '大张伟', '乔杉', '刘维', '张力', '潘氏', '高潮'],\n",
       "             '乔杉': ['潘玮柏', '大张伟', '戚薇', '刘维', '张力', '潘氏', '高潮'],\n",
       "             '刘维': ['潘玮柏', '大张伟', '戚薇', '乔杉', '张力', '潘氏', '高潮'],\n",
       "             '张力': ['潘玮柏', '大张伟', '戚薇', '乔杉', '刘维', '潘氏', '高潮'],\n",
       "             '潘氏': ['潘玮柏', '大张伟', '戚薇', '乔杉', '刘维', '张力', '高潮'],\n",
       "             '高潮': ['潘玮柏', '大张伟', '戚薇', '乔杉', '刘维', '张力', '潘氏']})"
      ]
     },
     "execution_count": 162,
     "metadata": {},
     "output_type": "execute_result"
    }
   ],
   "source": [
    "simple_graph"
   ]
  },
  {
   "cell_type": "code",
   "execution_count": 163,
   "metadata": {},
   "outputs": [],
   "source": [
    "city_graph = {\n",
    "    '北京': ['天津', '河北'],\n",
    "    '天津': ['山西'],\n",
    "    '山西': ['陕西']\n",
    "}"
   ]
  },
  {
   "cell_type": "code",
   "execution_count": 164,
   "metadata": {},
   "outputs": [],
   "source": [
    "mini_graph = nx.Graph(city_graph)"
   ]
  },
  {
   "cell_type": "code",
   "execution_count": 165,
   "metadata": {},
   "outputs": [
    {
     "name": "stderr",
     "output_type": "stream",
     "text": [
      "/Users/gaominquan/anaconda3/lib/python3.7/site-packages/networkx/drawing/nx_pylab.py:611: MatplotlibDeprecationWarning: isinstance(..., numbers.Number)\n",
      "  if cb.is_numlike(alpha):\n"
     ]
    },
    {
     "data": {
      "image/png": "[encoded data removed]",
      "text/plain": [
       "<Figure size 432x288 with 1 Axes>"
      ]
     },
     "metadata": {},
     "output_type": "display_data"
    }
   ],
   "source": [
    "nx.draw(mini_graph, with_labels=True)"
   ]
  },
  {
   "cell_type": "code",
   "execution_count": 166,
   "metadata": {},
   "outputs": [],
   "source": [
    "simple_graph_vis = nx.Graph(simple_graph)"
   ]
  },
  {
   "cell_type": "code",
   "execution_count": 168,
   "metadata": {},
   "outputs": [
    {
     "data": {
      "image/png": "[encoded data removed]",
      "text/plain": [
       "<Figure size 432x288 with 1 Axes>"
      ]
     },
     "metadata": {},
     "output_type": "display_data"
    }
   ],
   "source": [
    "nx.draw(simple_graph_vis, with_labels=True, font_size=30)"
   ]
  },
  {
   "cell_type": "code",
   "execution_count": 194,
   "metadata": {},
   "outputs": [],
   "source": [
    "graph_with_weight_vis = nx.Graph()\n",
    "\n",
    "for k, d in sample_correlate.items():\n",
    "    for name, value in d.items():\n",
    "        #print(k, name, value)\n",
    "        graph_with_weight_vis.add_weighted_edges_from([(k, name, value)])"
   ]
  },
  {
   "cell_type": "code",
   "execution_count": 195,
   "metadata": {},
   "outputs": [],
   "source": [
    "pos = nx.spectral_layout(graph_with_weigth_vis)"
   ]
  },
  {
   "cell_type": "code",
   "execution_count": 196,
   "metadata": {},
   "outputs": [],
   "source": [
    "edges = []"
   ]
  },
  {
   "cell_type": "code",
   "execution_count": 197,
   "metadata": {},
   "outputs": [],
   "source": [
    "for k, d in sample_correlate.items():\n",
    "    for name, value in d.items():\n",
    "        edges.append((k, name, value))"
   ]
  },
  {
   "cell_type": "code",
   "execution_count": 198,
   "metadata": {},
   "outputs": [
    {
     "data": {
      "text/plain": [
       "[('潘玮柏', '大张伟', 4),\n",
       " ('潘玮柏', '戚薇', 4),\n",
       " ('潘玮柏', '乔杉', 4),\n",
       " ('潘玮柏', '刘维', 4),\n",
       " ('潘玮柏', '张力', 4),\n",
       " ('潘玮柏', '潘氏', 4),\n",
       " ('潘玮柏', '高潮', 4),\n",
       " ('大张伟', '潘玮柏', 4),\n",
       " ('大张伟', '戚薇', 1),\n",
       " ('大张伟', '乔杉', 1),\n",
       " ('大张伟', '刘维', 1),\n",
       " ('大张伟', '张力', 1),\n",
       " ('大张伟', '潘氏', 1),\n",
       " ('大张伟', '高潮', 1),\n",
       " ('戚薇', '潘玮柏', 4),\n",
       " ('戚薇', '大张伟', 1),\n",
       " ('戚薇', '乔杉', 1),\n",
       " ('戚薇', '刘维', 1),\n",
       " ('戚薇', '张力', 1),\n",
       " ('戚薇', '潘氏', 1),\n",
       " ('戚薇', '高潮', 1),\n",
       " ('乔杉', '潘玮柏', 4),\n",
       " ('乔杉', '大张伟', 1),\n",
       " ('乔杉', '戚薇', 1),\n",
       " ('乔杉', '刘维', 1),\n",
       " ('乔杉', '张力', 1),\n",
       " ('乔杉', '潘氏', 1),\n",
       " ('乔杉', '高潮', 1),\n",
       " ('刘维', '潘玮柏', 4),\n",
       " ('刘维', '大张伟', 1),\n",
       " ('刘维', '戚薇', 1),\n",
       " ('刘维', '乔杉', 1),\n",
       " ('刘维', '张力', 1),\n",
       " ('刘维', '潘氏', 1),\n",
       " ('刘维', '高潮', 1),\n",
       " ('张力', '潘玮柏', 4),\n",
       " ('张力', '大张伟', 1),\n",
       " ('张力', '戚薇', 1),\n",
       " ('张力', '乔杉', 1),\n",
       " ('张力', '刘维', 1),\n",
       " ('张力', '潘氏', 1),\n",
       " ('张力', '高潮', 1),\n",
       " ('潘氏', '潘玮柏', 4),\n",
       " ('潘氏', '大张伟', 1),\n",
       " ('潘氏', '戚薇', 1),\n",
       " ('潘氏', '乔杉', 1),\n",
       " ('潘氏', '刘维', 1),\n",
       " ('潘氏', '张力', 1),\n",
       " ('潘氏', '高潮', 1),\n",
       " ('高潮', '潘玮柏', 4),\n",
       " ('高潮', '大张伟', 1),\n",
       " ('高潮', '戚薇', 1),\n",
       " ('高潮', '乔杉', 1),\n",
       " ('高潮', '刘维', 1),\n",
       " ('高潮', '张力', 1),\n",
       " ('高潮', '潘氏', 1)]"
      ]
     },
     "execution_count": 198,
     "metadata": {},
     "output_type": "execute_result"
    }
   ],
   "source": [
    "edges"
   ]
  },
  {
   "cell_type": "code",
   "execution_count": 199,
   "metadata": {},
   "outputs": [],
   "source": [
    "all_weight = set(w for n1, n2, w in edges)"
   ]
  },
  {
   "cell_type": "code",
   "execution_count": 200,
   "metadata": {},
   "outputs": [
    {
     "data": {
      "text/plain": [
       "{1, 4}"
      ]
     },
     "execution_count": 200,
     "metadata": {},
     "output_type": "execute_result"
    }
   ],
   "source": [
    "all_weight"
   ]
  },
  {
   "cell_type": "code",
   "execution_count": 201,
   "metadata": {},
   "outputs": [
    {
     "name": "stderr",
     "output_type": "stream",
     "text": [
      "/Users/gaominquan/anaconda3/lib/python3.7/site-packages/networkx/drawing/nx_pylab.py:611: MatplotlibDeprecationWarning: isinstance(..., numbers.Number)\n",
      "  if cb.is_numlike(alpha):\n"
     ]
    },
    {
     "data": {
      "image/png": "[encoded data removed]",
      "text/plain": [
       "<Figure size 432x288 with 1 Axes>"
      ]
     },
     "metadata": {},
     "output_type": "display_data"
    }
   ],
   "source": [
    "pos=nx.circular_layout(graph_with_weight_vis) \n",
    "\n",
    "\n",
    "for weight in all_weight:\n",
    "    weighted_edges = [(node1,node2) for (node1,node2,edge_attr) in graph_with_weight_vis.edges(data=True) if edge_attr['weight']==weight]\n",
    "    width = weight\n",
    "    nx.draw_networkx_edges(graph_with_weight_vis,pos,edgelist=weighted_edges,width=width)\n",
    "    nx.draw(graph_with_weight_vis, pos=pos, with_labels=True, font_size=20)"
   ]
  },
  {
   "cell_type": "code",
   "execution_count": 202,
   "metadata": {},
   "outputs": [
    {
     "data": {
      "text/plain": [
       "'在上周五刚刚结束的挑战的法则中由潘玮柏大张伟戚薇乔杉刘维于小彤组成的首发嘉宾阵容在经过第一期户外挑战和比拼之后迎来了他们首次舞台表演潘玮柏首发登场霸气演绎分裂的时光超完美表演惊艳全场当晚6位嘉宾纷纷放大招拿出自己最擅长的绝技为观众呈现了一场最完美的演出潘玮柏首发登场经典歌曲被遗忘的时光24个比利的全新改编演绎分裂的时光在原曲嘻哈流行的基础上加入弦乐伴奏与合唱团搭配瞬间气势磅礴充满张力尤其独有的潘氏低音炮一开嗓就引发全场尖叫苏到极致让人见识到什么是开口跪系列舞台上的潘玮柏霸气侧漏气场十足特别是高潮处呈现出的那种撕心裂肺的感觉仿佛能把人带到歌的故事里去这个改编跟原曲比起来节奏放缓了却在这缓慢抒情的演绎中又不缺乏爆发力像在对人们诉说着他的音乐他的追求超震撼演绎瞬间引发网友热议这个版本的24个比利太震撼了现场还是那么稳从头赞到尾的表演低音好撩人实力没得说不愧为初代偶像超级帅的现场很有感觉男神魅力依旧不减啊现场是真的稳'"
      ]
     },
     "execution_count": 202,
     "metadata": {},
     "output_type": "execute_result"
    }
   ],
   "source": [
    "sentences[1000]"
   ]
  },
  {
   "cell_type": "code",
   "execution_count": 203,
   "metadata": {},
   "outputs": [],
   "source": [
    "key_words = '奥巴马'"
   ]
  },
  {
   "cell_type": "code",
   "execution_count": 210,
   "metadata": {},
   "outputs": [],
   "source": [
    "hit_ids = []"
   ]
  },
  {
   "cell_type": "code",
   "execution_count": 211,
   "metadata": {},
   "outputs": [
    {
     "name": "stdout",
     "output_type": "stream",
     "text": [
      "0\n",
      "500\n",
      "1000\n",
      "1500\n",
      "2000\n",
      "2500\n",
      "3000\n",
      "3500\n",
      "4000\n",
      "4500\n"
     ]
    }
   ],
   "source": [
    "for i, sentence in enumerate(sentences[:5000]):\n",
    "    if i % 500 == 0: print(i)\n",
    "    if key_words in sentence:\n",
    "        hit_ids.append(i)"
   ]
  },
  {
   "cell_type": "code",
   "execution_count": 231,
   "metadata": {},
   "outputs": [],
   "source": [
    "total_dictionary = defaultdict(list)\n",
    "\n",
    "for _id in hit_ids[:10]:\n",
    "    for key, relation in get_name_correlate(sentences[_id]).items():\n",
    "        total_dictionary[key] += [name for name in relation]"
   ]
  },
  {
   "cell_type": "code",
   "execution_count": 232,
   "metadata": {},
   "outputs": [
    {
     "data": {
      "text/plain": [
       "50"
      ]
     },
     "execution_count": 232,
     "metadata": {},
     "output_type": "execute_result"
    }
   ],
   "source": [
    "len(total_dictionary)"
   ]
  },
  {
   "cell_type": "code",
   "execution_count": 233,
   "metadata": {},
   "outputs": [],
   "source": [
    "obama_graph = nx.Graph(total_dictionary)"
   ]
  },
  {
   "cell_type": "code",
   "execution_count": 238,
   "metadata": {},
   "outputs": [
    {
     "data": {
      "image/png": "[encoded data removed]",
      "text/plain": [
       "<Figure size 432x288 with 1 Axes>"
      ]
     },
     "metadata": {},
     "output_type": "display_data"
    }
   ],
   "source": [
    "pos = nx.circular_layout(obama_graph)\n",
    "nx.draw(obama_graph, pos=pos, with_labels=True, font_size=10)"
   ]
  },
  {
   "cell_type": "code",
   "execution_count": 216,
   "metadata": {},
   "outputs": [
    {
     "data": {
      "text/plain": [
       "'这封信是由ScottSchoettes代笔他代表LucyBradleySpringerGinaBrownUlyssesBurleyIIIMichelleOgle和GrisselGranados等其他五名委员宣布了这一决定在信中他解释说特朗普政府没有采取措施来制定打击这种疾病的策略而且最令人担忧的是推出不利于艾滋病毒感染者的法案1995年时任总统克林顿宣布成立PACHA为艾滋病的迅速传播提供建议在前任美国总统奥巴马总统的指示下该委员会帮助政府制定了一项新的国家战略旨在减少艾滋病感染减少卫生方面的不平等现象等Schoettes指出虽然委员会在初选期间会见了希拉里克林顿和参议员伯尼桑德斯但没有机会与当时的候选人特朗普会面他还指出特朗普还没有为白宫国家艾滋病政策办公室任命一个负责人这封信特别指出用美国医疗法案AmericanHealthCareAct取代奥巴马的平价医疗法案AffordableCareAct的提案对于艾滋病毒感染者来说尤其是毁灭性的'"
      ]
     },
     "execution_count": 216,
     "metadata": {},
     "output_type": "execute_result"
    }
   ],
   "source": [
    "sentences[633]"
   ]
  },
  {
   "cell_type": "code",
   "execution_count": 214,
   "metadata": {},
   "outputs": [
    {
     "data": {
      "text/plain": [
       "[367,\n",
       " 633,\n",
       " 828,\n",
       " 1670,\n",
       " 1691,\n",
       " 1916,\n",
       " 1935,\n",
       " 2062,\n",
       " 2076,\n",
       " 2079,\n",
       " 2336,\n",
       " 2347,\n",
       " 2354,\n",
       " 2524,\n",
       " 2771,\n",
       " 2797,\n",
       " 2818,\n",
       " 2862,\n",
       " 3044,\n",
       " 3502,\n",
       " 3520,\n",
       " 3530,\n",
       " 3578,\n",
       " 3640,\n",
       " 4188,\n",
       " 4239,\n",
       " 4244,\n",
       " 4422,\n",
       " 4556,\n",
       " 4680,\n",
       " 4814,\n",
       " 4937]"
      ]
     },
     "execution_count": 214,
     "metadata": {},
     "output_type": "execute_result"
    }
   ],
   "source": [
    "hit_ids"
   ]
  },
  {
   "cell_type": "markdown",
   "metadata": {},
   "source": [
    "## K-means文本聚类"
   ]
  },
  {
   "cell_type": "markdown",
   "metadata": {},
   "source": [
    "![](imgs/k-means_result.gif)"
   ]
  },
  {
   "cell_type": "markdown",
   "metadata": {},
   "source": [
    "![](imgs/k_means_2.png)"
   ]
  },
  {
   "cell_type": "code",
   "execution_count": 239,
   "metadata": {},
   "outputs": [],
   "source": [
    "import random"
   ]
  },
  {
   "cell_type": "code",
   "execution_count": 367,
   "metadata": {},
   "outputs": [],
   "source": [
    "points_num = 100\n",
    "\n",
    "random_x = [random.randint(-100, 100) for _ in range(points_num)]\n",
    "random_y = [random.randint(-100, 100) for _ in range(points_num)]"
   ]
  },
  {
   "cell_type": "code",
   "execution_count": 368,
   "metadata": {},
   "outputs": [],
   "source": [
    "random_poinsts = [(x, y) for x, y in zip(random_x, random_y)]"
   ]
  },
  {
   "cell_type": "code",
   "execution_count": 369,
   "metadata": {},
   "outputs": [
    {
     "data": {
      "text/plain": [
       "<matplotlib.collections.PathCollection at 0xa82c80358>"
      ]
     },
     "execution_count": 369,
     "metadata": {},
     "output_type": "execute_result"
    },
    {
     "data": {
      "image/png": "[encoded data removed]",
      "text/plain": [
       "<Figure size 432x288 with 1 Axes>"
      ]
     },
     "metadata": {
      "needs_background": "light"
     },
     "output_type": "display_data"
    }
   ],
   "source": [
    "plt.scatter(random_x, random_y)"
   ]
  },
  {
   "cell_type": "markdown",
   "metadata": {},
   "source": [
    "## ？想把上边的图，聚成3个cluster"
   ]
  },
  {
   "cell_type": "markdown",
   "metadata": {},
   "source": [
    "## 给定N个数据，每个数据是d维的一个向量 我们想把它自动聚类聚成k的类别\n",
    "\n",
    "## Step1: 随机初试K的点，点是随机的\n",
    "## Step2: 对于我们N个数据点里边的每一个数据，我们把它归类，找到离每个数据，最近的K个点的之一\n",
    "\n"
   ]
  },
  {
   "cell_type": "markdown",
   "metadata": {},
   "source": [
    "# Step1随机初始点"
   ]
  },
  {
   "cell_type": "code",
   "execution_count": 370,
   "metadata": {},
   "outputs": [],
   "source": [
    "def generate_random_point(min_, max_):\n",
    "    return random.randint(min_, max_), random.randint(min_, max_)"
   ]
  },
  {
   "cell_type": "code",
   "execution_count": 371,
   "metadata": {},
   "outputs": [],
   "source": [
    "k1, k2, k3 = generate_random_point(-100, 100), generate_random_point(-100, 100), generate_random_point(-100, 100)\n",
    "\n",
    "K = 5\n",
    "\n",
    "pervious_kernels = [generate_random_point(-100, 100) for _ in range(K)]"
   ]
  },
  {
   "cell_type": "code",
   "execution_count": 372,
   "metadata": {},
   "outputs": [
    {
     "data": {
      "text/plain": [
       "(65, -54)"
      ]
     },
     "execution_count": 372,
     "metadata": {},
     "output_type": "execute_result"
    }
   ],
   "source": [
    "k1"
   ]
  },
  {
   "cell_type": "code",
   "execution_count": 373,
   "metadata": {},
   "outputs": [
    {
     "data": {
      "text/plain": [
       "(74, 68)"
      ]
     },
     "execution_count": 373,
     "metadata": {},
     "output_type": "execute_result"
    }
   ],
   "source": [
    "k2"
   ]
  },
  {
   "cell_type": "code",
   "execution_count": 374,
   "metadata": {},
   "outputs": [
    {
     "data": {
      "text/plain": [
       "(33, -88)"
      ]
     },
     "execution_count": 374,
     "metadata": {},
     "output_type": "execute_result"
    }
   ],
   "source": [
    "k3"
   ]
  },
  {
   "cell_type": "code",
   "execution_count": 375,
   "metadata": {},
   "outputs": [
    {
     "data": {
      "text/plain": [
       "<matplotlib.collections.PathCollection at 0xa82bf7668>"
      ]
     },
     "execution_count": 375,
     "metadata": {},
     "output_type": "execute_result"
    },
    {
     "data": {
      "image/png": "[encoded data removed]",
      "text/plain": [
       "<Figure size 432x288 with 1 Axes>"
      ]
     },
     "metadata": {
      "needs_background": "light"
     },
     "output_type": "display_data"
    }
   ],
   "source": [
    "plt.scatter([pervious_kernels[0][0]], [pervious_kernels[0][1]], color='red', s=100)\n",
    "plt.scatter([pervious_kernels[1][0]], [pervious_kernels[1][1]], color='green', s=100)\n",
    "plt.scatter([pervious_kernels[2][0]], [pervious_kernels[2][1]], color='yellow', s=100)\n",
    "plt.scatter([pervious_kernels[3][0]], [pervious_kernels[3][1]], color='yellow', s=100)\n",
    "plt.scatter([pervious_kernels[4][0]], [pervious_kernels[4][1]], color='yellow', s=100)\n",
    "\n",
    "plt.scatter(random_x, random_y)"
   ]
  },
  {
   "cell_type": "code",
   "execution_count": 376,
   "metadata": {},
   "outputs": [],
   "source": [
    "def dis(p1, p2):\n",
    "    return np.sqrt((p1[0] - p2[0]) ** 2 + (p1[1] - p2[1]) ** 2)"
   ]
  },
  {
   "cell_type": "code",
   "execution_count": 360,
   "metadata": {},
   "outputs": [],
   "source": [
    "import numpy as np"
   ]
  },
  {
   "cell_type": "code",
   "execution_count": 361,
   "metadata": {},
   "outputs": [
    {
     "data": {
      "text/plain": [
       "2"
      ]
     },
     "execution_count": 361,
     "metadata": {},
     "output_type": "execute_result"
    }
   ],
   "source": [
    "np.argmin([10, 9, 8, 9, 10])"
   ]
  },
  {
   "cell_type": "code",
   "execution_count": 319,
   "metadata": {},
   "outputs": [],
   "source": []
  },
  {
   "cell_type": "code",
   "execution_count": 320,
   "metadata": {},
   "outputs": [
    {
     "data": {
      "text/plain": [
       "5"
      ]
     },
     "execution_count": 320,
     "metadata": {},
     "output_type": "execute_result"
    }
   ],
   "source": [
    "len(groups)"
   ]
  },
  {
   "cell_type": "code",
   "execution_count": 377,
   "metadata": {},
   "outputs": [],
   "source": [
    "previous_kernels = [generate_random_point(-100, 100) for _ in range(K)]"
   ]
  },
  {
   "cell_type": "code",
   "execution_count": 378,
   "metadata": {},
   "outputs": [],
   "source": []
  },
  {
   "cell_type": "code",
   "execution_count": 387,
   "metadata": {},
   "outputs": [
    {
     "name": "stdout",
     "output_type": "stream",
     "text": [
      "red\n",
      "根据新的Group获得的kernal和之前的kernel的距离是: 0.0\n",
      "green\n",
      "根据新的Group获得的kernal和之前的kernel的距离是: 0.0\n",
      "yellow\n",
      "根据新的Group获得的kernal和之前的kernel的距离是: 0.0\n",
      "blue\n",
      "根据新的Group获得的kernal和之前的kernel的距离是: 0.0\n",
      "purple\n",
      "根据新的Group获得的kernal和之前的kernel的距离是: 0.0\n"
     ]
    },
    {
     "data": {
      "image/png": "[encoded data removed]",
      "text/plain": [
       "<Figure size 432x288 with 1 Axes>"
      ]
     },
     "metadata": {
      "needs_background": "light"
     },
     "output_type": "display_data"
    }
   ],
   "source": [
    "kernel_colors = ['red', 'green', 'yellow', 'blue', 'purple']\n",
    "\n",
    "new_kernels = []\n",
    "\n",
    "groups = [[] for _ in range(K)] \n",
    "\n",
    "\n",
    "for p in random_poinsts:\n",
    "    distances = [dis(p, k) for k in previous_kernels]\n",
    "    \n",
    "    min_index = np.argmin(distances)\n",
    "    \n",
    "    groups[min_index].append(p)\n",
    "    \n",
    "for i, p in enumerate(previous_kernels):\n",
    "    plt.scatter([p[0]], [p[1]], color=kernel_colors[i], s=100)\n",
    "#plt.scatter([previous_kernels[1][0]], [previous_kernels[1][1]], color=kernel_colors[1], s=100)\n",
    "#plt.scatter([previous_kernels[2][0]], [previous_kernels[2][1]], color=kernel_colors[2], s=100)\n",
    "\n",
    "\n",
    "for i, g in enumerate(groups):\n",
    "    g_x = [_x for _x, _y in g]\n",
    "    g_y = [_y for _x, _y in g]\n",
    "    \n",
    "    n_k_x, n_k_y = np.mean(g_x), np.mean(g_y)\n",
    "    new_kernels.append((n_k_x, n_k_y))\n",
    "    \n",
    "    print(kernel_colors[i])\n",
    "    plt.scatter(g_x, g_y, color=kernel_colors[i])\n",
    "   # plt.scatter([n_k_x], [n_k_y], color=kernel_colors[i], alpha=0.5, s=200)\n",
    "    \n",
    "    print('根据新的Group获得的kernal和之前的kernel的距离是: {}'.format(dis((n_k_x, n_k_y), \n",
    "                                                            previous_kernels[i])))\n",
    "\n",
    "#plt.scatter(random_x, random_y, s=10)\n",
    "\n",
    "previous_kernels = new_kernels"
   ]
  },
  {
   "cell_type": "code",
   "execution_count": 388,
   "metadata": {},
   "outputs": [
    {
     "name": "stdout",
     "output_type": "stream",
     "text": [
      "根据新的Group获得的kernal和之前的kernel的距离是: 0.0\n",
      "根据新的Group获得的kernal和之前的kernel的距离是: 0.0\n",
      "根据新的Group获得的kernal和之前的kernel的距离是: 0.0\n",
      "根据新的Group获得的kernal和之前的kernel的距离是: 0.0\n",
      "根据新的Group获得的kernal和之前的kernel的距离是: 0.0\n"
     ]
    },
    {
     "data": {
      "image/png": "[encoded data removed]",
      "text/plain": [
       "<Figure size 432x288 with 1 Axes>"
      ]
     },
     "metadata": {
      "needs_background": "light"
     },
     "output_type": "display_data"
    }
   ],
   "source": [
    "\n",
    "for p in random_poinsts:\n",
    "    distances = [dis(p, k) for k in previous_kernels]\n",
    "    \n",
    "    min_index = np.argmin(distances)\n",
    "    \n",
    "    groups[min_index].append(p)\n",
    "\n",
    "plt.scatter([previous_kernels[0][0]], [previous_kernels[0][1]], color=kernel_colors[0], s=100)\n",
    "plt.scatter([previous_kernels[1][0]], [previous_kernels[1][1]], color=kernel_colors[1], s=100)\n",
    "plt.scatter([previous_kernels[2][0]], [previous_kernels[2][1]], color=kernel_colors[2], s=100)\n",
    "\n",
    "new_kernels = []\n",
    "\n",
    "for i, g in enumerate(groups):\n",
    "    g_x = [_x for _x, _y in g]\n",
    "    g_y = [_y for _x, _y in g]\n",
    "    \n",
    "    n_k_x, n_k_y = np.mean(g_x), np.mean(g_y)\n",
    "    new_kernels.append((n_k_x, n_k_y))\n",
    "    \n",
    "    plt.scatter(g_x, g_y, color=kernel_colors[i])\n",
    "    plt.scatter([n_k_x], [n_k_y], color=kernel_colors[i], alpha=0.5, s=200)\n",
    "    \n",
    "    print('根据新的Group获得的kernal和之前的kernel的距离是: {}'.format(dis((n_k_x, n_k_y), \n",
    "                                                            previous_kernels[i])))\n",
    "#    plt.scatter()\n",
    "\n",
    "#plt.scatter(random_x, random_y, s=10)"
   ]
  },
  {
   "cell_type": "code",
   "execution_count": 290,
   "metadata": {},
   "outputs": [],
   "source": [
    "previous_kernels = new_kernels"
   ]
  },
  {
   "cell_type": "code",
   "execution_count": 291,
   "metadata": {},
   "outputs": [
    {
     "name": "stdout",
     "output_type": "stream",
     "text": [
      "根据新的Group获得的kernal和之前的kernel的距离是: 0.0\n",
      "根据新的Group获得的kernal和之前的kernel的距离是: 0.0\n",
      "根据新的Group获得的kernal和之前的kernel的距离是: 0.0\n"
     ]
    },
    {
     "data": {
      "image/png": "[encoded data removed]",
      "text/plain": [
       "<Figure size 432x288 with 1 Axes>"
      ]
     },
     "metadata": {
      "needs_background": "light"
     },
     "output_type": "display_data"
    }
   ],
   "source": [
    "groups = [[], [], []]\n",
    "\n",
    "for p in random_poinsts:\n",
    "    distances = [dis(p, k) for k in previous_kernels]\n",
    "    \n",
    "    min_index = np.argmin(distances)\n",
    "    \n",
    "    groups[min_index].append(p)\n",
    "\n",
    "plt.scatter([previous_kernels[0][0]], [previous_kernels[0][1]], color=kernel_colors[0], s=100)\n",
    "plt.scatter([previous_kernels[1][0]], [previous_kernels[1][1]], color=kernel_colors[1], s=100)\n",
    "plt.scatter([previous_kernels[2][0]], [previous_kernels[2][1]], color=kernel_colors[2], s=100)\n",
    "\n",
    "new_kernels = []\n",
    "\n",
    "for i, g in enumerate(groups):\n",
    "    g_x = [_x for _x, _y in g]\n",
    "    g_y = [_y for _x, _y in g]\n",
    "    \n",
    "    n_k_x, n_k_y = np.mean(g_x), np.mean(g_y)\n",
    "    new_kernels.append((n_k_x, n_k_y))\n",
    "    \n",
    "    plt.scatter(g_x, g_y, color=kernel_colors[i])\n",
    "    plt.scatter([n_k_x], [n_k_y], color=kernel_colors[i], alpha=0.5, s=200)\n",
    "    \n",
    "    print('根据新的Group获得的kernal和之前的kernel的距离是: {}'.format(dis((n_k_x, n_k_y), \n",
    "                                                            previous_kernels[i])))\n",
    "#    plt.scatter()\n",
    "\n",
    "#plt.scatter(random_x, random_y, s=10)"
   ]
  },
  {
   "cell_type": "code",
   "execution_count": 292,
   "metadata": {},
   "outputs": [],
   "source": [
    "previous_kernels = new_kernels"
   ]
  },
  {
   "cell_type": "code",
   "execution_count": 293,
   "metadata": {},
   "outputs": [
    {
     "name": "stdout",
     "output_type": "stream",
     "text": [
      "根据新的Group获得的kernal和之前的kernel的距离是: 0.0\n",
      "根据新的Group获得的kernal和之前的kernel的距离是: 0.0\n",
      "根据新的Group获得的kernal和之前的kernel的距离是: 0.0\n"
     ]
    },
    {
     "data": {
      "image/png": "[encoded data removed]",
      "text/plain": [
       "<Figure size 432x288 with 1 Axes>"
      ]
     },
     "metadata": {
      "needs_background": "light"
     },
     "output_type": "display_data"
    }
   ],
   "source": [
    "groups = [[], [], []]\n",
    "\n",
    "for p in random_poinsts:\n",
    "    distances = [dis(p, k) for k in previous_kernels]\n",
    "    \n",
    "    min_index = np.argmin(distances)\n",
    "    \n",
    "    groups[min_index].append(p)\n",
    "\n",
    "plt.scatter([previous_kernels[0][0]], [previous_kernels[0][1]], color=kernel_colors[0], s=100)\n",
    "plt.scatter([previous_kernels[1][0]], [previous_kernels[1][1]], color=kernel_colors[1], s=100)\n",
    "plt.scatter([previous_kernels[2][0]], [previous_kernels[2][1]], color=kernel_colors[2], s=100)\n",
    "\n",
    "new_kernels = []\n",
    "\n",
    "for i, g in enumerate(groups):\n",
    "    g_x = [_x for _x, _y in g]\n",
    "    g_y = [_y for _x, _y in g]\n",
    "    \n",
    "    n_k_x, n_k_y = np.mean(g_x), np.mean(g_y)\n",
    "    new_kernels.append((n_k_x, n_k_y))\n",
    "    \n",
    "    plt.scatter(g_x, g_y, color=kernel_colors[i])\n",
    "    plt.scatter([n_k_x], [n_k_y], color=kernel_colors[i], alpha=0.5, s=200)\n",
    "    \n",
    "    print('根据新的Group获得的kernal和之前的kernel的距离是: {}'.format(dis((n_k_x, n_k_y), \n",
    "                                                            previous_kernels[i])))\n",
    "#    plt.scatter()\n",
    "\n",
    "#plt.scatter(random_x, random_y, s=10)"
   ]
  },
  {
   "cell_type": "code",
   "execution_count": 294,
   "metadata": {},
   "outputs": [
    {
     "data": {
      "text/plain": [
       "[(-52.333333333333336, 42.666666666666664), (46.0, 66.0), (-4.8125, -53.8125)]"
      ]
     },
     "execution_count": 294,
     "metadata": {},
     "output_type": "execute_result"
    }
   ],
   "source": [
    "new_kernels"
   ]
  },
  {
   "cell_type": "code",
   "execution_count": 280,
   "metadata": {},
   "outputs": [],
   "source": [
    "plt.scatter?"
   ]
  },
  {
   "cell_type": "code",
   "execution_count": null,
   "metadata": {},
   "outputs": [],
   "source": [
    "k1, k2, k3 = "
   ]
  }
 ],
 "metadata": {
  "kernelspec": {
   "display_name": "Python 3",
   "language": "python",
   "name": "python3"
  },
  "language_info": {
   "codemirror_mode": {
    "name": "ipython",
    "version": 3
   },
   "file_extension": ".py",
   "mimetype": "text/x-python",
   "name": "python",
   "nbconvert_exporter": "python",
   "pygments_lexer": "ipython3",
   "version": "3.7.3"
  }
 },
 "nbformat": 4,
 "nbformat_minor": 2
}
