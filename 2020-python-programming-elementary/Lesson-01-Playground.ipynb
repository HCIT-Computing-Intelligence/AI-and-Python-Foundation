{
 "cells": [
  {
   "cell_type": "markdown",
   "metadata": {},
   "source": [
    "## 练习场: 从24点游戏的解法，开始Python编程"
   ]
  },
  {
   "cell_type": "markdown",
   "metadata": {},
   "source": [
    "> The 24 Game is an arithmetical card game in which the objective is to find a way to manipulate four integers so that the end result is 24. For example, for the card with the numbers 4, 7, 8, 8, a possible solution is {\\displaystyle (7-(8\\div 8))\\times 4=24}.\n",
    "\n",
    "> The game has been played in Shanghai since the 1960s, using playing cards. It has been known by other names, including Maths24, but these products are not associated with the copyrighted versions of the 24® Game."
   ]
  },
  {
   "cell_type": "markdown",
   "metadata": {},
   "source": [
    "![](imgs/24pint.jpg)"
   ]
  },
  {
   "cell_type": "markdown",
   "metadata": {},
   "source": [
    "## 第一中解法"
   ]
  },
  {
   "cell_type": "markdown",
   "metadata": {},
   "source": [
    "你有4张牌，随机抽出来的， 1 .. 14, 经过加减乘除，最后的结果，变成24"
   ]
  },
  {
   "cell_type": "code",
   "execution_count": 1,
   "metadata": {},
   "outputs": [],
   "source": [
    "car1 = 9\n",
    "car2 = 10\n",
    "car3 = 11\n",
    "car4 = 6"
   ]
  },
  {
   "cell_type": "code",
   "execution_count": 2,
   "metadata": {},
   "outputs": [
    {
     "data": {
      "text/plain": [
       "30"
      ]
     },
     "execution_count": 2,
     "metadata": {},
     "output_type": "execute_result"
    }
   ],
   "source": [
    "9 + 10 + 11"
   ]
  },
  {
   "cell_type": "code",
   "execution_count": 3,
   "metadata": {},
   "outputs": [
    {
     "data": {
      "text/plain": [
       "24"
      ]
     },
     "execution_count": 3,
     "metadata": {},
     "output_type": "execute_result"
    }
   ],
   "source": [
    "30 - 6"
   ]
  },
  {
   "cell_type": "code",
   "execution_count": 4,
   "metadata": {},
   "outputs": [],
   "source": [
    "result = car1 + car2 + car3 - car4"
   ]
  },
  {
   "cell_type": "code",
   "execution_count": 5,
   "metadata": {},
   "outputs": [
    {
     "name": "stdout",
     "output_type": "stream",
     "text": [
      "24\n"
     ]
    }
   ],
   "source": [
    "print(result)"
   ]
  },
  {
   "cell_type": "code",
   "execution_count": 6,
   "metadata": {},
   "outputs": [],
   "source": [
    "car1 = 3\n",
    "car2 = 5\n",
    "car3 = 6\n",
    "car4 = 7"
   ]
  },
  {
   "cell_type": "code",
   "execution_count": 10,
   "metadata": {},
   "outputs": [
    {
     "data": {
      "text/plain": [
       "15.857142857142858"
      ]
     },
     "execution_count": 10,
     "metadata": {},
     "output_type": "execute_result"
    }
   ],
   "source": [
    "car1 * (car3 - car2 / car4)"
   ]
  },
  {
   "cell_type": "markdown",
   "metadata": {},
   "source": [
    "## 以上是我们知道了答案，然后让计算机计算出结果"
   ]
  },
  {
   "cell_type": "markdown",
   "metadata": {},
   "source": [
    "## 怎么样让计算机帮助我们计算呢?"
   ]
  },
  {
   "cell_type": "markdown",
   "metadata": {},
   "source": [
    "## 瞎猜"
   ]
  },
  {
   "cell_type": "code",
   "execution_count": 11,
   "metadata": {},
   "outputs": [],
   "source": [
    "car1 = 9\n",
    "car2 = 10\n",
    "car3 = 11\n",
    "car4 = 6"
   ]
  },
  {
   "cell_type": "code",
   "execution_count": 12,
   "metadata": {},
   "outputs": [],
   "source": [
    "import random"
   ]
  },
  {
   "cell_type": "code",
   "execution_count": 19,
   "metadata": {},
   "outputs": [
    {
     "data": {
      "text/plain": [
       "3"
      ]
     },
     "execution_count": 19,
     "metadata": {},
     "output_type": "execute_result"
    }
   ],
   "source": [
    "random.randint(1, 10)"
   ]
  },
  {
   "cell_type": "code",
   "execution_count": 25,
   "metadata": {},
   "outputs": [
    {
     "data": {
      "text/plain": [
       "'5'"
      ]
     },
     "execution_count": 25,
     "metadata": {},
     "output_type": "execute_result"
    }
   ],
   "source": [
    "random.choice('12345')"
   ]
  },
  {
   "cell_type": "code",
   "execution_count": 29,
   "metadata": {},
   "outputs": [],
   "source": [
    "operator1 = '+'\n",
    "operator2 = '-'\n",
    "operator3 = '*'\n",
    "operator4 = '/'"
   ]
  },
  {
   "cell_type": "code",
   "execution_count": 30,
   "metadata": {},
   "outputs": [],
   "source": [
    "operators = ['+', '-', '*', '/']"
   ]
  },
  {
   "cell_type": "code",
   "execution_count": 32,
   "metadata": {},
   "outputs": [
    {
     "data": {
      "text/plain": [
       "'+'"
      ]
     },
     "execution_count": 32,
     "metadata": {},
     "output_type": "execute_result"
    }
   ],
   "source": [
    "operators[0]"
   ]
  },
  {
   "cell_type": "code",
   "execution_count": 33,
   "metadata": {},
   "outputs": [
    {
     "data": {
      "text/plain": [
       "'*'"
      ]
     },
     "execution_count": 33,
     "metadata": {},
     "output_type": "execute_result"
    }
   ],
   "source": [
    "operators[2]"
   ]
  },
  {
   "cell_type": "code",
   "execution_count": 35,
   "metadata": {},
   "outputs": [],
   "source": []
  },
  {
   "cell_type": "code",
   "execution_count": 36,
   "metadata": {},
   "outputs": [
    {
     "data": {
      "text/plain": [
       "'/'"
      ]
     },
     "execution_count": 36,
     "metadata": {},
     "output_type": "execute_result"
    }
   ],
   "source": []
  },
  {
   "cell_type": "code",
   "execution_count": 58,
   "metadata": {},
   "outputs": [
    {
     "name": "stdout",
     "output_type": "stream",
     "text": [
      "+\n"
     ]
    }
   ],
   "source": [
    "some_operator = operators[0]\n",
    "#some_operator = '^'\n",
    "\n",
    "print(some_operator)\n",
    "\n",
    "number1, number2 = 10, 5\n",
    "\n",
    "def op(number1, number2, operator):\n",
    "    if operator == '/':\n",
    "        return number1 / number2\n",
    "    if operator == '+':\n",
    "        return number1 + number2\n",
    "    if operator == '-': \n",
    "        return number1 - number2\n",
    "    if operator == '*':\n",
    "        return number1 * number2\n",
    "    else:\n",
    "        raise TypeError('不支持你刚刚输出的操作')        "
   ]
  },
  {
   "cell_type": "code",
   "execution_count": 53,
   "metadata": {},
   "outputs": [],
   "source": [
    "result = op(1, 2, '*')"
   ]
  },
  {
   "cell_type": "code",
   "execution_count": 54,
   "metadata": {},
   "outputs": [
    {
     "data": {
      "text/plain": [
       "2"
      ]
     },
     "execution_count": 54,
     "metadata": {},
     "output_type": "execute_result"
    }
   ],
   "source": [
    "result"
   ]
  },
  {
   "cell_type": "code",
   "execution_count": 55,
   "metadata": {},
   "outputs": [
    {
     "data": {
      "text/plain": [
       "2"
      ]
     },
     "execution_count": 55,
     "metadata": {},
     "output_type": "execute_result"
    }
   ],
   "source": [
    "op(1, 2, '*')"
   ]
  },
  {
   "cell_type": "code",
   "execution_count": 63,
   "metadata": {},
   "outputs": [
    {
     "data": {
      "text/plain": [
       "10"
      ]
     },
     "execution_count": 63,
     "metadata": {},
     "output_type": "execute_result"
    }
   ],
   "source": [
    "数据1 = 1\n",
    "数据10 = 10\n",
    "\n",
    "op(数据1, 数据10, '*')"
   ]
  },
  {
   "cell_type": "code",
   "execution_count": 64,
   "metadata": {},
   "outputs": [
    {
     "data": {
      "text/plain": [
       "'110'"
      ]
     },
     "execution_count": 64,
     "metadata": {},
     "output_type": "execute_result"
    }
   ],
   "source": [
    "另外一个数据1 = '1'\n",
    "另外一个数据10 = '10'\n",
    "\n",
    "op(另外一个数据1, 另外一个数据10, '+')"
   ]
  },
  {
   "cell_type": "markdown",
   "metadata": {},
   "source": [
    "## 数据类型"
   ]
  },
  {
   "cell_type": "markdown",
   "metadata": {},
   "source": [
    "~ 同样一句话，一个命令，给不同的人说，是不是反馈不一样？为什么，因为他们的类型不一样"
   ]
  },
  {
   "cell_type": "code",
   "execution_count": 81,
   "metadata": {},
   "outputs": [
    {
     "data": {
      "text/plain": [
       "'-'"
      ]
     },
     "execution_count": 81,
     "metadata": {},
     "output_type": "execute_result"
    }
   ],
   "source": [
    "random.choice(operators)"
   ]
  },
  {
   "cell_type": "code",
   "execution_count": 78,
   "metadata": {},
   "outputs": [],
   "source": [
    "some_number = 10\n",
    "some_number_2 = 14"
   ]
  },
  {
   "cell_type": "code",
   "execution_count": 107,
   "metadata": {},
   "outputs": [],
   "source": [
    "def random_op(): \n",
    "    return random.choice(operators)"
   ]
  },
  {
   "cell_type": "code",
   "execution_count": 111,
   "metadata": {},
   "outputs": [
    {
     "data": {
      "text/plain": [
       "140"
      ]
     },
     "execution_count": 111,
     "metadata": {},
     "output_type": "execute_result"
    }
   ],
   "source": [
    "op(some_number, some_number_2, random_op())"
   ]
  },
  {
   "cell_type": "code",
   "execution_count": 112,
   "metadata": {},
   "outputs": [],
   "source": [
    "car1 = 9\n",
    "car2 = 10\n",
    "car3 = 11\n",
    "car4 = 6"
   ]
  },
  {
   "cell_type": "code",
   "execution_count": 113,
   "metadata": {},
   "outputs": [],
   "source": []
  },
  {
   "cell_type": "code",
   "execution_count": 114,
   "metadata": {},
   "outputs": [
    {
     "data": {
      "text/plain": [
       "-1"
      ]
     },
     "execution_count": 114,
     "metadata": {},
     "output_type": "execute_result"
    }
   ],
   "source": [
    "result_of_first_two_cards"
   ]
  },
  {
   "cell_type": "code",
   "execution_count": 115,
   "metadata": {},
   "outputs": [],
   "source": []
  },
  {
   "cell_type": "code",
   "execution_count": 116,
   "metadata": {},
   "outputs": [
    {
     "data": {
      "text/plain": [
       "-11"
      ]
     },
     "execution_count": 116,
     "metadata": {},
     "output_type": "execute_result"
    }
   ],
   "source": [
    "result_of_first_three_cards"
   ]
  },
  {
   "cell_type": "code",
   "execution_count": 329,
   "metadata": {
    "scrolled": true
   },
   "outputs": [
    {
     "name": "stdout",
     "output_type": "stream",
     "text": [
      "我找到方法啦😁: 9 + 10 + 11 - 6\n",
      "我找到方法啦😁: 9 + 10 + 11 - 6\n",
      "0.02\n"
     ]
    }
   ],
   "source": [
    "result_found_num = 0\n",
    "total_tests = 100\n",
    "\n",
    "for i in range(total_tests):\n",
    "    op1 = random_op()\n",
    "    result_of_first_two_cards = op(car1, car2, op1)\n",
    "\n",
    "    op2 = random_op()\n",
    "    result_of_first_three_cards = op(result_of_first_two_cards, car3, op2)\n",
    "\n",
    "    op3 = random_op()\n",
    "    result_of_total = op(result_of_first_three_cards, car4, op3)\n",
    "\n",
    "    if result_of_total == 24:\n",
    "        print('我找到方法啦😁: {} {} {} {} {} {} {}'.format(car1, op1, car2, op2, car3, op3, car4))\n",
    "        #print(op1, op2, op3)\n",
    "        #result_found_num = result_found_num + 1\n",
    "        result_found_num += 1\n",
    "    \n",
    "print(result_found_num / total_tests)"
   ]
  },
  {
   "cell_type": "markdown",
   "metadata": {},
   "source": [
    "# 思考：每个位置有4种组合，一共有 4 * 4 * 4 = 64种组合，那么，随机找到的概率大约是1/64 约等于0.0156"
   ]
  },
  {
   "cell_type": "markdown",
   "metadata": {},
   "source": [
    "## 蒙克卡罗模拟"
   ]
  },
  {
   "cell_type": "markdown",
   "metadata": {},
   "source": [
    "## 随机找到运算符答案"
   ]
  },
  {
   "cell_type": "code",
   "execution_count": 334,
   "metadata": {},
   "outputs": [],
   "source": [
    "def get_right_answer_by_random(card1, card2, card3, card4):\n",
    "    result_found_num = 0\n",
    "    total_tests = 1000\n",
    "\n",
    "    for i in range(total_tests):\n",
    "        op1 = random_op()\n",
    "        result_of_first_two_cards = op(card1, card2, op1)\n",
    "\n",
    "        op2 = random_op()\n",
    "        result_of_first_three_cards = op(result_of_first_two_cards, card3, op2)\n",
    "\n",
    "        op3 = random_op()\n",
    "        result_of_total = op(result_of_first_three_cards, card4, op3)\n",
    "\n",
    "        if result_of_total == 24:\n",
    "            print('我找到方法啦😁: {} {} {} {} {} {} {}'.format(card1, op1, card2, op2, card3, op3, card4))\n",
    "            #print(op1, op2, op3)\n",
    "            #result_found_num = result_found_num + 1\n",
    "            result_found_num += 1\n",
    "\n",
    "    print(result_found_num / total_tests)"
   ]
  },
  {
   "cell_type": "code",
   "execution_count": 351,
   "metadata": {},
   "outputs": [
    {
     "name": "stdout",
     "output_type": "stream",
     "text": [
      "我找到方法啦😁: 5 + 10 - 11 * 6\n",
      "我找到方法啦😁: 5 + 10 - 11 * 6\n",
      "我找到方法啦😁: 5 + 10 - 11 * 6\n",
      "我找到方法啦😁: 5 + 10 - 11 * 6\n",
      "我找到方法啦😁: 5 + 10 - 11 * 6\n",
      "我找到方法啦😁: 5 + 10 - 11 * 6\n",
      "我找到方法啦😁: 5 + 10 - 11 * 6\n",
      "我找到方法啦😁: 5 + 10 - 11 * 6\n",
      "我找到方法啦😁: 5 + 10 - 11 * 6\n",
      "我找到方法啦😁: 5 + 10 - 11 * 6\n",
      "我找到方法啦😁: 5 + 10 - 11 * 6\n",
      "我找到方法啦😁: 5 + 10 - 11 * 6\n",
      "0.012\n"
     ]
    }
   ],
   "source": [
    "car1 = 5\n",
    "car2 = 10\n",
    "car3 = 11\n",
    "car4 = 6\n",
    "\n",
    "get_right_answer_by_random(car1, car2, car3, car4)"
   ]
  },
  {
   "cell_type": "code",
   "execution_count": 353,
   "metadata": {},
   "outputs": [],
   "source": [
    "new_card1 = random.randint(1, 14)\n",
    "new_card2 = random.randint(1, 14)\n",
    "new_card3 = random.randint(1, 14)\n",
    "new_card4 = random.randint(1, 14)"
   ]
  },
  {
   "cell_type": "markdown",
   "metadata": {},
   "source": [
    "## DRY 法则"
   ]
  },
  {
   "cell_type": "markdown",
   "metadata": {},
   "source": [
    "## Don't Repeat Yourself"
   ]
  },
  {
   "cell_type": "markdown",
   "metadata": {},
   "source": [
    "## Repetition is the mother of evil"
   ]
  },
  {
   "cell_type": "code",
   "execution_count": 391,
   "metadata": {},
   "outputs": [],
   "source": [
    "def rand_card(): \n",
    "    return random.randint(1, 14)"
   ]
  },
  {
   "cell_type": "code",
   "execution_count": 401,
   "metadata": {},
   "outputs": [],
   "source": [
    "# new_card1 = random.randint(1, 14)\n",
    "# new_card2 = random.randint(1, 14)\n",
    "# new_card3 = random.randint(1, 14)\n",
    "# new_card4 = random.randint(1, 14)\n",
    "\n",
    "new_card1 = rand_card()\n",
    "new_card2 = rand_card()\n",
    "new_card3 = rand_card()\n",
    "new_card4 = rand_card()\n",
    "\n",
    "new_cards = [rand_card() for i in range(4)]\n",
    "\n",
    "# for i in range(4):\n",
    "#     new_cards.append(rand_card())"
   ]
  },
  {
   "cell_type": "code",
   "execution_count": 409,
   "metadata": {},
   "outputs": [],
   "source": [
    "new_cards = [rand_card() for _ in range(4)]"
   ]
  },
  {
   "cell_type": "code",
   "execution_count": 390,
   "metadata": {},
   "outputs": [
    {
     "name": "stdout",
     "output_type": "stream",
     "text": [
      "0.0\n"
     ]
    }
   ],
   "source": [
    "get_right_answer_by_random(new_card1, new_card2, new_card3, new_card4)"
   ]
  },
  {
   "cell_type": "code",
   "execution_count": 473,
   "metadata": {},
   "outputs": [],
   "source": [
    "def get_right_answer_by_random(cards):\n",
    "    card1, card2, card3, card4 = cards\n",
    "    result_found_num = 0\n",
    "    total_tests = 2000\n",
    "    \n",
    "    TARGET = 24\n",
    "\n",
    "    for i in range(total_tests):\n",
    "        op1 = random_op() # <-\n",
    "        result_of_first_two_cards = op(card1, card2, op1)\n",
    "\n",
    "        op2 = random_op()\n",
    "        result_of_first_three_cards = op(result_of_first_two_cards, card3, op2)\n",
    "\n",
    "        op3 = random_op()\n",
    "        result_of_total = op(result_of_first_three_cards, card4, op3)\n",
    "\n",
    "        if result_of_total == TARGET:\n",
    "            print('我找到方法啦😁: (({} {} {}) {} {}) {} {}'.format(card1, op1, card2, op2, card3, op3, card4))\n",
    "            #print(op1, op2, op3)\n",
    "            #result_found_num = result_found_num + 1\n",
    "            result_found_num += 1\n",
    "\n",
    "    print(result_found_num / total_tests)"
   ]
  },
  {
   "cell_type": "code",
   "execution_count": 451,
   "metadata": {},
   "outputs": [
    {
     "name": "stdout",
     "output_type": "stream",
     "text": [
      "我抽到的牌是:[9, 10, 3, 4]\n",
      "0.0\n"
     ]
    }
   ],
   "source": [
    "new_cards = [rand_card() for _ in range(4)]\n",
    "\n",
    "print('我抽到的牌是:{}'.format(new_cards))\n",
    "\n",
    "get_right_answer_by_random(new_cards)"
   ]
  },
  {
   "cell_type": "code",
   "execution_count": 452,
   "metadata": {},
   "outputs": [
    {
     "data": {
      "text/plain": [
       "'a b'"
      ]
     },
     "execution_count": 452,
     "metadata": {},
     "output_type": "execute_result"
    }
   ],
   "source": [
    "'a b'"
   ]
  },
  {
   "cell_type": "code",
   "execution_count": null,
   "metadata": {},
   "outputs": [],
   "source": [
    "_ _"
   ]
  },
  {
   "cell_type": "markdown",
   "metadata": {},
   "source": [
    "## 从多个collections中，每个collection取出一个元素，\n",
    "## 构成新的 collection，我们把这个过程，叫做“笛卡尔乘积”"
   ]
  },
  {
   "cell_type": "code",
   "execution_count": 454,
   "metadata": {},
   "outputs": [],
   "source": [
    "collection1 = \"You are my best friend\".split()"
   ]
  },
  {
   "cell_type": "code",
   "execution_count": 456,
   "metadata": {},
   "outputs": [],
   "source": [
    "collection2 = \"Dog Cat Apple\".split()"
   ]
  },
  {
   "cell_type": "code",
   "execution_count": 457,
   "metadata": {},
   "outputs": [
    {
     "data": {
      "text/plain": [
       "['You', 'are', 'my', 'best', 'friend']"
      ]
     },
     "execution_count": 457,
     "metadata": {},
     "output_type": "execute_result"
    }
   ],
   "source": [
    "collection1"
   ]
  },
  {
   "cell_type": "code",
   "execution_count": 458,
   "metadata": {},
   "outputs": [
    {
     "data": {
      "text/plain": [
       "['Dog', 'Cat', 'Apple']"
      ]
     },
     "execution_count": 458,
     "metadata": {},
     "output_type": "execute_result"
    }
   ],
   "source": [
    "collection2"
   ]
  },
  {
   "cell_type": "code",
   "execution_count": 459,
   "metadata": {},
   "outputs": [],
   "source": [
    "from itertools import product"
   ]
  },
  {
   "cell_type": "code",
   "execution_count": 465,
   "metadata": {},
   "outputs": [
    {
     "data": {
      "text/plain": [
       "['+', '-', '*', '/']"
      ]
     },
     "execution_count": 465,
     "metadata": {},
     "output_type": "execute_result"
    }
   ],
   "source": [
    "operators"
   ]
  },
  {
   "cell_type": "code",
   "execution_count": 467,
   "metadata": {
    "collapsed": true
   },
   "outputs": [
    {
     "name": "stdout",
     "output_type": "stream",
     "text": [
      "('+', '+', '+')\n",
      "('+', '+', '-')\n",
      "('+', '+', '*')\n",
      "('+', '+', '/')\n",
      "('+', '-', '+')\n",
      "('+', '-', '-')\n",
      "('+', '-', '*')\n",
      "('+', '-', '/')\n",
      "('+', '*', '+')\n",
      "('+', '*', '-')\n",
      "('+', '*', '*')\n",
      "('+', '*', '/')\n",
      "('+', '/', '+')\n",
      "('+', '/', '-')\n",
      "('+', '/', '*')\n",
      "('+', '/', '/')\n",
      "('-', '+', '+')\n",
      "('-', '+', '-')\n",
      "('-', '+', '*')\n",
      "('-', '+', '/')\n",
      "('-', '-', '+')\n",
      "('-', '-', '-')\n",
      "('-', '-', '*')\n",
      "('-', '-', '/')\n",
      "('-', '*', '+')\n",
      "('-', '*', '-')\n",
      "('-', '*', '*')\n",
      "('-', '*', '/')\n",
      "('-', '/', '+')\n",
      "('-', '/', '-')\n",
      "('-', '/', '*')\n",
      "('-', '/', '/')\n",
      "('*', '+', '+')\n",
      "('*', '+', '-')\n",
      "('*', '+', '*')\n",
      "('*', '+', '/')\n",
      "('*', '-', '+')\n",
      "('*', '-', '-')\n",
      "('*', '-', '*')\n",
      "('*', '-', '/')\n",
      "('*', '*', '+')\n",
      "('*', '*', '-')\n",
      "('*', '*', '*')\n",
      "('*', '*', '/')\n",
      "('*', '/', '+')\n",
      "('*', '/', '-')\n",
      "('*', '/', '*')\n",
      "('*', '/', '/')\n",
      "('/', '+', '+')\n",
      "('/', '+', '-')\n",
      "('/', '+', '*')\n",
      "('/', '+', '/')\n",
      "('/', '-', '+')\n",
      "('/', '-', '-')\n",
      "('/', '-', '*')\n",
      "('/', '-', '/')\n",
      "('/', '*', '+')\n",
      "('/', '*', '-')\n",
      "('/', '*', '*')\n",
      "('/', '*', '/')\n",
      "('/', '/', '+')\n",
      "('/', '/', '-')\n",
      "('/', '/', '*')\n",
      "('/', '/', '/')\n"
     ]
    }
   ],
   "source": [
    "for p in product(operators, repeat=3):\n",
    "    print(p)"
   ]
  },
  {
   "cell_type": "code",
   "execution_count": 471,
   "metadata": {},
   "outputs": [],
   "source": [
    "def get_all_operation_combine(cards):\n",
    "    c1, c2, c3, c4 = cards\n",
    "    operators = ['+', '-', '*', '/']\n",
    "    \n",
    "    expressions = []\n",
    "    \n",
    "    #for p in product(operators, repeat=3): \"0 1\" 良好的程序里边，应该不能直接出现别的数字\n",
    "    for p in product(operators, repeat=len(cards) - 1):\n",
    "        op1, op2, op3 = p\n",
    "        \n",
    "        expressions.append('{} {} {} {} {} {} {}'.format(c1, op1, c2, op2, c3, op3, c4))\n",
    "    \n",
    "    return expressions"
   ]
  },
  {
   "cell_type": "markdown",
   "metadata": {},
   "source": [
    "## 除了0， 1，别的数字，都要以变量或者变量的运算写在程序里\n",
    "## Magic Number"
   ]
  },
  {
   "cell_type": "code",
   "execution_count": 475,
   "metadata": {
    "collapsed": true
   },
   "outputs": [
    {
     "data": {
      "text/plain": [
       "['1 + 4 + 2 + 5',\n",
       " '1 + 4 + 2 - 5',\n",
       " '1 + 4 + 2 * 5',\n",
       " '1 + 4 + 2 / 5',\n",
       " '1 + 4 - 2 + 5',\n",
       " '1 + 4 - 2 - 5',\n",
       " '1 + 4 - 2 * 5',\n",
       " '1 + 4 - 2 / 5',\n",
       " '1 + 4 * 2 + 5',\n",
       " '1 + 4 * 2 - 5',\n",
       " '1 + 4 * 2 * 5',\n",
       " '1 + 4 * 2 / 5',\n",
       " '1 + 4 / 2 + 5',\n",
       " '1 + 4 / 2 - 5',\n",
       " '1 + 4 / 2 * 5',\n",
       " '1 + 4 / 2 / 5',\n",
       " '1 - 4 + 2 + 5',\n",
       " '1 - 4 + 2 - 5',\n",
       " '1 - 4 + 2 * 5',\n",
       " '1 - 4 + 2 / 5',\n",
       " '1 - 4 - 2 + 5',\n",
       " '1 - 4 - 2 - 5',\n",
       " '1 - 4 - 2 * 5',\n",
       " '1 - 4 - 2 / 5',\n",
       " '1 - 4 * 2 + 5',\n",
       " '1 - 4 * 2 - 5',\n",
       " '1 - 4 * 2 * 5',\n",
       " '1 - 4 * 2 / 5',\n",
       " '1 - 4 / 2 + 5',\n",
       " '1 - 4 / 2 - 5',\n",
       " '1 - 4 / 2 * 5',\n",
       " '1 - 4 / 2 / 5',\n",
       " '1 * 4 + 2 + 5',\n",
       " '1 * 4 + 2 - 5',\n",
       " '1 * 4 + 2 * 5',\n",
       " '1 * 4 + 2 / 5',\n",
       " '1 * 4 - 2 + 5',\n",
       " '1 * 4 - 2 - 5',\n",
       " '1 * 4 - 2 * 5',\n",
       " '1 * 4 - 2 / 5',\n",
       " '1 * 4 * 2 + 5',\n",
       " '1 * 4 * 2 - 5',\n",
       " '1 * 4 * 2 * 5',\n",
       " '1 * 4 * 2 / 5',\n",
       " '1 * 4 / 2 + 5',\n",
       " '1 * 4 / 2 - 5',\n",
       " '1 * 4 / 2 * 5',\n",
       " '1 * 4 / 2 / 5',\n",
       " '1 / 4 + 2 + 5',\n",
       " '1 / 4 + 2 - 5',\n",
       " '1 / 4 + 2 * 5',\n",
       " '1 / 4 + 2 / 5',\n",
       " '1 / 4 - 2 + 5',\n",
       " '1 / 4 - 2 - 5',\n",
       " '1 / 4 - 2 * 5',\n",
       " '1 / 4 - 2 / 5',\n",
       " '1 / 4 * 2 + 5',\n",
       " '1 / 4 * 2 - 5',\n",
       " '1 / 4 * 2 * 5',\n",
       " '1 / 4 * 2 / 5',\n",
       " '1 / 4 / 2 + 5',\n",
       " '1 / 4 / 2 - 5',\n",
       " '1 / 4 / 2 * 5',\n",
       " '1 / 4 / 2 / 5']"
      ]
     },
     "execution_count": 475,
     "metadata": {},
     "output_type": "execute_result"
    }
   ],
   "source": [
    "get_all_operation_combine([1, 4, 2, 5])"
   ]
  },
  {
   "cell_type": "code",
   "execution_count": 477,
   "metadata": {},
   "outputs": [
    {
     "data": {
      "text/plain": [
       "5.125"
      ]
     },
     "execution_count": 477,
     "metadata": {},
     "output_type": "execute_result"
    }
   ],
   "source": [
    "eval('1 / 4 / 2 + 5') # evaluate"
   ]
  },
  {
   "cell_type": "code",
   "execution_count": 491,
   "metadata": {},
   "outputs": [],
   "source": [
    "def simple_but_may_not_answer(cards):\n",
    "\n",
    "    TARGET = 24\n",
    "    \n",
    "    for exp in get_all_operation_combine(cards):\n",
    "        if eval(exp) == TARGET:\n",
    "            print(exp)"
   ]
  },
  {
   "cell_type": "code",
   "execution_count": 517,
   "metadata": {},
   "outputs": [
    {
     "name": "stdout",
     "output_type": "stream",
     "text": [
      "我抽到的牌是: [13, 11, 8, 11]\n"
     ]
    }
   ],
   "source": [
    "new_cards = [rand_card() for _ in range(4)]\n",
    "\n",
    "print('我抽到的牌是: {}'.format(new_cards))\n",
    "\n",
    "simple_but_may_not_answer(new_cards)"
   ]
  },
  {
   "cell_type": "code",
   "execution_count": null,
   "metadata": {},
   "outputs": [],
   "source": [
    "'ABCD' => 'AB BA CD DC' 排列，全排列 "
   ]
  },
  {
   "cell_type": "code",
   "execution_count": 518,
   "metadata": {},
   "outputs": [],
   "source": [
    "from itertools import permutations"
   ]
  },
  {
   "cell_type": "code",
   "execution_count": 520,
   "metadata": {},
   "outputs": [],
   "source": [
    "def get_all_operation_combie_with_number_exchange(cards):\n",
    "    all_result = []\n",
    "    \n",
    "    for p in permutations(new_cards):\n",
    "        all_result += get_all_operation_combine(p)\n",
    "    \n",
    "    return all_result"
   ]
  },
  {
   "cell_type": "code",
   "execution_count": 521,
   "metadata": {},
   "outputs": [
    {
     "data": {
      "text/plain": [
       "1536"
      ]
     },
     "execution_count": 521,
     "metadata": {},
     "output_type": "execute_result"
    }
   ],
   "source": [
    "len(get_all_operation_combie_with_number_exchange(new_cards))"
   ]
  },
  {
   "cell_type": "code",
   "execution_count": 523,
   "metadata": {},
   "outputs": [],
   "source": [
    "def a_little_complicate_but_may_not_answer(cards):\n",
    "\n",
    "    TARGET = 24\n",
    "    \n",
    "    for exp in get_all_operation_combie_with_number_exchange(cards):\n",
    "        if eval(exp) == TARGET:\n",
    "            print(exp)"
   ]
  },
  {
   "cell_type": "code",
   "execution_count": 533,
   "metadata": {},
   "outputs": [
    {
     "name": "stdout",
     "output_type": "stream",
     "text": [
      "我抽到的牌是: [7, 7, 14, 11]\n",
      "-- 不带交换位置找到的答案\n",
      "7 * 7 - 14 - 11\n",
      "-- 带了交换位置找到的答案\n",
      "7 * 7 - 14 - 11\n",
      "7 * 7 - 11 - 14\n",
      "7 * 7 - 14 - 11\n",
      "7 * 7 - 11 - 14\n",
      "14 - 7 / 7 + 11\n",
      "14 - 7 / 7 + 11\n",
      "14 + 11 - 7 / 7\n",
      "14 + 11 - 7 / 7\n",
      "11 - 7 / 7 + 14\n",
      "11 - 7 / 7 + 14\n",
      "11 + 14 - 7 / 7\n",
      "11 + 14 - 7 / 7\n"
     ]
    }
   ],
   "source": [
    "new_cards = [rand_card() for _ in range(4)]\n",
    "\n",
    "print('我抽到的牌是: {}'.format(new_cards))\n",
    "\n",
    "print('-- 不带交换位置找到的答案')\n",
    "simple_but_may_not_answer(new_cards)\n",
    "\n",
    "print('-- 带了交换位置找到的答案')\n",
    "a_little_complicate_but_may_not_answer(new_cards)"
   ]
  },
  {
   "cell_type": "markdown",
   "metadata": {},
   "source": [
    "## 我们少了括弧"
   ]
  },
  {
   "cell_type": "code",
   "execution_count": 535,
   "metadata": {},
   "outputs": [
    {
     "name": "stdout",
     "output_type": "stream",
     "text": [
      "-126\n",
      "52\n"
     ]
    }
   ],
   "source": [
    "print(7 * (7 - 11 - 14))\n",
    "print((7 * 7) - (11 - 14))"
   ]
  },
  {
   "cell_type": "code",
   "execution_count": 539,
   "metadata": {},
   "outputs": [
    {
     "ename": "TypeError",
     "evalue": "unsupported operand type(s) for +: 'int' and 'str'",
     "output_type": "error",
     "traceback": [
      "\u001b[0;31m---------------------------------------------------------------------------\u001b[0m",
      "\u001b[0;31mTypeError\u001b[0m                                 Traceback (most recent call last)",
      "\u001b[0;32m<ipython-input-539-af8a725eb2f2>\u001b[0m in \u001b[0;36m<module>\u001b[0;34m\u001b[0m\n\u001b[0;32m----> 1\u001b[0;31m \u001b[0;36m1\u001b[0m \u001b[0;34m+\u001b[0m \u001b[0;34m'kkk'\u001b[0m\u001b[0;34m\u001b[0m\u001b[0;34m\u001b[0m\u001b[0m\n\u001b[0m",
      "\u001b[0;31mTypeError\u001b[0m: unsupported operand type(s) for +: 'int' and 'str'"
     ]
    }
   ],
   "source": [
    "1 + 'kkk'"
   ]
  },
  {
   "cell_type": "code",
   "execution_count": 592,
   "metadata": {},
   "outputs": [],
   "source": [
    "def add_brace(numbers):\n",
    "    if len(numbers) < 2: return [numbers]\n",
    "    if len(numbers) == 2: \n",
    "        return [['('+str(numbers[0])] + numbers[1:-1] + [str(numbers[-1])+')']]\n",
    "    \n",
    "    results = []\n",
    "    \n",
    "    for i in range(1, len(numbers)):\n",
    "        prefix = numbers[:i]\n",
    "       # assert len(prefix) < len(numbers)\n",
    "        prefixs = add_brace(prefix)\n",
    "        \n",
    "        tail = numbers[i:]\n",
    "       # assert len(tail) < len(numbers)\n",
    "        tails = add_brace(tail)\n",
    "        \n",
    "        for p, t in product(prefixs, tails):\n",
    "            brace_with_around = ['('+p[0]] + p[1:] + t[:-1] + [t[-1] + ')']\n",
    "            results.append(brace_with_around)\n",
    "    \n",
    "    return results"
   ]
  },
  {
   "cell_type": "code",
   "execution_count": 594,
   "metadata": {},
   "outputs": [
    {
     "data": {
      "text/plain": [
       "[['(1', '(2', '(3', '(4', '5))))'],\n",
       " ['(1', '(2', '((3', '4)', '5)))'],\n",
       " ['(1', '((2', '3)', '(4', '5)))'],\n",
       " ['(1', '((2', '(3', '4))', '5))'],\n",
       " ['(1', '(((2', '3)', '4)', '5))'],\n",
       " ['((1', '2)', '(3', '(4', '5)))'],\n",
       " ['((1', '2)', '((3', '4)', '5))'],\n",
       " ['((1', '(2', '3))', '(4', '5))'],\n",
       " ['(((1', '2)', '3)', '(4', '5))'],\n",
       " ['((1', '(2', '(3', '4)))', '5)'],\n",
       " ['((1', '((2', '3)', '4))', '5)'],\n",
       " ['(((1', '2)', '(3', '4))', '5)'],\n",
       " ['(((1', '(2', '3))', '4)', '5)'],\n",
       " ['((((1', '2)', '3)', '4)', '5)']]"
      ]
     },
     "execution_count": 594,
     "metadata": {},
     "output_type": "execute_result"
    }
   ],
   "source": [
    "add_brace(\"1 2 3 4 5\".split())"
   ]
  },
  {
   "cell_type": "markdown",
   "metadata": {},
   "source": [
    "## 要把括号和运算符，一起合并"
   ]
  },
  {
   "cell_type": "code",
   "execution_count": 595,
   "metadata": {},
   "outputs": [
    {
     "data": {
      "text/plain": [
       "'1 + 3 + 10 * 5'"
      ]
     },
     "execution_count": 595,
     "metadata": {},
     "output_type": "execute_result"
    }
   ],
   "source": [
    "\"1 + 3 + 10 * 5\""
   ]
  },
  {
   "cell_type": "code",
   "execution_count": 598,
   "metadata": {},
   "outputs": [
    {
     "data": {
      "text/plain": [
       "['1', '3', '10', '5']"
      ]
     },
     "execution_count": 598,
     "metadata": {},
     "output_type": "execute_result"
    }
   ],
   "source": [
    "\"1 + 3 + 10 * 5\".split()[0::2]"
   ]
  },
  {
   "cell_type": "code",
   "execution_count": 600,
   "metadata": {},
   "outputs": [
    {
     "data": {
      "text/plain": [
       "['+', '+', '*']"
      ]
     },
     "execution_count": 600,
     "metadata": {},
     "output_type": "execute_result"
    }
   ],
   "source": [
    "\"1 + 3 + 10 * 5\".split()[1::2]"
   ]
  },
  {
   "cell_type": "code",
   "execution_count": 601,
   "metadata": {},
   "outputs": [
    {
     "data": {
      "text/plain": [
       "[['(1', '(3', '(10', '5)))'],\n",
       " ['(1', '((3', '10)', '5))'],\n",
       " ['((1', '3)', '(10', '5))'],\n",
       " ['((1', '(3', '10))', '5)'],\n",
       " ['(((1', '3)', '10)', '5)']]"
      ]
     },
     "execution_count": 601,
     "metadata": {},
     "output_type": "execute_result"
    }
   ],
   "source": [
    "add_brace(\"1 3 10 5\".split())"
   ]
  },
  {
   "cell_type": "code",
   "execution_count": 602,
   "metadata": {},
   "outputs": [],
   "source": [
    "def join_op_with_brace_number(operators, with_brace):\n",
    "    finally_exp = with_brace[0]\n",
    "    \n",
    "    for i, op in enumerate(operators):\n",
    "        finally_exp += (op + ' ' + with_brace[i+1])\n",
    "    \n",
    "    return finally_exp"
   ]
  },
  {
   "cell_type": "code",
   "execution_count": 604,
   "metadata": {},
   "outputs": [
    {
     "data": {
      "text/plain": [
       "'(1+ (3+ (10* 5)))'"
      ]
     },
     "execution_count": 604,
     "metadata": {},
     "output_type": "execute_result"
    }
   ],
   "source": [
    "join_op_with_brace_number(['+', '+', '*'], ['(1', '(3', '(10', '5)))'])"
   ]
  },
  {
   "cell_type": "code",
   "execution_count": 605,
   "metadata": {},
   "outputs": [],
   "source": [
    "def join_brace_to_expression(expression):\n",
    "    numbers = expression.split()[::2]\n",
    "    operators = expression.split()[1::2]\n",
    "    \n",
    "    with_braces = add_brace(numbers)\n",
    "    \n",
    "    with_operatos_and_brace = []\n",
    "    \n",
    "    for brace in with_braces:\n",
    "        with_operatos_and_brace.append(join_op_with_brace_number(operators, brace))\n",
    "    \n",
    "    return with_operatos_and_brace"
   ]
  },
  {
   "cell_type": "code",
   "execution_count": 606,
   "metadata": {},
   "outputs": [
    {
     "data": {
      "text/plain": [
       "['(1+ (3* (4- 9)))',\n",
       " '(1+ ((3* 4)- 9))',\n",
       " '((1+ 3)* (4- 9))',\n",
       " '((1+ (3* 4))- 9)',\n",
       " '(((1+ 3)* 4)- 9)']"
      ]
     },
     "execution_count": 606,
     "metadata": {},
     "output_type": "execute_result"
    }
   ],
   "source": [
    "join_brace_to_expression('1 + 3 * 4 - 9')"
   ]
  },
  {
   "cell_type": "code",
   "execution_count": 610,
   "metadata": {},
   "outputs": [],
   "source": [
    "def complicate_but_useful_with_brace(cards):\n",
    "\n",
    "    TARGET = 24\n",
    "    \n",
    "    for exp in get_all_operation_combie_with_number_exchange(cards):\n",
    "        for b in join_brace_to_expression(exp):\n",
    "            try:\n",
    "                if eval(b) == TARGET:\n",
    "                    print(b)\n",
    "            except ZeroDivisionError:\n",
    "                continue"
   ]
  },
  {
   "cell_type": "code",
   "execution_count": 613,
   "metadata": {},
   "outputs": [
    {
     "name": "stdout",
     "output_type": "stream",
     "text": [
      "我抽到的牌是: [11, 7, 8, 7]\n",
      "-- 不带交换位置找到的答案\n",
      "-- 带了交换位置找到的答案\n",
      "-- 带了括号的答案是\n",
      "(((7- 11)+ 7)* 8)\n",
      "((7- (11- 7))* 8)\n",
      "((7+ (7- 11))* 8)\n",
      "(((7+ 7)- 11)* 8)\n",
      "(8* ((7- 11)+ 7))\n",
      "(8* (7- (11- 7)))\n",
      "(8* (7+ (7- 11)))\n",
      "(8* ((7+ 7)- 11))\n",
      "(8* ((7- 11)+ 7))\n",
      "(8* (7- (11- 7)))\n",
      "(8* (7+ (7- 11)))\n",
      "(8* ((7+ 7)- 11))\n",
      "(((7- 11)+ 7)* 8)\n",
      "((7- (11- 7))* 8)\n",
      "((7+ (7- 11))* 8)\n",
      "(((7+ 7)- 11)* 8)\n"
     ]
    }
   ],
   "source": [
    "new_cards = [rand_card() for _ in range(4)]\n",
    "\n",
    "print('我抽到的牌是: {}'.format(new_cards))\n",
    "\n",
    "print('-- 不带交换位置找到的答案')\n",
    "simple_but_may_not_answer(new_cards)\n",
    "\n",
    "print('-- 带了交换位置找到的答案')\n",
    "a_little_complicate_but_may_not_answer(new_cards)\n",
    "\n",
    "print('-- 带了括号的答案是')\n",
    "complicate_but_useful_with_brace(new_cards)"
   ]
  },
  {
   "cell_type": "markdown",
   "metadata": {},
   "source": [
    "## Assignment 将本课程的程序变成真实世界的场景"
   ]
  },
  {
   "cell_type": "code",
   "execution_count": 614,
   "metadata": {},
   "outputs": [],
   "source": [
    "def random_real_card():\n",
    "    cards = '2 3 4 5 6 7 8 9 10 J Q K A'.split()\n",
    "    color = '红桃 黑桃 方片 梅花'.split()\n",
    "    \n",
    "    return random.choice(color)+random.choice(cards)"
   ]
  },
  {
   "cell_type": "code",
   "execution_count": 622,
   "metadata": {},
   "outputs": [
    {
     "data": {
      "text/plain": [
       "['梅花J', '方片A', '红桃4', '红桃6']"
      ]
     },
     "execution_count": 622,
     "metadata": {},
     "output_type": "execute_result"
    }
   ],
   "source": [
    "[random_real_card() for _ in range(4)]"
   ]
  },
  {
   "cell_type": "code",
   "execution_count": 624,
   "metadata": {},
   "outputs": [],
   "source": [
    "def solve_24_point_real_word(cards):\n",
    "    \"\"\"\n",
    "    写出24点的真实世界代码，注意A就可以做 1 也可以 做14 \n",
    "    这个问题怎么解决？ \n",
    "    \"\"\"\n",
    "    pass"
   ]
  },
  {
   "cell_type": "code",
   "execution_count": 625,
   "metadata": {},
   "outputs": [],
   "source": [
    "solve_24_point_real_word(['梅花J', '方片A', '红桃4', '红桃6'])"
   ]
  }
 ],
 "metadata": {
  "kernelspec": {
   "display_name": "Python 3",
   "language": "python",
   "name": "python3"
  },
  "language_info": {
   "codemirror_mode": {
    "name": "ipython",
    "version": 3
   },
   "file_extension": ".py",
   "mimetype": "text/x-python",
   "name": "python",
   "nbconvert_exporter": "python",
   "pygments_lexer": "ipython3",
   "version": "3.7.3"
  }
 },
 "nbformat": 4,
 "nbformat_minor": 4
}
