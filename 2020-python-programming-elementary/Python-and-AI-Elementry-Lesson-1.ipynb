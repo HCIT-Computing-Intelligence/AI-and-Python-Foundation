{
 "cells": [
  {
   "cell_type": "markdown",
   "metadata": {},
   "source": [
    "## 从24点游戏的解法，开始Python编程"
   ]
  },
  {
   "cell_type": "markdown",
   "metadata": {},
   "source": [
    "> The 24 Game is an arithmetical card game in which the objective is to find a way to manipulate four integers so that the end result is 24. For example, for the card with the numbers 4, 7, 8, 8, a possible solution is {\\displaystyle (7-(8\\div 8))\\times 4=24}.\n",
    "\n",
    "> The game has been played in Shanghai since the 1960s, using playing cards. It has been known by other names, including Maths24, but these products are not associated with the copyrighted versions of the 24® Game."
   ]
  },
  {
   "cell_type": "markdown",
   "metadata": {},
   "source": [
    "![](imgs/24pint.jpg)"
   ]
  },
  {
   "cell_type": "markdown",
   "metadata": {},
   "source": [
    "## 解决方法1"
   ]
  },
  {
   "cell_type": "code",
   "execution_count": 530,
   "metadata": {},
   "outputs": [],
   "source": [
    "car1 = 9\n",
    "car2 = 10\n",
    "car3 = 11\n",
    "car4 = 6"
   ]
  },
  {
   "cell_type": "code",
   "execution_count": 1063,
   "metadata": {},
   "outputs": [],
   "source": [
    "result = car1 + car2 + car3 - car4 "
   ]
  },
  {
   "cell_type": "code",
   "execution_count": 1064,
   "metadata": {},
   "outputs": [
    {
     "name": "stdout",
     "output_type": "stream",
     "text": [
      "24\n"
     ]
    }
   ],
   "source": [
    "print(result)"
   ]
  },
  {
   "cell_type": "markdown",
   "metadata": {},
   "source": [
    "## Wow You Got it!"
   ]
  },
  {
   "cell_type": "code",
   "execution_count": 7,
   "metadata": {},
   "outputs": [],
   "source": [
    "car1 = 3\n",
    "car2 = 5\n",
    "car3 = 6\n",
    "car4 = 7"
   ]
  },
  {
   "cell_type": "code",
   "execution_count": 9,
   "metadata": {},
   "outputs": [
    {
     "data": {
      "text/plain": [
       "24"
      ]
     },
     "execution_count": 9,
     "metadata": {},
     "output_type": "execute_result"
    }
   ],
   "source": [
    "car1 * (car3 - car2 + car4)"
   ]
  },
  {
   "cell_type": "markdown",
   "metadata": {},
   "source": [
    "## Wow You Got it!"
   ]
  },
  {
   "cell_type": "markdown",
   "metadata": {},
   "source": [
    "## 当时刚刚的解法，其实是我们的大脑自己解决的"
   ]
  },
  {
   "cell_type": "markdown",
   "metadata": {},
   "source": [
    "## 如果让计算机自己解决呢？"
   ]
  },
  {
   "cell_type": "markdown",
   "metadata": {},
   "source": [
    "## 解决方法2"
   ]
  },
  {
   "cell_type": "code",
   "execution_count": 10,
   "metadata": {},
   "outputs": [],
   "source": [
    "import random"
   ]
  },
  {
   "cell_type": "code",
   "execution_count": 16,
   "metadata": {},
   "outputs": [
    {
     "data": {
      "text/plain": [
       "10"
      ]
     },
     "execution_count": 16,
     "metadata": {},
     "output_type": "execute_result"
    }
   ],
   "source": [
    "random.randint(1, 10)"
   ]
  },
  {
   "cell_type": "code",
   "execution_count": 18,
   "metadata": {},
   "outputs": [
    {
     "data": {
      "text/plain": [
       "-7"
      ]
     },
     "execution_count": 18,
     "metadata": {},
     "output_type": "execute_result"
    }
   ],
   "source": [
    "random.randint(-10, 0)"
   ]
  },
  {
   "cell_type": "code",
   "execution_count": 19,
   "metadata": {},
   "outputs": [],
   "source": [
    "operator1 = '+'\n",
    "operator2 = '-'\n",
    "opeartor3 = '*'\n",
    "operator4 = '/'"
   ]
  },
  {
   "cell_type": "markdown",
   "metadata": {},
   "source": [
    "## 这些操作符都是类似的，我们把它放在同一个“变量”里边"
   ]
  },
  {
   "cell_type": "code",
   "execution_count": 28,
   "metadata": {},
   "outputs": [],
   "source": [
    "operators = ['+', '-', '*', '/']"
   ]
  },
  {
   "cell_type": "code",
   "execution_count": 21,
   "metadata": {},
   "outputs": [],
   "source": [
    "def op(number1, number2, operator):\n",
    "    if operator == '+': return number1 + number2\n",
    "    elif operator == '-': return number1 - number2\n",
    "    elif operator == '*': return number1 * number2\n",
    "    elif operator == '/': return number1 / number2\n",
    "    else:\n",
    "        raise TypeError('该操作不支持')"
   ]
  },
  {
   "cell_type": "code",
   "execution_count": 22,
   "metadata": {},
   "outputs": [
    {
     "data": {
      "text/plain": [
       "2"
      ]
     },
     "execution_count": 22,
     "metadata": {},
     "output_type": "execute_result"
    }
   ],
   "source": [
    "op(1, 2, '*')"
   ]
  },
  {
   "cell_type": "code",
   "execution_count": 23,
   "metadata": {},
   "outputs": [
    {
     "data": {
      "text/plain": [
       "6"
      ]
     },
     "execution_count": 23,
     "metadata": {},
     "output_type": "execute_result"
    }
   ],
   "source": [
    "op(1, 5, '+')"
   ]
  },
  {
   "cell_type": "code",
   "execution_count": 24,
   "metadata": {},
   "outputs": [
    {
     "ename": "TypeError",
     "evalue": "该操作不支持",
     "output_type": "error",
     "traceback": [
      "\u001b[0;31m---------------------------------------------------------------------------\u001b[0m",
      "\u001b[0;31mTypeError\u001b[0m                                 Traceback (most recent call last)",
      "\u001b[0;32m<ipython-input-24-826cea4376cb>\u001b[0m in \u001b[0;36m<module>\u001b[0;34m\u001b[0m\n\u001b[0;32m----> 1\u001b[0;31m \u001b[0mop\u001b[0m\u001b[0;34m(\u001b[0m\u001b[0;36m1\u001b[0m\u001b[0;34m,\u001b[0m \u001b[0;36m5\u001b[0m\u001b[0;34m,\u001b[0m \u001b[0;34m'&'\u001b[0m\u001b[0;34m)\u001b[0m\u001b[0;34m\u001b[0m\u001b[0;34m\u001b[0m\u001b[0m\n\u001b[0m",
      "\u001b[0;32m<ipython-input-21-1e21d7454754>\u001b[0m in \u001b[0;36mop\u001b[0;34m(number1, number2, operator)\u001b[0m\n\u001b[1;32m      5\u001b[0m     \u001b[0;32melif\u001b[0m \u001b[0moperator\u001b[0m \u001b[0;34m==\u001b[0m \u001b[0;34m'/'\u001b[0m\u001b[0;34m:\u001b[0m \u001b[0;32mreturn\u001b[0m \u001b[0mnumber1\u001b[0m \u001b[0;34m/\u001b[0m \u001b[0mnumber2\u001b[0m\u001b[0;34m\u001b[0m\u001b[0;34m\u001b[0m\u001b[0m\n\u001b[1;32m      6\u001b[0m     \u001b[0;32melse\u001b[0m\u001b[0;34m:\u001b[0m\u001b[0;34m\u001b[0m\u001b[0;34m\u001b[0m\u001b[0m\n\u001b[0;32m----> 7\u001b[0;31m         \u001b[0;32mraise\u001b[0m \u001b[0mTypeError\u001b[0m\u001b[0;34m(\u001b[0m\u001b[0;34m'该操作不支持'\u001b[0m\u001b[0;34m)\u001b[0m\u001b[0;34m\u001b[0m\u001b[0;34m\u001b[0m\u001b[0m\n\u001b[0m",
      "\u001b[0;31mTypeError\u001b[0m: 该操作不支持"
     ]
    }
   ],
   "source": [
    "op(1, 5, '&')"
   ]
  },
  {
   "cell_type": "code",
   "execution_count": 26,
   "metadata": {},
   "outputs": [
    {
     "data": {
      "text/plain": [
       "'15'"
      ]
     },
     "execution_count": 26,
     "metadata": {},
     "output_type": "execute_result"
    }
   ],
   "source": [
    "op('1', '5', '+')"
   ]
  },
  {
   "cell_type": "markdown",
   "metadata": {},
   "source": [
    "## 这牵扯到一个叫做数据类型的东西"
   ]
  },
  {
   "cell_type": "markdown",
   "metadata": {},
   "source": [
    "~ 同样一句话，一个命令，给不同的人说，是不是反馈不一样？为什么，因为他们的类型不一样"
   ]
  },
  {
   "cell_type": "code",
   "execution_count": 35,
   "metadata": {},
   "outputs": [
    {
     "data": {
      "text/plain": [
       "'+'"
      ]
     },
     "execution_count": 35,
     "metadata": {},
     "output_type": "execute_result"
    }
   ],
   "source": [
    "random.choice(operators)"
   ]
  },
  {
   "cell_type": "code",
   "execution_count": 39,
   "metadata": {},
   "outputs": [],
   "source": [
    "??random.choice"
   ]
  },
  {
   "cell_type": "code",
   "execution_count": 531,
   "metadata": {},
   "outputs": [],
   "source": [
    "car1 = 9\n",
    "car2 = 10\n",
    "car3 = 11\n",
    "car4 = 6"
   ]
  },
  {
   "cell_type": "code",
   "execution_count": 408,
   "metadata": {},
   "outputs": [],
   "source": [
    "def random_op(): \n",
    "    \"\"\"gives a random operator\"\"\"\n",
    "    return random.choice(operators)"
   ]
  },
  {
   "cell_type": "code",
   "execution_count": 409,
   "metadata": {},
   "outputs": [
    {
     "name": "stdout",
     "output_type": "stream",
     "text": [
      "4\n"
     ]
    }
   ],
   "source": [
    "result_of_first_two_cards = op(car1, car2, random_op())\n",
    "print(result_of_first_two_cards)"
   ]
  },
  {
   "cell_type": "code",
   "execution_count": 410,
   "metadata": {},
   "outputs": [
    {
     "name": "stdout",
     "output_type": "stream",
     "text": [
      "2.0\n"
     ]
    }
   ],
   "source": [
    "result_of_first_three_cards = op(result_of_first_two_cards, car3, random_op())\n",
    "print(result_of_first_three_cards)"
   ]
  },
  {
   "cell_type": "code",
   "execution_count": 411,
   "metadata": {},
   "outputs": [
    {
     "name": "stdout",
     "output_type": "stream",
     "text": [
      "12.0\n"
     ]
    }
   ],
   "source": [
    "result_of_total = op(result_of_first_three_cards, car4, random_op())\n",
    "print(result_of_total)"
   ]
  },
  {
   "cell_type": "code",
   "execution_count": 412,
   "metadata": {},
   "outputs": [
    {
     "name": "stdout",
     "output_type": "stream",
     "text": [
      "0.2\n"
     ]
    }
   ],
   "source": [
    "result_of_first_two_cards = op(car1, car2, random_op())\n",
    "#print(result_of_first_two_cards)\n",
    "result_of_first_three_cards = op(result_of_first_two_cards, car3, random_op())\n",
    "#print(result_of_first_three_cards)\n",
    "result_of_total = op(result_of_first_three_cards, car4, random_op())\n",
    "print(result_of_total)"
   ]
  },
  {
   "cell_type": "code",
   "execution_count": 500,
   "metadata": {},
   "outputs": [
    {
     "name": "stdout",
     "output_type": "stream",
     "text": [
      "33\n"
     ]
    }
   ],
   "source": [
    "op1 = random_op()\n",
    "result_of_first_two_cards = op(car1, car2, op1)\n",
    "#print(result_of_first_two_cards)\n",
    "\n",
    "op2 = random_op()\n",
    "result_of_first_three_cards = op(result_of_first_two_cards, car3, op2)\n",
    "#print(result_of_first_three_cards)\n",
    "\n",
    "op3 = random_op()\n",
    "result_of_total = op(result_of_first_three_cards, car4, op3)\n",
    "print(result_of_total)\n",
    "\n",
    "if result_of_total == 24: \n",
    "    print('😁我找到方法了')\n",
    "    print(op1, op2, op3)"
   ]
  },
  {
   "cell_type": "code",
   "execution_count": 532,
   "metadata": {},
   "outputs": [
    {
     "data": {
      "text/plain": [
       "(9, 10, 11, 6)"
      ]
     },
     "execution_count": 532,
     "metadata": {},
     "output_type": "execute_result"
    }
   ],
   "source": [
    "car1, car2, car3, car4"
   ]
  },
  {
   "cell_type": "code",
   "execution_count": 540,
   "metadata": {},
   "outputs": [
    {
     "name": "stdout",
     "output_type": "stream",
     "text": [
      "😁我找到方法了\n",
      "+ + -\n"
     ]
    }
   ],
   "source": [
    "for i in range(20):\n",
    "    op1 = random_op()\n",
    "    result_of_first_two_cards = op(car1, car2, op1)\n",
    "    #print(result_of_first_two_cards)\n",
    "\n",
    "    op2 = random_op()\n",
    "    result_of_first_three_cards = op(result_of_first_two_cards, car3, op2)\n",
    "    #print(result_of_first_three_cards)\n",
    "\n",
    "    op3 = random_op()\n",
    "    result_of_total = op(result_of_first_three_cards, car4, op3)\n",
    "   # print(result_of_total)\n",
    "\n",
    "    if result_of_total == 24: \n",
    "        print('😁我找到方法了')\n",
    "        print(op1, op2, op3)"
   ]
  },
  {
   "cell_type": "markdown",
   "metadata": {},
   "source": [
    "## 思考：每个位置有4种组合，一共有 4 * 4 * 4 = 64中组合，那么，随机找到的概率大约是1/64 约等于0.015"
   ]
  },
  {
   "cell_type": "code",
   "execution_count": 645,
   "metadata": {},
   "outputs": [
    {
     "name": "stdout",
     "output_type": "stream",
     "text": [
      "2\n",
      "the ratio of success is:\n",
      "0.03125\n"
     ]
    }
   ],
   "source": [
    "result_found_num= 0\n",
    "\n",
    "total_tests = 64\n",
    "\n",
    "for i in range(total_tests):\n",
    "    op1 = random_op()\n",
    "    result_of_first_two_cards = op(car1, car2, op1)\n",
    "    #print(result_of_first_two_cards)\n",
    "\n",
    "    op2 = random_op()\n",
    "    result_of_first_three_cards = op(result_of_first_two_cards, car3, op2)\n",
    "    #print(result_of_first_three_cards)\n",
    "\n",
    "    op3 = random_op()\n",
    "    result_of_total = op(result_of_first_three_cards, car4, op3)\n",
    "   # print(result_of_total)\n",
    "\n",
    "    if result_of_total == 24: \n",
    "       # print('😁我找到方法了')\n",
    "        #print(op1, op2, op3)\n",
    "        result_found_num += 1\n",
    "    \n",
    "\n",
    "print(result_found_num)\n",
    "print('the ratio of success is:')\n",
    "print(result_found_num / total_tests)"
   ]
  },
  {
   "cell_type": "markdown",
   "metadata": {},
   "source": [
    "## String format"
   ]
  },
  {
   "cell_type": "code",
   "execution_count": 810,
   "metadata": {},
   "outputs": [
    {
     "name": "stdout",
     "output_type": "stream",
     "text": [
      "😁我找到方法了, 答案是 9+10+11-6\n",
      "1\n",
      "the ratio of success is:0.015625\n"
     ]
    }
   ],
   "source": [
    "result_found_num= 0\n",
    "\n",
    "total_tests = 64\n",
    "\n",
    "right_op1, right_op2, right_op3 = None, None, None\n",
    "\n",
    "for i in range(total_tests):\n",
    "    op1 = random_op()\n",
    "    result_of_first_two_cards = op(car1, car2, op1)\n",
    "    #print(result_of_first_two_cards)\n",
    "\n",
    "    op2 = random_op()\n",
    "    result_of_first_three_cards = op(result_of_first_two_cards, car3, op2)\n",
    "    #print(result_of_first_three_cards)\n",
    "\n",
    "    op3 = random_op()\n",
    "    result_of_total = op(result_of_first_three_cards, car4, op3)\n",
    "   # print(result_of_total)\n",
    "\n",
    "    if result_of_total == 24: \n",
    "        print('😁我找到方法了, 答案是 {}{}{}{}{}{}{}'.format(car1, op1, car2, op2, car3, op3, car4))\n",
    "        #print(op1, op2, op3)\n",
    "        result_found_num += 1\n",
    "        right_op1, right_op2, right_op3 = op1, op2, op3\n",
    "    \n",
    "\n",
    "print(result_found_num)\n",
    "print('the ratio of success is:{}'.format(result_found_num / total_tests))\n",
    "#print('after {} tests, the ratio of success is:{}'.format(total_tests, result_found_num / total_tests))"
   ]
  },
  {
   "cell_type": "code",
   "execution_count": 811,
   "metadata": {},
   "outputs": [],
   "source": [
    "new_card1 = random.randint(1, 14)\n",
    "new_card2 = random.randint(1, 14)\n",
    "new_card3 = random.randint(1, 14)\n",
    "new_card4 = random.randint(1, 14)"
   ]
  },
  {
   "cell_type": "code",
   "execution_count": 812,
   "metadata": {},
   "outputs": [],
   "source": [
    "def get_right_answer_by_random(card1, card2, card3, card4):\n",
    "    result_found_num= 0\n",
    "\n",
    "    total_tests = 64\n",
    "    \n",
    "    right_op1, right_op2, right_op3 = None, None, None\n",
    "    \n",
    "    for i in range(total_tests):\n",
    "        op1 = random_op()\n",
    "        result_of_first_two_cards = op(card1, card2, op1)\n",
    "        #print(result_of_first_two_cards)\n",
    "\n",
    "        op2 = random_op()\n",
    "        result_of_first_three_cards = op(result_of_first_two_cards, card3, op2)\n",
    "        #print(result_of_first_three_cards)\n",
    "\n",
    "        op3 = random_op()\n",
    "        result_of_total = op(result_of_first_three_cards, card4, op3)\n",
    "       # print(result_of_total)\n",
    "\n",
    "        if result_of_total == 24: \n",
    "            #print('😁我找到方法了, 答案是 {}{}{}{}{}{}{}'.format(card1, op1, card2, op2, card3, op3, card4))\n",
    "            #print(op1, op2, op3)\n",
    "            result_found_num += 1\n",
    "            right_op1, right_op2, right_op3 = op1, op2, op3\n",
    "\n",
    "\n",
    "        #print(result_found_num)\n",
    "        #print('the ratio of success is:{}'.format(result_found_num / total_tests))\n",
    "        \n",
    "    if result_found_num != 0: \n",
    "        print('😁我找到方法了, 答案是 {}{}{}{}{}{}{}'.format(card1, right_op1, card2, right_op2, card3, right_op3, card4))\n",
    "    else:\n",
    "        print('我没有找到答案 😂')\n",
    "    #print('after {} tests, the ratio of success is:{}'.format(total_tests, result_found_num / total_tests))"
   ]
  },
  {
   "cell_type": "code",
   "execution_count": 815,
   "metadata": {},
   "outputs": [
    {
     "name": "stdout",
     "output_type": "stream",
     "text": [
      "我没有找到答案 😂\n"
     ]
    }
   ],
   "source": [
    "get_right_answer_by_random(car1, car2, car3, car4)"
   ]
  },
  {
   "cell_type": "code",
   "execution_count": 816,
   "metadata": {},
   "outputs": [],
   "source": [
    "new_card1 = random.randint(1, 14)\n",
    "new_card2 = random.randint(1, 14)\n",
    "new_card3 = random.randint(1, 14)\n",
    "new_card4 = random.randint(1, 14)"
   ]
  },
  {
   "cell_type": "code",
   "execution_count": 817,
   "metadata": {},
   "outputs": [],
   "source": [
    "new_cards = [random.randint(1, 14), random.randint(1, 14), random.randint(1, 14), random.randint(1, 14)]"
   ]
  },
  {
   "cell_type": "code",
   "execution_count": 818,
   "metadata": {},
   "outputs": [
    {
     "data": {
      "text/plain": [
       "[9, 6, 12, 13]"
      ]
     },
     "execution_count": 818,
     "metadata": {},
     "output_type": "execute_result"
    }
   ],
   "source": [
    "new_cards"
   ]
  },
  {
   "cell_type": "markdown",
   "metadata": {},
   "source": [
    "## DRY 法则！"
   ]
  },
  {
   "cell_type": "markdown",
   "metadata": {},
   "source": [
    "## Don't Repeat Yourself"
   ]
  },
  {
   "cell_type": "markdown",
   "metadata": {},
   "source": [
    "### Repetion is the mother of evil "
   ]
  },
  {
   "cell_type": "markdown",
   "metadata": {},
   "source": [
    "## 计算机科学的本质是: control the complexity"
   ]
  },
  {
   "cell_type": "code",
   "execution_count": 819,
   "metadata": {},
   "outputs": [],
   "source": [
    "def rand_card():\n",
    "    return random.randint(1, 14)"
   ]
  },
  {
   "cell_type": "code",
   "execution_count": 820,
   "metadata": {},
   "outputs": [],
   "source": [
    "new_cards = [rand_card(), rand_card(), rand_card(), rand_card()]"
   ]
  },
  {
   "cell_type": "code",
   "execution_count": 821,
   "metadata": {},
   "outputs": [
    {
     "data": {
      "text/plain": [
       "[11, 5, 2, 11]"
      ]
     },
     "execution_count": 821,
     "metadata": {},
     "output_type": "execute_result"
    }
   ],
   "source": [
    "new_cards"
   ]
  },
  {
   "cell_type": "code",
   "execution_count": 822,
   "metadata": {},
   "outputs": [],
   "source": [
    "new_cards = [rand_card() for _ in range(4)]"
   ]
  },
  {
   "cell_type": "code",
   "execution_count": 823,
   "metadata": {},
   "outputs": [
    {
     "data": {
      "text/plain": [
       "[7, 12, 7, 11]"
      ]
     },
     "execution_count": 823,
     "metadata": {},
     "output_type": "execute_result"
    }
   ],
   "source": [
    "new_cards"
   ]
  },
  {
   "cell_type": "code",
   "execution_count": 901,
   "metadata": {},
   "outputs": [],
   "source": [
    "def get_right_answer_by_random(cards):\n",
    "    card1, card2, card3, card4 = cards\n",
    "    result_found_num= 0\n",
    "\n",
    "    total_tests = 64\n",
    "    \n",
    "    right_op1, right_op2, right_op3 = None, None, None\n",
    "\n",
    "    for i in range(total_tests):\n",
    "        op1 = random_op()\n",
    "        result_of_first_two_cards = op(card1, card2, op1)\n",
    "        #print(result_of_first_two_cards)\n",
    "\n",
    "        op2 = random_op()\n",
    "        result_of_first_three_cards = op(result_of_first_two_cards, card3, op2)\n",
    "        #print(result_of_first_three_cards)\n",
    "\n",
    "        op3 = random_op()\n",
    "        result_of_total = op(result_of_first_three_cards, card4, op3)\n",
    "       # print(result_of_total)\n",
    "\n",
    "        if result_of_total == 24: \n",
    "            #print('😁我找到方法了, 答案是 {}{}{}{}{}{}{}'.format(card1, op1, card2, op2, card3, op3, card4))\n",
    "            #print(op1, op2, op3)\n",
    "            right_op1, right_op2, right_op3 = op1, op2, op3\n",
    "            result_found_num += 1\n",
    "\n",
    "        #print(result_found_num)\n",
    "        #print('the ratio of success is:{}'.format(result_found_num / total_tests))\n",
    "        \n",
    "    if result_found_num != 0: \n",
    "        print('😁我找到方法了, 答案是 {}{}{}{}{}{}{}'.format(card1, right_op1, card2, right_op2, card3, right_op3, card4))\n",
    "    else:\n",
    "        print('我没有找到答案 😂')\n",
    "    #print('after {} tests, the ratio of success is:{}'.format(total_tests, result_found_num / total_tests))"
   ]
  },
  {
   "cell_type": "code",
   "execution_count": 838,
   "metadata": {},
   "outputs": [
    {
     "ename": "TypeError",
     "evalue": "get_right_answer_by_random() takes 1 positional argument but 4 were given",
     "output_type": "error",
     "traceback": [
      "\u001b[0;31m---------------------------------------------------------------------------\u001b[0m",
      "\u001b[0;31mTypeError\u001b[0m                                 Traceback (most recent call last)",
      "\u001b[0;32m<ipython-input-838-cb1f2df551b8>\u001b[0m in \u001b[0;36m<module>\u001b[0;34m\u001b[0m\n\u001b[0;32m----> 1\u001b[0;31m \u001b[0mget_right_answer_by_random\u001b[0m\u001b[0;34m(\u001b[0m\u001b[0;36m1\u001b[0m\u001b[0;34m,\u001b[0m \u001b[0;36m3\u001b[0m\u001b[0;34m,\u001b[0m \u001b[0;36m1\u001b[0m\u001b[0;34m,\u001b[0m \u001b[0;36m1\u001b[0m\u001b[0;34m)\u001b[0m\u001b[0;34m\u001b[0m\u001b[0;34m\u001b[0m\u001b[0m\n\u001b[0m",
      "\u001b[0;31mTypeError\u001b[0m: get_right_answer_by_random() takes 1 positional argument but 4 were given"
     ]
    }
   ],
   "source": [
    "get_right_answer_by_random(1, 3, 1, 1)"
   ]
  },
  {
   "cell_type": "code",
   "execution_count": 893,
   "metadata": {},
   "outputs": [
    {
     "name": "stdout",
     "output_type": "stream",
     "text": [
      "我抽到的牌是: [10, 2, 5, 6]\n",
      "😁我找到方法了, 答案是 10*2/5*6\n"
     ]
    }
   ],
   "source": [
    "new_cards = [rand_card() for _ in range(4)]\n",
    "print('我抽到的牌是: {}'.format(new_cards))\n",
    "get_right_answer_by_random(new_cards)"
   ]
  },
  {
   "cell_type": "code",
   "execution_count": 899,
   "metadata": {},
   "outputs": [
    {
     "name": "stdout",
     "output_type": "stream",
     "text": [
      "我抽到的牌是: [14, 7, 1, 9]\n",
      "我没有找到答案 😂\n",
      "我抽到的牌是: [10, 6, 13, 11]\n",
      "我没有找到答案 😂\n",
      "我抽到的牌是: [5, 9, 4, 14]\n",
      "我没有找到答案 😂\n",
      "我抽到的牌是: [12, 4, 4, 3]\n",
      "我没有找到答案 😂\n",
      "我抽到的牌是: [8, 8, 1, 9]\n",
      "😁我找到方法了, 答案是 8+8-1+9\n",
      "我抽到的牌是: [7, 9, 6, 10]\n",
      "我没有找到答案 😂\n",
      "我抽到的牌是: [13, 7, 5, 9]\n",
      "我没有找到答案 😂\n",
      "我抽到的牌是: [7, 14, 5, 4]\n",
      "我没有找到答案 😂\n",
      "我抽到的牌是: [12, 4, 9, 3]\n",
      "😁我找到方法了, 答案是 12-4*9/3\n",
      "我抽到的牌是: [3, 8, 2, 10]\n",
      "我没有找到答案 😂\n"
     ]
    }
   ],
   "source": [
    "for _ in range(10):\n",
    "    new_cards = [rand_card() for _ in range(4)]\n",
    "    print('我抽到的牌是: {}'.format(new_cards))\n",
    "    get_right_answer_by_random(new_cards)"
   ]
  },
  {
   "cell_type": "code",
   "execution_count": 903,
   "metadata": {},
   "outputs": [],
   "source": [
    "def get_right_answer_by_random_with_brace(cards):\n",
    "    # with_brace\n",
    "    card1, card2, card3, card4 = cards\n",
    "    result_found_num= 0\n",
    "\n",
    "    total_tests = 64\n",
    "    \n",
    "    right_op1, right_op2, right_op3 = None, None, None\n",
    "\n",
    "    for i in range(total_tests):\n",
    "        op1 = random_op()\n",
    "        result_of_first_two_cards = op(card1, card2, op1)\n",
    "        #print(result_of_first_two_cards)\n",
    "\n",
    "        op2 = random_op()\n",
    "        result_of_first_three_cards = op(result_of_first_two_cards, card3, op2)\n",
    "        #print(result_of_first_three_cards)\n",
    "\n",
    "        op3 = random_op()\n",
    "        result_of_total = op(result_of_first_three_cards, card4, op3)\n",
    "       # print(result_of_total)\n",
    "\n",
    "        if result_of_total == 24: \n",
    "            #print('😁我找到方法了, 答案是 {}{}{}{}{}{}{}'.format(card1, op1, card2, op2, card3, op3, card4))\n",
    "            #print(op1, op2, op3)\n",
    "            right_op1, right_op2, right_op3 = op1, op2, op3\n",
    "            result_found_num += 1\n",
    "\n",
    "        #print(result_found_num)\n",
    "        #print('the ratio of success is:{}'.format(result_found_num / total_tests))\n",
    "        \n",
    "    if result_found_num != 0: \n",
    "        print('😁我找到方法了, 答案是 (({}{}{}){}{}){}{}'.format(card1, right_op1, card2, right_op2, card3, right_op3, card4))\n",
    "    else:\n",
    "        print('我没有找到答案 😂')\n",
    "    #print('after {} tests, the ratio of success is:{}'.format(total_tests, result_found_num / total_tests))"
   ]
  },
  {
   "cell_type": "code",
   "execution_count": 905,
   "metadata": {},
   "outputs": [
    {
     "name": "stdout",
     "output_type": "stream",
     "text": [
      "我抽到的牌是: [14, 13, 2, 6]\n",
      "我没有找到答案 😂\n",
      "我抽到的牌是: [12, 12, 9, 8]\n",
      "😁我找到方法了, 答案是 ((12*12)/9)+8\n",
      "我抽到的牌是: [1, 6, 4, 2]\n",
      "我没有找到答案 😂\n",
      "我抽到的牌是: [1, 10, 7, 7]\n",
      "😁我找到方法了, 答案是 ((1*10)+7)+7\n",
      "我抽到的牌是: [7, 14, 6, 13]\n",
      "我没有找到答案 😂\n",
      "我抽到的牌是: [3, 11, 10, 5]\n",
      "我没有找到答案 😂\n",
      "我抽到的牌是: [9, 2, 1, 13]\n",
      "😁我找到方法了, 答案是 ((9+2)*1)+13\n",
      "我抽到的牌是: [2, 5, 10, 13]\n",
      "我没有找到答案 😂\n",
      "我抽到的牌是: [2, 11, 6, 1]\n",
      "我没有找到答案 😂\n",
      "我抽到的牌是: [10, 7, 3, 6]\n",
      "我没有找到答案 😂\n"
     ]
    }
   ],
   "source": [
    "for _ in range(10):\n",
    "    new_cards = [rand_card() for _ in range(4)]\n",
    "    print('我抽到的牌是: {}'.format(new_cards))\n",
    "    get_right_answer_by_random_with_brace(new_cards)"
   ]
  },
  {
   "cell_type": "code",
   "execution_count": 914,
   "metadata": {},
   "outputs": [
    {
     "data": {
      "text/plain": [
       "19"
      ]
     },
     "execution_count": 914,
     "metadata": {},
     "output_type": "execute_result"
    }
   ],
   "source": [
    "eval('2+3+4+10')"
   ]
  },
  {
   "cell_type": "markdown",
   "metadata": {},
   "source": [
    "eval() = evalute"
   ]
  },
  {
   "cell_type": "code",
   "execution_count": 916,
   "metadata": {},
   "outputs": [],
   "source": [
    "new_cards = [rand_card() for _ in range(4)]"
   ]
  },
  {
   "cell_type": "code",
   "execution_count": 917,
   "metadata": {},
   "outputs": [],
   "source": [
    "def get_new_cards(): \n",
    "    return [rand_card() for _ in range(4)]"
   ]
  },
  {
   "cell_type": "code",
   "execution_count": 926,
   "metadata": {},
   "outputs": [
    {
     "data": {
      "text/plain": [
       "[2, 2, 3, 8]"
      ]
     },
     "execution_count": 926,
     "metadata": {},
     "output_type": "execute_result"
    }
   ],
   "source": [
    "get_new_cards()"
   ]
  },
  {
   "cell_type": "code",
   "execution_count": 1041,
   "metadata": {},
   "outputs": [],
   "source": [
    "from itertools import combinations"
   ]
  },
  {
   "cell_type": "code",
   "execution_count": 1043,
   "metadata": {},
   "outputs": [],
   "source": [
    "combinations?"
   ]
  },
  {
   "cell_type": "code",
   "execution_count": 1046,
   "metadata": {},
   "outputs": [
    {
     "name": "stdout",
     "output_type": "stream",
     "text": [
      "('+', '-', '*')\n",
      "('+', '-', '/')\n",
      "('+', '*', '/')\n",
      "('-', '*', '/')\n"
     ]
    }
   ],
   "source": [
    "for c in combinations(['+', '-', '*', '/'], 3):\n",
    "    print(c)"
   ]
  },
  {
   "cell_type": "code",
   "execution_count": 1068,
   "metadata": {},
   "outputs": [],
   "source": [
    "from itertools import product"
   ]
  },
  {
   "cell_type": "code",
   "execution_count": 1070,
   "metadata": {},
   "outputs": [
    {
     "name": "stdout",
     "output_type": "stream",
     "text": [
      "('+', '+', '+')\n",
      "('+', '+', '-')\n",
      "('+', '+', '*')\n",
      "('+', '+', '/')\n",
      "('+', '-', '+')\n",
      "('+', '-', '-')\n",
      "('+', '-', '*')\n",
      "('+', '-', '/')\n",
      "('+', '*', '+')\n",
      "('+', '*', '-')\n",
      "('+', '*', '*')\n",
      "('+', '*', '/')\n",
      "('+', '/', '+')\n",
      "('+', '/', '-')\n",
      "('+', '/', '*')\n",
      "('+', '/', '/')\n",
      "('-', '+', '+')\n",
      "('-', '+', '-')\n",
      "('-', '+', '*')\n",
      "('-', '+', '/')\n",
      "('-', '-', '+')\n",
      "('-', '-', '-')\n",
      "('-', '-', '*')\n",
      "('-', '-', '/')\n",
      "('-', '*', '+')\n",
      "('-', '*', '-')\n",
      "('-', '*', '*')\n",
      "('-', '*', '/')\n",
      "('-', '/', '+')\n",
      "('-', '/', '-')\n",
      "('-', '/', '*')\n",
      "('-', '/', '/')\n",
      "('*', '+', '+')\n",
      "('*', '+', '-')\n",
      "('*', '+', '*')\n",
      "('*', '+', '/')\n",
      "('*', '-', '+')\n",
      "('*', '-', '-')\n",
      "('*', '-', '*')\n",
      "('*', '-', '/')\n",
      "('*', '*', '+')\n",
      "('*', '*', '-')\n",
      "('*', '*', '*')\n",
      "('*', '*', '/')\n",
      "('*', '/', '+')\n",
      "('*', '/', '-')\n",
      "('*', '/', '*')\n",
      "('*', '/', '/')\n",
      "('/', '+', '+')\n",
      "('/', '+', '-')\n",
      "('/', '+', '*')\n",
      "('/', '+', '/')\n",
      "('/', '-', '+')\n",
      "('/', '-', '-')\n",
      "('/', '-', '*')\n",
      "('/', '-', '/')\n",
      "('/', '*', '+')\n",
      "('/', '*', '-')\n",
      "('/', '*', '*')\n",
      "('/', '*', '/')\n",
      "('/', '/', '+')\n",
      "('/', '/', '-')\n",
      "('/', '/', '*')\n",
      "('/', '/', '/')\n"
     ]
    }
   ],
   "source": [
    "for c in product(['+', '-', '*', '/'], repeat=3):\n",
    "    print(c)"
   ]
  },
  {
   "cell_type": "code",
   "execution_count": 1082,
   "metadata": {},
   "outputs": [],
   "source": [
    "def get_all_opeartion_combine(cards):\n",
    "    c1, c2, c3, c4 = cards\n",
    "    operations = ['+', '-', '*', '/']\n",
    "    \n",
    "    expressions = []\n",
    "\n",
    "    for ops in product(operations, repeat=len(cards) - 1): # why not set 3 directly\n",
    "        op1, op2, op3 = ops\n",
    "        \n",
    "        expressions.append('{}{}{}{}{}{}{}'.format(c1, op1, c2, op2, c3, op3, c4))\n",
    "    \n",
    "    return expressions"
   ]
  },
  {
   "cell_type": "code",
   "execution_count": 1083,
   "metadata": {},
   "outputs": [
    {
     "name": "stdout",
     "output_type": "stream",
     "text": [
      "我抽到的牌是:[10, 9, 10, 13]\n"
     ]
    }
   ],
   "source": [
    "r_cards = get_new_cards()\n",
    "print('我抽到的牌是:{}'.format(r_cards))"
   ]
  },
  {
   "cell_type": "code",
   "execution_count": 1084,
   "metadata": {},
   "outputs": [
    {
     "data": {
      "text/plain": [
       "64"
      ]
     },
     "execution_count": 1084,
     "metadata": {},
     "output_type": "execute_result"
    }
   ],
   "source": [
    "len(get_all_opeartion_combine(r_cards))"
   ]
  },
  {
   "cell_type": "code",
   "execution_count": 1111,
   "metadata": {},
   "outputs": [
    {
     "data": {
      "text/plain": [
       "[6, 14, 11, 10]"
      ]
     },
     "execution_count": 1111,
     "metadata": {},
     "output_type": "execute_result"
    }
   ],
   "source": [
    "r_cards = get_new_cards()\n",
    "r_cards"
   ]
  },
  {
   "cell_type": "code",
   "execution_count": 1112,
   "metadata": {},
   "outputs": [],
   "source": [
    "for exp in get_all_opeartion_combine(r_cards):\n",
    "    if eval(exp) == 24:\n",
    "        print(exp)\n",
    "        break"
   ]
  },
  {
   "cell_type": "code",
   "execution_count": 1144,
   "metadata": {},
   "outputs": [
    {
     "name": "stdout",
     "output_type": "stream",
     "text": [
      "9+10+11-6\n"
     ]
    }
   ],
   "source": [
    "car1 = 9\n",
    "car2 = 10\n",
    "car3 = 11\n",
    "car4 = 6\n",
    "\n",
    "r_cards = [car1, car2, car3, car4]\n",
    "\n",
    "for exp in get_all_opeartion_combine(r_cards):\n",
    "    if eval(exp) == 24:\n",
    "        print(exp)\n",
    "        break"
   ]
  },
  {
   "cell_type": "code",
   "execution_count": 1173,
   "metadata": {},
   "outputs": [],
   "source": [
    "def simple_but_may_not_answer_24point(cards):\n",
    "    result = None\n",
    "    \n",
    "    for exp in get_all_opeartion_combine(cards):\n",
    "        if eval(exp) == 24: \n",
    "            result = exp\n",
    "            break\n",
    "            \n",
    "    print('我找到的答案是:{}'.format(result))\n",
    "    \n",
    "    return result"
   ]
  },
  {
   "cell_type": "code",
   "execution_count": 1179,
   "metadata": {},
   "outputs": [
    {
     "name": "stdout",
     "output_type": "stream",
     "text": [
      "我抽到的牌是: [6, 13, 12, 10]\n",
      "我找到的答案是:None\n",
      "我抽到的牌是: [1, 5, 13, 9]\n",
      "我找到的答案是:None\n",
      "我抽到的牌是: [3, 5, 12, 7]\n",
      "我找到的答案是:None\n",
      "我抽到的牌是: [14, 7, 13, 2]\n",
      "我找到的答案是:14/7*13-2\n",
      "我抽到的牌是: [4, 4, 11, 1]\n",
      "我找到的答案是:None\n",
      "我抽到的牌是: [3, 2, 1, 14]\n",
      "我找到的答案是:None\n",
      "我抽到的牌是: [12, 13, 7, 8]\n",
      "我找到的答案是:12+13+7-8\n",
      "我抽到的牌是: [2, 4, 13, 10]\n",
      "我找到的答案是:None\n",
      "我抽到的牌是: [13, 3, 9, 6]\n",
      "我找到的答案是:13*3-9-6\n",
      "我抽到的牌是: [14, 1, 6, 12]\n",
      "我找到的答案是:None\n",
      "我抽到的牌是: [9, 8, 12, 8]\n",
      "我找到的答案是:None\n",
      "我抽到的牌是: [8, 5, 10, 5]\n",
      "我找到的答案是:None\n",
      "我抽到的牌是: [11, 13, 13, 3]\n",
      "我找到的答案是:None\n",
      "我抽到的牌是: [7, 11, 3, 3]\n",
      "我找到的答案是:7+11+3+3\n",
      "我抽到的牌是: [12, 14, 8, 3]\n",
      "我找到的答案是:12*14/8+3\n",
      "我抽到的牌是: [11, 1, 4, 13]\n",
      "我找到的答案是:None\n",
      "我抽到的牌是: [1, 13, 2, 13]\n",
      "我找到的答案是:1*13-2+13\n",
      "我抽到的牌是: [12, 5, 14, 12]\n",
      "我找到的答案是:None\n",
      "我抽到的牌是: [2, 11, 14, 13]\n",
      "我找到的答案是:None\n",
      "我抽到的牌是: [10, 5, 9, 11]\n",
      "我找到的答案是:None\n",
      "我抽到的牌是: [13, 2, 2, 4]\n",
      "我找到的答案是:13*2+2-4\n",
      "我抽到的牌是: [10, 14, 1, 7]\n",
      "我找到的答案是:None\n",
      "我抽到的牌是: [4, 5, 4, 5]\n",
      "我找到的答案是:None\n",
      "我抽到的牌是: [9, 9, 14, 6]\n",
      "我找到的答案是:None\n",
      "我抽到的牌是: [8, 10, 4, 6]\n",
      "我找到的答案是:None\n",
      "我抽到的牌是: [12, 1, 3, 1]\n",
      "我找到的答案是:None\n",
      "我抽到的牌是: [7, 1, 14, 11]\n",
      "我找到的答案是:None\n",
      "我抽到的牌是: [2, 5, 4, 12]\n",
      "我找到的答案是:None\n",
      "我抽到的牌是: [9, 6, 14, 2]\n",
      "我找到的答案是:None\n",
      "我抽到的牌是: [1, 3, 14, 4]\n",
      "我找到的答案是:None\n",
      "我抽到的牌是: [4, 5, 8, 5]\n",
      "我找到的答案是:None\n",
      "我抽到的牌是: [10, 7, 7, 9]\n",
      "我找到的答案是:None\n",
      "我抽到的牌是: [2, 2, 7, 10]\n",
      "我找到的答案是:None\n",
      "我抽到的牌是: [1, 13, 7, 5]\n",
      "我找到的答案是:None\n",
      "我抽到的牌是: [2, 6, 13, 1]\n",
      "我找到的答案是:2*6+13-1\n",
      "我抽到的牌是: [6, 1, 10, 6]\n",
      "我找到的答案是:None\n",
      "我抽到的牌是: [4, 12, 1, 7]\n",
      "我找到的答案是:4+12+1+7\n",
      "我抽到的牌是: [7, 8, 1, 9]\n",
      "我找到的答案是:7+8+1*9\n",
      "我抽到的牌是: [3, 2, 4, 14]\n",
      "我找到的答案是:3*2+4+14\n",
      "我抽到的牌是: [3, 2, 13, 10]\n",
      "我找到的答案是:3-2+13+10\n",
      "我抽到的牌是: [11, 4, 9, 5]\n",
      "我找到的答案是:None\n",
      "我抽到的牌是: [10, 6, 7, 11]\n",
      "我找到的答案是:None\n",
      "我抽到的牌是: [13, 13, 5, 8]\n",
      "我找到的答案是:None\n",
      "我抽到的牌是: [1, 10, 14, 13]\n",
      "我找到的答案是:None\n",
      "我抽到的牌是: [14, 6, 11, 2]\n",
      "我找到的答案是:None\n",
      "我抽到的牌是: [2, 3, 1, 8]\n",
      "我找到的答案是:None\n",
      "我抽到的牌是: [2, 1, 7, 8]\n",
      "我找到的答案是:None\n",
      "我抽到的牌是: [3, 6, 14, 4]\n",
      "我找到的答案是:3+6*14/4\n",
      "我抽到的牌是: [8, 13, 1, 9]\n",
      "我找到的答案是:None\n",
      "我抽到的牌是: [8, 12, 14, 9]\n",
      "我找到的答案是:None\n",
      "我抽到的牌是: [4, 6, 6, 2]\n",
      "我找到的答案是:None\n",
      "我抽到的牌是: [11, 4, 13, 11]\n",
      "我找到的答案是:None\n",
      "我抽到的牌是: [8, 9, 6, 4]\n",
      "我找到的答案是:None\n",
      "我抽到的牌是: [12, 12, 6, 11]\n",
      "我找到的答案是:None\n",
      "我抽到的牌是: [12, 4, 11, 6]\n",
      "我找到的答案是:None\n",
      "我抽到的牌是: [13, 3, 4, 5]\n",
      "我找到的答案是:None\n",
      "我抽到的牌是: [7, 8, 14, 4]\n",
      "我找到的答案是:None\n",
      "我抽到的牌是: [9, 8, 2, 3]\n",
      "我找到的答案是:None\n",
      "我抽到的牌是: [8, 10, 2, 4]\n",
      "我找到的答案是:8+10+2+4\n",
      "我抽到的牌是: [6, 6, 9, 4]\n",
      "我找到的答案是:None\n",
      "我抽到的牌是: [1, 8, 8, 11]\n",
      "我找到的答案是:None\n",
      "我抽到的牌是: [5, 7, 3, 7]\n",
      "我找到的答案是:None\n",
      "我抽到的牌是: [5, 11, 5, 7]\n",
      "我找到的答案是:None\n",
      "我抽到的牌是: [6, 12, 14, 4]\n",
      "我找到的答案是:None\n",
      "我抽到的牌是: [5, 4, 6, 14]\n",
      "我找到的答案是:None\n",
      "我抽到的牌是: [10, 9, 7, 11]\n",
      "我找到的答案是:None\n",
      "我抽到的牌是: [3, 5, 7, 14]\n",
      "我找到的答案是:3+5*7-14\n",
      "我抽到的牌是: [6, 3, 9, 5]\n",
      "我找到的答案是:None\n",
      "我抽到的牌是: [8, 6, 1, 5]\n",
      "我找到的答案是:None\n",
      "我抽到的牌是: [12, 10, 6, 2]\n",
      "我找到的答案是:None\n",
      "我抽到的牌是: [13, 6, 6, 12]\n",
      "我找到的答案是:13-6/6+12\n",
      "我抽到的牌是: [6, 2, 3, 13]\n",
      "我找到的答案是:6+2+3+13\n",
      "我抽到的牌是: [2, 4, 3, 12]\n",
      "我找到的答案是:None\n",
      "我抽到的牌是: [9, 11, 2, 1]\n",
      "我找到的答案是:None\n",
      "我抽到的牌是: [2, 12, 10, 14]\n",
      "我找到的答案是:None\n",
      "我抽到的牌是: [5, 13, 7, 7]\n",
      "我找到的答案是:None\n",
      "我抽到的牌是: [6, 10, 1, 14]\n",
      "我找到的答案是:None\n",
      "我抽到的牌是: [13, 4, 1, 4]\n",
      "我找到的答案是:None\n",
      "我抽到的牌是: [3, 6, 1, 6]\n",
      "我找到的答案是:3*6+1*6\n",
      "我抽到的牌是: [1, 11, 5, 5]\n",
      "我找到的答案是:None\n",
      "我抽到的牌是: [14, 13, 6, 3]\n",
      "我找到的答案是:14+13-6+3\n",
      "我抽到的牌是: [13, 3, 2, 12]\n",
      "我找到的答案是:13-3+2+12\n",
      "我抽到的牌是: [14, 9, 12, 14]\n",
      "我找到的答案是:None\n",
      "我抽到的牌是: [4, 12, 13, 2]\n",
      "我找到的答案是:None\n",
      "我抽到的牌是: [7, 4, 2, 7]\n",
      "我找到的答案是:None\n",
      "我抽到的牌是: [10, 11, 2, 9]\n",
      "我找到的答案是:None\n",
      "我抽到的牌是: [13, 7, 7, 8]\n",
      "我找到的答案是:None\n",
      "我抽到的牌是: [11, 5, 2, 8]\n",
      "我找到的答案是:None\n",
      "我抽到的牌是: [8, 1, 12, 12]\n",
      "我找到的答案是:None\n",
      "我抽到的牌是: [13, 1, 14, 12]\n",
      "我找到的答案是:None\n",
      "我抽到的牌是: [11, 14, 13, 6]\n",
      "我找到的答案是:None\n",
      "我抽到的牌是: [2, 8, 14, 7]\n",
      "我找到的答案是:None\n",
      "我抽到的牌是: [2, 9, 2, 13]\n",
      "我找到的答案是:None\n",
      "我抽到的牌是: [10, 6, 6, 2]\n",
      "我找到的答案是:10+6+6+2\n",
      "我抽到的牌是: [11, 1, 2, 6]\n",
      "我找到的答案是:11+1+2*6\n",
      "我抽到的牌是: [3, 5, 13, 8]\n",
      "我找到的答案是:None\n",
      "我抽到的牌是: [13, 7, 10, 9]\n",
      "我找到的答案是:None\n",
      "我抽到的牌是: [13, 11, 1, 12]\n",
      "我找到的答案是:None\n",
      "我抽到的牌是: [8, 4, 12, 5]\n",
      "我找到的答案是:None\n",
      "我抽到的牌是: [10, 3, 8, 4]\n",
      "我找到的答案是:None\n",
      "the ratoi of find answer == 0.22\n"
     ]
    }
   ],
   "source": [
    "found_answers = []\n",
    "\n",
    "\n",
    "total_test = 100\n",
    "\n",
    "for _ in range(total_test):\n",
    "    r_cards = get_new_cards()\n",
    "    print('我抽到的牌是: {}'.format(r_cards))\n",
    "    res = simple_but_may_not_answer_24point(r_cards)\n",
    "    if res: found_answers.append(r_cards)\n",
    "    \n",
    "print('the ratoi of find answer == {}'.format(len(found_answers)/total_test))"
   ]
  },
  {
   "cell_type": "markdown",
   "metadata": {},
   "source": [
    "## With Numbers Exchange"
   ]
  },
  {
   "cell_type": "code",
   "execution_count": 1155,
   "metadata": {},
   "outputs": [],
   "source": [
    "from itertools import permutations"
   ]
  },
  {
   "cell_type": "code",
   "execution_count": 1163,
   "metadata": {},
   "outputs": [],
   "source": [
    "def get_all_opeartion_combine(cards):\n",
    "    c1, c2, c3, c4 = cards\n",
    "    operations = ['+', '-', '*', '/']\n",
    "    \n",
    "    expressions = []\n",
    "\n",
    "    for ops in product(operations, repeat=len(cards) - 1): # why not set 3 directly\n",
    "        op1, op2, op3 = ops\n",
    "        \n",
    "        expressions.append('{}{}{}{}{}{}{}'.format(c1, op1, c2, op2, c3, op3, c4))\n",
    "    \n",
    "    return expressions\n",
    "\n",
    "def get_all_opeartion_combine_with_number_exchange(cards):\n",
    "    all_result = []\n",
    "    \n",
    "    for cards_exchange in permutations(cards):\n",
    "        all_result += get_all_opeartion_combine(cards_exchange)\n",
    "    \n",
    "    return all_result"
   ]
  },
  {
   "cell_type": "code",
   "execution_count": 1159,
   "metadata": {},
   "outputs": [
    {
     "data": {
      "text/plain": [
       "[4, 10, 14, 1]"
      ]
     },
     "execution_count": 1159,
     "metadata": {},
     "output_type": "execute_result"
    }
   ],
   "source": [
    "[4, 10, 14, 1]"
   ]
  },
  {
   "cell_type": "code",
   "execution_count": 1164,
   "metadata": {},
   "outputs": [],
   "source": [
    "all_combine = get_all_opeartion_combine_with_number_exchange([4, 10, 14, 1])"
   ]
  },
  {
   "cell_type": "code",
   "execution_count": 1182,
   "metadata": {},
   "outputs": [],
   "source": [
    "def simple_but_may_not_answer_24point_powerful(cards):\n",
    "    result = None\n",
    "    \n",
    "    for exp in get_all_opeartion_combine_with_number_exchange(cards):\n",
    "        if eval(exp) == 24: \n",
    "            result = exp\n",
    "            break\n",
    "            \n",
    "    print('我找到的答案是:{}'.format(result))\n",
    "    \n",
    "    return result"
   ]
  },
  {
   "cell_type": "code",
   "execution_count": 1187,
   "metadata": {
    "scrolled": false
   },
   "outputs": [
    {
     "name": "stdout",
     "output_type": "stream",
     "text": [
      "我抽到的牌是: [1, 10, 7, 3]\n",
      "我找到的答案是:1+10*3-7\n",
      "我抽到的牌是: [2, 13, 8, 14]\n",
      "我找到的答案是:None\n",
      "我抽到的牌是: [8, 5, 2, 7]\n",
      "我找到的答案是:None\n",
      "我抽到的牌是: [7, 7, 7, 3]\n",
      "我找到的答案是:7+7+7+3\n",
      "我抽到的牌是: [5, 11, 3, 2]\n",
      "我找到的答案是:5+11*2-3\n",
      "我抽到的牌是: [4, 5, 12, 10]\n",
      "我找到的答案是:4*5*12/10\n",
      "我抽到的牌是: [10, 3, 5, 2]\n",
      "我找到的答案是:None\n",
      "我抽到的牌是: [8, 3, 8, 11]\n",
      "我找到的答案是:8-3+8+11\n",
      "我抽到的牌是: [8, 10, 13, 14]\n",
      "我找到的答案是:None\n",
      "我抽到的牌是: [5, 5, 2, 5]\n",
      "我找到的答案是:None\n",
      "我抽到的牌是: [11, 12, 13, 2]\n",
      "我找到的答案是:None\n",
      "我抽到的牌是: [8, 4, 5, 6]\n",
      "我找到的答案是:None\n",
      "我抽到的牌是: [3, 1, 4, 6]\n",
      "我找到的答案是:None\n",
      "我抽到的牌是: [9, 5, 7, 8]\n",
      "我找到的答案是:5*8-9-7\n",
      "我抽到的牌是: [1, 7, 5, 7]\n",
      "我找到的答案是:None\n",
      "我抽到的牌是: [2, 8, 13, 8]\n",
      "我找到的答案是:None\n",
      "我抽到的牌是: [3, 10, 4, 11]\n",
      "我找到的答案是:None\n",
      "我抽到的牌是: [2, 11, 9, 4]\n",
      "我找到的答案是:None\n",
      "我抽到的牌是: [13, 8, 1, 14]\n",
      "我找到的答案是:None\n",
      "我抽到的牌是: [5, 7, 14, 8]\n",
      "我找到的答案是:7-5+14+8\n",
      "我抽到的牌是: [11, 12, 7, 3]\n",
      "我找到的答案是:None\n",
      "我抽到的牌是: [10, 1, 14, 3]\n",
      "我找到的答案是:None\n",
      "我抽到的牌是: [6, 10, 9, 14]\n",
      "我找到的答案是:None\n",
      "我抽到的牌是: [12, 5, 9, 14]\n",
      "我找到的答案是:None\n",
      "我抽到的牌是: [14, 11, 14, 6]\n",
      "我找到的答案是:None\n",
      "我抽到的牌是: [13, 7, 2, 13]\n",
      "我找到的答案是:None\n",
      "我抽到的牌是: [1, 1, 13, 4]\n",
      "我找到的答案是:None\n",
      "我抽到的牌是: [10, 11, 5, 8]\n",
      "我找到的答案是:10+11-5+8\n",
      "我抽到的牌是: [11, 12, 9, 4]\n",
      "我找到的答案是:11*12/4-9\n",
      "我抽到的牌是: [9, 13, 14, 6]\n",
      "我找到的答案是:13-9+14+6\n",
      "我抽到的牌是: [6, 3, 6, 1]\n",
      "我找到的答案是:6+3*6*1\n",
      "我抽到的牌是: [12, 5, 14, 2]\n",
      "我找到的答案是:12+5+14/2\n",
      "我抽到的牌是: [5, 12, 9, 13]\n",
      "我找到的答案是:None\n",
      "我抽到的牌是: [4, 11, 14, 7]\n",
      "我找到的答案是:None\n",
      "我抽到的牌是: [12, 14, 14, 11]\n",
      "我找到的答案是:12+14/14+11\n",
      "我抽到的牌是: [4, 12, 14, 4]\n",
      "我找到的答案是:None\n",
      "我抽到的牌是: [13, 13, 8, 6]\n",
      "我找到的答案是:13+13-8+6\n",
      "我抽到的牌是: [5, 13, 2, 1]\n",
      "我找到的答案是:5*2+13+1\n",
      "我抽到的牌是: [10, 2, 4, 11]\n",
      "我找到的答案是:4*11-10*2\n",
      "我抽到的牌是: [2, 13, 4, 4]\n",
      "我找到的答案是:None\n",
      "我抽到的牌是: [6, 1, 8, 7]\n",
      "我找到的答案是:None\n",
      "我抽到的牌是: [10, 2, 2, 6]\n",
      "我找到的答案是:10+2+2*6\n",
      "我抽到的牌是: [14, 5, 13, 11]\n",
      "我找到的答案是:None\n",
      "我抽到的牌是: [1, 3, 6, 10]\n",
      "我找到的答案是:1*3*10-6\n",
      "我抽到的牌是: [3, 14, 7, 13]\n",
      "我找到的答案是:None\n",
      "我抽到的牌是: [11, 4, 12, 5]\n",
      "我找到的答案是:11-4+12+5\n",
      "我抽到的牌是: [14, 11, 9, 9]\n",
      "我找到的答案是:14+11-9/9\n",
      "我抽到的牌是: [13, 14, 7, 6]\n",
      "我找到的答案是:None\n",
      "我抽到的牌是: [13, 2, 10, 8]\n",
      "我找到的答案是:13*2-10+8\n",
      "我抽到的牌是: [14, 2, 3, 14]\n",
      "我找到的答案是:14/2+3+14\n",
      "我抽到的牌是: [1, 10, 10, 12]\n",
      "我找到的答案是:None\n",
      "我抽到的牌是: [12, 7, 10, 13]\n",
      "我找到的答案是:None\n",
      "我抽到的牌是: [6, 11, 3, 4]\n",
      "我找到的答案是:6+11+3+4\n",
      "我抽到的牌是: [7, 10, 13, 14]\n",
      "我找到的答案是:7-10+13+14\n",
      "我抽到的牌是: [12, 11, 3, 8]\n",
      "我找到的答案是:None\n",
      "我抽到的牌是: [3, 1, 3, 9]\n",
      "我找到的答案是:3*1*9-3\n",
      "我抽到的牌是: [5, 9, 14, 8]\n",
      "我找到的答案是:None\n",
      "我抽到的牌是: [4, 1, 6, 13]\n",
      "我找到的答案是:4+1+6+13\n",
      "我抽到的牌是: [4, 1, 6, 14]\n",
      "我找到的答案是:4+1*6+14\n",
      "我抽到的牌是: [1, 13, 8, 12]\n",
      "我找到的答案是:None\n",
      "我抽到的牌是: [5, 5, 7, 1]\n",
      "我找到的答案是:None\n",
      "我抽到的牌是: [8, 13, 5, 7]\n",
      "我找到的答案是:None\n",
      "我抽到的牌是: [1, 9, 2, 5]\n",
      "我找到的答案是:1+9*2+5\n",
      "我抽到的牌是: [6, 7, 2, 7]\n",
      "我找到的答案是:None\n",
      "我抽到的牌是: [10, 2, 5, 14]\n",
      "我找到的答案是:10/2+5+14\n",
      "我抽到的牌是: [4, 8, 2, 14]\n",
      "我找到的答案是:4+8-2+14\n",
      "我抽到的牌是: [12, 3, 6, 8]\n",
      "我找到的答案是:None\n",
      "我抽到的牌是: [13, 5, 10, 9]\n",
      "我找到的答案是:13+10/5+9\n",
      "我抽到的牌是: [4, 12, 3, 11]\n",
      "我找到的答案是:4+12-3+11\n",
      "我抽到的牌是: [12, 9, 3, 8]\n",
      "我找到的答案是:None\n",
      "我抽到的牌是: [12, 3, 5, 14]\n",
      "我找到的答案是:12+3-5+14\n",
      "我抽到的牌是: [6, 9, 2, 5]\n",
      "我找到的答案是:6/2*5+9\n",
      "我抽到的牌是: [5, 2, 11, 5]\n",
      "我找到的答案是:None\n",
      "我抽到的牌是: [10, 12, 7, 1]\n",
      "我找到的答案是:None\n",
      "我抽到的牌是: [10, 4, 5, 12]\n",
      "我找到的答案是:4/10*5*12\n",
      "我抽到的牌是: [3, 7, 5, 8]\n",
      "我找到的答案是:3*7-5+8\n",
      "我抽到的牌是: [11, 10, 13, 3]\n",
      "我找到的答案是:None\n",
      "我抽到的牌是: [5, 2, 14, 7]\n",
      "我找到的答案是:5-2+14+7\n",
      "我抽到的牌是: [11, 8, 9, 12]\n",
      "我找到的答案是:11-8+9+12\n",
      "我抽到的牌是: [9, 3, 2, 1]\n",
      "我找到的答案是:9*3-2-1\n",
      "我抽到的牌是: [10, 4, 8, 7]\n",
      "我找到的答案是:10+8/4*7\n",
      "我抽到的牌是: [2, 11, 1, 4]\n",
      "我找到的答案是:None\n",
      "我抽到的牌是: [10, 7, 11, 2]\n",
      "我找到的答案是:10*7/2-11\n",
      "我抽到的牌是: [11, 3, 1, 7]\n",
      "我找到的答案是:None\n",
      "我抽到的牌是: [10, 8, 4, 10]\n",
      "我找到的答案是:10+8-4+10\n",
      "我抽到的牌是: [11, 8, 1, 2]\n",
      "我找到的答案是:None\n",
      "我抽到的牌是: [9, 4, 2, 4]\n",
      "我找到的答案是:None\n",
      "我抽到的牌是: [2, 4, 14, 5]\n",
      "我找到的答案是:4/2*5+14\n",
      "我抽到的牌是: [11, 10, 7, 13]\n",
      "我找到的答案是:None\n",
      "我抽到的牌是: [3, 10, 7, 6]\n",
      "我找到的答案是:10+7/3*6\n",
      "我抽到的牌是: [10, 12, 5, 11]\n",
      "我找到的答案是:None\n",
      "我抽到的牌是: [7, 10, 4, 6]\n",
      "我找到的答案是:7*4-10+6\n",
      "我抽到的牌是: [14, 14, 9, 4]\n",
      "我找到的答案是:None\n",
      "我抽到的牌是: [2, 11, 2, 14]\n",
      "我找到的答案是:11-2/2+14\n",
      "我抽到的牌是: [5, 4, 6, 13]\n",
      "我找到的答案是:None\n",
      "我抽到的牌是: [3, 14, 12, 5]\n",
      "我找到的答案是:3+14+12-5\n",
      "我抽到的牌是: [10, 7, 3, 2]\n",
      "我找到的答案是:10*2+7-3\n",
      "我抽到的牌是: [5, 12, 3, 6]\n",
      "我找到的答案是:None\n",
      "我抽到的牌是: [9, 14, 2, 6]\n",
      "我找到的答案是:None\n",
      "我抽到的牌是: [9, 9, 1, 9]\n",
      "我找到的答案是:None\n",
      "the ratio of find answer == 0.48\n"
     ]
    }
   ],
   "source": [
    "found_answers = []\n",
    "\n",
    "total_test = 100\n",
    "\n",
    "for _ in range(total_test):\n",
    "    r_cards = get_new_cards()\n",
    "    print('我抽到的牌是: {}'.format(r_cards))\n",
    "    res = simple_but_may_not_answer_24point_powerful(r_cards)\n",
    "    if res: found_answers.append(r_cards)\n",
    "    \n",
    "print('the ratio of find answer == {}'.format(len(found_answers)/total_test))"
   ]
  },
  {
   "cell_type": "markdown",
   "metadata": {},
   "source": [
    "## 为什么？ "
   ]
  },
  {
   "cell_type": "markdown",
   "metadata": {},
   "source": [
    "例如： 5， 4， 6， 13"
   ]
  },
  {
   "cell_type": "code",
   "execution_count": 1191,
   "metadata": {},
   "outputs": [
    {
     "data": {
      "text/plain": [
       "24"
      ]
     },
     "execution_count": 1191,
     "metadata": {},
     "output_type": "execute_result"
    }
   ],
   "source": [
    "6*((13-5)-4)"
   ]
  },
  {
   "cell_type": "code",
   "execution_count": 1190,
   "metadata": {
    "scrolled": true
   },
   "outputs": [
    {
     "data": {
      "text/plain": [
       "69"
      ]
     },
     "execution_count": 1190,
     "metadata": {},
     "output_type": "execute_result"
    }
   ],
   "source": [
    "6*13-5-4"
   ]
  },
  {
   "cell_type": "markdown",
   "metadata": {},
   "source": [
    "因为我们缺了括号！"
   ]
  },
  {
   "cell_type": "markdown",
   "metadata": {},
   "source": [
    "## 怎么加上括号呢 ？"
   ]
  },
  {
   "cell_type": "code",
   "execution_count": 1192,
   "metadata": {},
   "outputs": [],
   "source": [
    "a_list = [1, 2, 3, 4]"
   ]
  },
  {
   "cell_type": "code",
   "execution_count": 1194,
   "metadata": {},
   "outputs": [
    {
     "data": {
      "text/plain": [
       "[1, 2]"
      ]
     },
     "execution_count": 1194,
     "metadata": {},
     "output_type": "execute_result"
    }
   ],
   "source": [
    "a_list[:2]"
   ]
  },
  {
   "cell_type": "code",
   "execution_count": 1196,
   "metadata": {},
   "outputs": [
    {
     "data": {
      "text/plain": [
       "[4]"
      ]
     },
     "execution_count": 1196,
     "metadata": {},
     "output_type": "execute_result"
    }
   ],
   "source": [
    "a_list[3:]"
   ]
  },
  {
   "cell_type": "code",
   "execution_count": 1218,
   "metadata": {},
   "outputs": [],
   "source": [
    "def add_brace_of_number(numbers):\n",
    "    if len(numbers) < 2: return [numbers]\n",
    "    if len(numbers) == 2: return [['('] + numbers + [')']]\n",
    "    \n",
    "    results = []\n",
    "    \n",
    "    for i in range(1, len(numbers)):\n",
    "        prefix = numbers[:i]\n",
    "       # assert len(prefix) < len(numbers)\n",
    "        prefixs = add_brace_of_number(prefix)\n",
    "        \n",
    "        tail = numbers[i:]\n",
    "       # assert len(tail) < len(numbers)\n",
    "        tails = add_brace_of_number(tail)\n",
    "        \n",
    "        for p in prefixs:\n",
    "            for t in tails:\n",
    "                results.append(p + t)\n",
    "    \n",
    "    return results"
   ]
  },
  {
   "cell_type": "code",
   "execution_count": 1220,
   "metadata": {},
   "outputs": [
    {
     "data": {
      "text/plain": [
       "[[1, 2, 3, '(', 4, 5, ')'],\n",
       " [1, 2, '(', 3, 4, ')', 5],\n",
       " [1, '(', 2, 3, ')', '(', 4, 5, ')'],\n",
       " [1, 2, '(', 3, 4, ')', 5],\n",
       " [1, '(', 2, 3, ')', 4, 5],\n",
       " ['(', 1, 2, ')', 3, '(', 4, 5, ')'],\n",
       " ['(', 1, 2, ')', '(', 3, 4, ')', 5],\n",
       " [1, '(', 2, 3, ')', '(', 4, 5, ')'],\n",
       " ['(', 1, 2, ')', 3, '(', 4, 5, ')'],\n",
       " [1, 2, '(', 3, 4, ')', 5],\n",
       " [1, '(', 2, 3, ')', 4, 5],\n",
       " ['(', 1, 2, ')', '(', 3, 4, ')', 5],\n",
       " [1, '(', 2, 3, ')', 4, 5],\n",
       " ['(', 1, 2, ')', 3, 4, 5]]"
      ]
     },
     "execution_count": 1220,
     "metadata": {},
     "output_type": "execute_result"
    }
   ],
   "source": [
    "add_brace_of_number([1, 2, 3, 4, 5])"
   ]
  },
  {
   "cell_type": "code",
   "execution_count": 1223,
   "metadata": {},
   "outputs": [],
   "source": [
    "def get_all_opeartion_combine(cards):\n",
    "    c1, c2, c3, c4 = cards\n",
    "    operations = ['+', '-', '*', '/']\n",
    "    \n",
    "    expressions = []\n",
    "\n",
    "    for ops in product(operations, repeat=len(cards) - 1): # why not set 3 directly\n",
    "        op1, op2, op3 = ops\n",
    "        \n",
    "        expressions.append('{} {} {} {} {} {} {}'.format(c1, op1, c2, op2, c3, op3, c4))\n",
    "    \n",
    "    return expressions\n",
    "\n",
    "def get_all_opeartion_combine_with_number_exchange(cards):\n",
    "    all_result = []\n",
    "    \n",
    "    for cards_exchange in permutations(cards):\n",
    "        all_result += get_all_opeartion_combine(cards_exchange)\n",
    "    \n",
    "    return all_result"
   ]
  },
  {
   "cell_type": "code",
   "execution_count": 1224,
   "metadata": {},
   "outputs": [
    {
     "data": {
      "text/plain": [
       "['1 + 2 + 3 + 4',\n",
       " '1 + 2 + 3 - 4',\n",
       " '1 + 2 + 3 * 4',\n",
       " '1 + 2 + 3 / 4',\n",
       " '1 + 2 - 3 + 4',\n",
       " '1 + 2 - 3 - 4',\n",
       " '1 + 2 - 3 * 4',\n",
       " '1 + 2 - 3 / 4',\n",
       " '1 + 2 * 3 + 4',\n",
       " '1 + 2 * 3 - 4',\n",
       " '1 + 2 * 3 * 4',\n",
       " '1 + 2 * 3 / 4',\n",
       " '1 + 2 / 3 + 4',\n",
       " '1 + 2 / 3 - 4',\n",
       " '1 + 2 / 3 * 4',\n",
       " '1 + 2 / 3 / 4',\n",
       " '1 - 2 + 3 + 4',\n",
       " '1 - 2 + 3 - 4',\n",
       " '1 - 2 + 3 * 4',\n",
       " '1 - 2 + 3 / 4',\n",
       " '1 - 2 - 3 + 4',\n",
       " '1 - 2 - 3 - 4',\n",
       " '1 - 2 - 3 * 4',\n",
       " '1 - 2 - 3 / 4',\n",
       " '1 - 2 * 3 + 4',\n",
       " '1 - 2 * 3 - 4',\n",
       " '1 - 2 * 3 * 4',\n",
       " '1 - 2 * 3 / 4',\n",
       " '1 - 2 / 3 + 4',\n",
       " '1 - 2 / 3 - 4',\n",
       " '1 - 2 / 3 * 4',\n",
       " '1 - 2 / 3 / 4',\n",
       " '1 * 2 + 3 + 4',\n",
       " '1 * 2 + 3 - 4',\n",
       " '1 * 2 + 3 * 4',\n",
       " '1 * 2 + 3 / 4',\n",
       " '1 * 2 - 3 + 4',\n",
       " '1 * 2 - 3 - 4',\n",
       " '1 * 2 - 3 * 4',\n",
       " '1 * 2 - 3 / 4',\n",
       " '1 * 2 * 3 + 4',\n",
       " '1 * 2 * 3 - 4',\n",
       " '1 * 2 * 3 * 4',\n",
       " '1 * 2 * 3 / 4',\n",
       " '1 * 2 / 3 + 4',\n",
       " '1 * 2 / 3 - 4',\n",
       " '1 * 2 / 3 * 4',\n",
       " '1 * 2 / 3 / 4',\n",
       " '1 / 2 + 3 + 4',\n",
       " '1 / 2 + 3 - 4',\n",
       " '1 / 2 + 3 * 4',\n",
       " '1 / 2 + 3 / 4',\n",
       " '1 / 2 - 3 + 4',\n",
       " '1 / 2 - 3 - 4',\n",
       " '1 / 2 - 3 * 4',\n",
       " '1 / 2 - 3 / 4',\n",
       " '1 / 2 * 3 + 4',\n",
       " '1 / 2 * 3 - 4',\n",
       " '1 / 2 * 3 * 4',\n",
       " '1 / 2 * 3 / 4',\n",
       " '1 / 2 / 3 + 4',\n",
       " '1 / 2 / 3 - 4',\n",
       " '1 / 2 / 3 * 4',\n",
       " '1 / 2 / 3 / 4']"
      ]
     },
     "execution_count": 1224,
     "metadata": {},
     "output_type": "execute_result"
    }
   ],
   "source": [
    "get_all_opeartion_combine([1, 2, 3, 4])"
   ]
  },
  {
   "cell_type": "code",
   "execution_count": 1225,
   "metadata": {},
   "outputs": [
    {
     "data": {
      "text/plain": [
       "['1', '/', '2', '/', '3', '/', '4']"
      ]
     },
     "execution_count": 1225,
     "metadata": {},
     "output_type": "execute_result"
    }
   ],
   "source": [
    "'1 / 2 / 3 / 4'.split()"
   ]
  },
  {
   "cell_type": "code",
   "execution_count": 1328,
   "metadata": {},
   "outputs": [],
   "source": [
    "def add_brace_of_number(numbers):\n",
    "    if len(numbers) < 2: return [numbers]\n",
    "    if len(numbers) == 2: \n",
    "        return [['('+str(numbers[0])] + numbers[1:-1] + [str(numbers[-1])+')']]\n",
    "    \n",
    "    results = []\n",
    "    \n",
    "    for i in range(1, len(numbers)):\n",
    "        prefix = numbers[:i]\n",
    "       # assert len(prefix) < len(numbers)\n",
    "        prefixs = add_brace_of_number(prefix)\n",
    "        \n",
    "        tail = numbers[i:]\n",
    "       # assert len(tail) < len(numbers)\n",
    "        tails = add_brace_of_number(tail)\n",
    "        \n",
    "        for p in prefixs:\n",
    "            for t in tails:\n",
    "                brace_with_around = ['('+p[0]] + p[1:] + t[:-1] + [t[-1] + ')']\n",
    "                results.append(brace_with_around)\n",
    "    \n",
    "    return results"
   ]
  },
  {
   "cell_type": "code",
   "execution_count": 1331,
   "metadata": {},
   "outputs": [
    {
     "data": {
      "text/plain": [
       "[['(1', '(3', '(4', '(5', '6))))'],\n",
       " ['(1', '(3', '((4', '5)', '6)))'],\n",
       " ['(1', '((3', '4)', '(5', '6)))'],\n",
       " ['(1', '((3', '(4', '5))', '6))'],\n",
       " ['(1', '(((3', '4)', '5)', '6))'],\n",
       " ['((1', '3)', '(4', '(5', '6)))'],\n",
       " ['((1', '3)', '((4', '5)', '6))'],\n",
       " ['((1', '(3', '4))', '(5', '6))'],\n",
       " ['(((1', '3)', '4)', '(5', '6))'],\n",
       " ['((1', '(3', '(4', '5)))', '6)'],\n",
       " ['((1', '((3', '4)', '5))', '6)'],\n",
       " ['(((1', '3)', '(4', '5))', '6)'],\n",
       " ['(((1', '(3', '4))', '5)', '6)'],\n",
       " ['((((1', '3)', '4)', '5)', '6)']]"
      ]
     },
     "execution_count": 1331,
     "metadata": {},
     "output_type": "execute_result"
    }
   ],
   "source": [
    "add_brace_of_number('1 / 3 / 4 / 5 / 6'.split()[::2])"
   ]
  },
  {
   "cell_type": "code",
   "execution_count": 1333,
   "metadata": {},
   "outputs": [
    {
     "data": {
      "text/plain": [
       "[['(4', '(8', '(9', '9)))'],\n",
       " ['(4', '((8', '9)', '9))'],\n",
       " ['((4', '8)', '(9', '9))'],\n",
       " ['((4', '(8', '9))', '9)'],\n",
       " ['(((4', '8)', '9)', '9)']]"
      ]
     },
     "execution_count": 1333,
     "metadata": {},
     "output_type": "execute_result"
    }
   ],
   "source": [
    "add_brace_of_number('4 + 8 - 9 + 9'.split()[::2])"
   ]
  },
  {
   "cell_type": "markdown",
   "metadata": {},
   "source": [
    "## How to join the operators to numbers with brach"
   ]
  },
  {
   "cell_type": "code",
   "execution_count": 1334,
   "metadata": {},
   "outputs": [],
   "source": [
    "def join_op_with_brace_number(operators, with_brace):\n",
    "    \n",
    "    finally_exp = with_brace[0]\n",
    "    \n",
    "    for i, op in enumerate(operators):\n",
    "        finally_exp = ' '.join([finally_exp, op, with_brace[i+1]])\n",
    "    \n",
    "    return finally_exp"
   ]
  },
  {
   "cell_type": "code",
   "execution_count": 1335,
   "metadata": {},
   "outputs": [
    {
     "data": {
      "text/plain": [
       "'(1 / 3) / 4 / 5 / 6'"
      ]
     },
     "execution_count": 1335,
     "metadata": {},
     "output_type": "execute_result"
    }
   ],
   "source": [
    "join_op_with_brace_number('1 / 3 / 4 / 5 / 6'.split()[1::2], ['(1', '3)', '4', '5', '6'])"
   ]
  },
  {
   "cell_type": "code",
   "execution_count": 1336,
   "metadata": {},
   "outputs": [],
   "source": [
    "def join_brace_to_expression(expression):\n",
    "    numbers = expression.split()[::2]\n",
    "    operators = expression.split()[1::2]\n",
    "    \n",
    "    with_braces = add_brace_of_number(numbers)\n",
    "    \n",
    "    with_operatos_and_brace = []\n",
    "    \n",
    "    for brace in with_braces:\n",
    "        with_operatos_and_brace.append(join_op_with_brace_number(operators, brace))\n",
    "    \n",
    "    return with_operatos_and_brace"
   ]
  },
  {
   "cell_type": "code",
   "execution_count": 1337,
   "metadata": {},
   "outputs": [
    {
     "data": {
      "text/plain": [
       "['(4 + (8 - (9 * 8)))',\n",
       " '(4 + ((8 - 9) * 8))',\n",
       " '((4 + 8) - (9 * 8))',\n",
       " '((4 + (8 - 9)) * 8)',\n",
       " '(((4 + 8) - 9) * 8)']"
      ]
     },
     "execution_count": 1337,
     "metadata": {},
     "output_type": "execute_result"
    }
   ],
   "source": [
    "join_brace_to_expression('4 + 8 - 9 * 8')"
   ]
  },
  {
   "cell_type": "code",
   "execution_count": 1338,
   "metadata": {},
   "outputs": [],
   "source": [
    "def get_all_opeartion_combine(cards):\n",
    "    c1, c2, c3, c4 = cards\n",
    "    operations = ['+', '-', '*', '/']\n",
    "    \n",
    "    expressions = []\n",
    "\n",
    "    for ops in product(operations, repeat=len(cards) - 1): # why not set 3 directly\n",
    "        op1, op2, op3 = ops\n",
    "        \n",
    "        expressions.append('{} {} {} {} {} {} {}'.format(c1, op1, c2, op2, c3, op3, c4))\n",
    "    \n",
    "    return expressions\n",
    "\n",
    "def get_all_opeartion_combine_with_number_exchange(cards):\n",
    "    all_result = []\n",
    "    \n",
    "    for cards_exchange in permutations(cards):\n",
    "        all_result += get_all_opeartion_combine(cards_exchange)\n",
    "    \n",
    "    return all_result"
   ]
  },
  {
   "cell_type": "code",
   "execution_count": 1339,
   "metadata": {},
   "outputs": [
    {
     "data": {
      "text/plain": [
       "1536"
      ]
     },
     "execution_count": 1339,
     "metadata": {},
     "output_type": "execute_result"
    }
   ],
   "source": [
    "len(get_all_opeartion_combine_with_number_exchange([1, 2, 3, 4]))"
   ]
  },
  {
   "cell_type": "code",
   "execution_count": 1374,
   "metadata": {},
   "outputs": [
    {
     "name": "stdout",
     "output_type": "stream",
     "text": [
      "我抽到的牌是: [6, 7, 7, 1]\n"
     ]
    }
   ],
   "source": [
    "r_cards = get_new_cards()\n",
    "\n",
    "print('我抽到的牌是: {}'.format(r_cards))\n",
    "\n",
    "for exp in (get_all_opeartion_combine_with_number_exchange(r_cards)):\n",
    "    for brace in join_brace_to_expression(exp):\n",
    "        try:\n",
    "            if eval(brace) == 24: print(brace)\n",
    "        except ZeroDivisionError:\n",
    "            continue"
   ]
  },
  {
   "cell_type": "code",
   "execution_count": 1367,
   "metadata": {},
   "outputs": [
    {
     "data": {
      "text/plain": [
       "True"
      ]
     },
     "execution_count": 1367,
     "metadata": {},
     "output_type": "execute_result"
    }
   ],
   "source": [
    "'4 / 14 / 12 - 1' in get_all_opeartion_combine_with_number_exchange([4, 14, 12, 1])"
   ]
  },
  {
   "cell_type": "code",
   "execution_count": 1368,
   "metadata": {},
   "outputs": [
    {
     "data": {
      "text/plain": [
       "23.99999999999999"
      ]
     },
     "execution_count": 1368,
     "metadata": {},
     "output_type": "execute_result"
    }
   ],
   "source": [
    "4/((14/12)-1)"
   ]
  },
  {
   "cell_type": "code",
   "execution_count": 1352,
   "metadata": {},
   "outputs": [
    {
     "data": {
      "text/plain": [
       "['(4 / (14 / (12 - 1)))',\n",
       " '(4 / ((14 / 12) - 1))',\n",
       " '((4 / 14) / (12 - 1))',\n",
       " '((4 / (14 / 12)) - 1)',\n",
       " '(((4 / 14) / 12) - 1)']"
      ]
     },
     "execution_count": 1352,
     "metadata": {},
     "output_type": "execute_result"
    }
   ],
   "source": [
    "join_brace_to_expression('4 / 14 / 12 - 1')"
   ]
  },
  {
   "cell_type": "code",
   "execution_count": 1353,
   "metadata": {},
   "outputs": [
    {
     "data": {
      "text/plain": [
       "23.99999999999999"
      ]
     },
     "execution_count": 1353,
     "metadata": {},
     "output_type": "execute_result"
    }
   ],
   "source": [
    "eval('(4 / ((14 / 12) - 1))')"
   ]
  },
  {
   "cell_type": "code",
   "execution_count": 1354,
   "metadata": {},
   "outputs": [],
   "source": [
    "def solve_24point(cards):\n",
    "    results = []\n",
    "    \n",
    "    for exp in (get_all_opeartion_combine_with_number_exchange(r_cards)):\n",
    "        for brace in join_brace_to_expression(exp):\n",
    "            try:\n",
    "                if eval(brace) == 24: results.append(brace)\n",
    "            except ZeroDivisionError:\n",
    "                continue  \n",
    "        \n",
    "    return results"
   ]
  },
  {
   "cell_type": "code",
   "execution_count": 1361,
   "metadata": {
    "collapsed": true
   },
   "outputs": [
    {
     "data": {
      "text/plain": [
       "['(9 + ((8 - 6) + 13))',\n",
       " '((9 + (8 - 6)) + 13)',\n",
       " '(((9 + 8) - 6) + 13)',\n",
       " '(9 + (8 - (6 - 13)))',\n",
       " '((9 + 8) - (6 - 13))',\n",
       " '(9 + (8 + (13 - 6)))',\n",
       " '(9 + ((8 + 13) - 6))',\n",
       " '((9 + 8) + (13 - 6))',\n",
       " '((9 + (8 + 13)) - 6)',\n",
       " '(((9 + 8) + 13) - 6)',\n",
       " '((9 + (8 - 13)) * 6)',\n",
       " '(((9 + 8) - 13) * 6)',\n",
       " '((9 - 6) + (8 + 13))',\n",
       " '(((9 - 6) + 8) + 13)',\n",
       " '(9 - (6 - (8 + 13)))',\n",
       " '((9 - (6 - 8)) + 13)',\n",
       " '(9 - ((6 - 8) - 13))',\n",
       " '((9 - 6) + (13 + 8))',\n",
       " '(((9 - 6) + 13) + 8)',\n",
       " '(9 - (6 - (13 + 8)))',\n",
       " '((9 - (6 - 13)) + 8)',\n",
       " '(9 - ((6 - 13) - 8))',\n",
       " '(9 + (13 + (8 - 6)))',\n",
       " '(9 + ((13 + 8) - 6))',\n",
       " '((9 + 13) + (8 - 6))',\n",
       " '((9 + (13 + 8)) - 6)',\n",
       " '(((9 + 13) + 8) - 6)',\n",
       " '(((9 - 13) + 8) * 6)',\n",
       " '((9 - (13 - 8)) * 6)',\n",
       " '(9 + ((13 - 6) + 8))',\n",
       " '((9 + (13 - 6)) + 8)',\n",
       " '(((9 + 13) - 6) + 8)',\n",
       " '(9 + (13 - (6 - 8)))',\n",
       " '((9 + 13) - (6 - 8))',\n",
       " '(8 + ((9 - 6) + 13))',\n",
       " '((8 + (9 - 6)) + 13)',\n",
       " '(((8 + 9) - 6) + 13)',\n",
       " '(8 + (9 - (6 - 13)))',\n",
       " '((8 + 9) - (6 - 13))',\n",
       " '(8 + (9 + (13 - 6)))',\n",
       " '(8 + ((9 + 13) - 6))',\n",
       " '((8 + 9) + (13 - 6))',\n",
       " '((8 + (9 + 13)) - 6)',\n",
       " '(((8 + 9) + 13) - 6)',\n",
       " '((8 + (9 - 13)) * 6)',\n",
       " '(((8 + 9) - 13) * 6)',\n",
       " '((8 - 6) + (9 + 13))',\n",
       " '(((8 - 6) + 9) + 13)',\n",
       " '(8 - (6 - (9 + 13)))',\n",
       " '((8 - (6 - 9)) + 13)',\n",
       " '(8 - ((6 - 9) - 13))',\n",
       " '((8 - 6) + (13 + 9))',\n",
       " '(((8 - 6) + 13) + 9)',\n",
       " '(8 - (6 - (13 + 9)))',\n",
       " '((8 - (6 - 13)) + 9)',\n",
       " '(8 - ((6 - 13) - 9))',\n",
       " '(8 + (13 + (9 - 6)))',\n",
       " '(8 + ((13 + 9) - 6))',\n",
       " '((8 + 13) + (9 - 6))',\n",
       " '((8 + (13 + 9)) - 6)',\n",
       " '(((8 + 13) + 9) - 6)',\n",
       " '(((8 - 13) + 9) * 6)',\n",
       " '((8 - (13 - 9)) * 6)',\n",
       " '(8 + ((13 - 6) + 9))',\n",
       " '((8 + (13 - 6)) + 9)',\n",
       " '(((8 + 13) - 6) + 9)',\n",
       " '(8 + (13 - (6 - 9)))',\n",
       " '((8 + 13) - (6 - 9))',\n",
       " '(6 * (9 + (8 - 13)))',\n",
       " '(6 * ((9 + 8) - 13))',\n",
       " '(6 * ((9 - 13) + 8))',\n",
       " '(6 * (9 - (13 - 8)))',\n",
       " '(6 * (8 + (9 - 13)))',\n",
       " '(6 * ((8 + 9) - 13))',\n",
       " '(6 * ((8 - 13) + 9))',\n",
       " '(6 * (8 - (13 - 9)))',\n",
       " '(13 + (9 + (8 - 6)))',\n",
       " '(13 + ((9 + 8) - 6))',\n",
       " '((13 + 9) + (8 - 6))',\n",
       " '((13 + (9 + 8)) - 6)',\n",
       " '(((13 + 9) + 8) - 6)',\n",
       " '(13 + ((9 - 6) + 8))',\n",
       " '((13 + (9 - 6)) + 8)',\n",
       " '(((13 + 9) - 6) + 8)',\n",
       " '(13 + (9 - (6 - 8)))',\n",
       " '((13 + 9) - (6 - 8))',\n",
       " '(13 + (8 + (9 - 6)))',\n",
       " '(13 + ((8 + 9) - 6))',\n",
       " '((13 + 8) + (9 - 6))',\n",
       " '((13 + (8 + 9)) - 6)',\n",
       " '(((13 + 8) + 9) - 6)',\n",
       " '(13 + ((8 - 6) + 9))',\n",
       " '((13 + (8 - 6)) + 9)',\n",
       " '(((13 + 8) - 6) + 9)',\n",
       " '(13 + (8 - (6 - 9)))',\n",
       " '((13 + 8) - (6 - 9))',\n",
       " '((13 - 6) + (9 + 8))',\n",
       " '(((13 - 6) + 9) + 8)',\n",
       " '(13 - (6 - (9 + 8)))',\n",
       " '((13 - (6 - 9)) + 8)',\n",
       " '(13 - ((6 - 9) - 8))',\n",
       " '((13 - 6) + (8 + 9))',\n",
       " '(((13 - 6) + 8) + 9)',\n",
       " '(13 - (6 - (8 + 9)))',\n",
       " '((13 - (6 - 8)) + 9)',\n",
       " '(13 - ((6 - 8) - 9))']"
      ]
     },
     "execution_count": 1361,
     "metadata": {},
     "output_type": "execute_result"
    }
   ],
   "source": [
    "solve_24point([9, 8, 6, 13])"
   ]
  },
  {
   "cell_type": "markdown",
   "metadata": {},
   "source": [
    "## Assignment 将本课程的程序变成真实世界的场景"
   ]
  },
  {
   "cell_type": "code",
   "execution_count": 1375,
   "metadata": {},
   "outputs": [],
   "source": [
    "def random_real_card():\n",
    "    cards = '2 3 4 5 6 7 8 9 10 J Q K A'.split()\n",
    "    color = '红桃 黑桃 方片 梅花'.split()\n",
    "    \n",
    "    return random.choice(color)+random.choice(cards)"
   ]
  },
  {
   "cell_type": "code",
   "execution_count": 1379,
   "metadata": {},
   "outputs": [
    {
     "data": {
      "text/plain": [
       "'方片8'"
      ]
     },
     "execution_count": 1379,
     "metadata": {},
     "output_type": "execute_result"
    }
   ],
   "source": [
    "random_real_card()"
   ]
  },
  {
   "cell_type": "code",
   "execution_count": 1381,
   "metadata": {},
   "outputs": [],
   "source": [
    "def solve_24_point_real_word():\n",
    "    \"\"\"\n",
    "    写出24点的真实世界代码，注意A就可以做 1 也可以 做14 \n",
    "    这个问题怎么解决？ \n",
    "    \"\"\"\n",
    "    pass"
   ]
  }
 ],
 "metadata": {
  "kernelspec": {
   "display_name": "Python 3",
   "language": "python",
   "name": "python3"
  },
  "language_info": {
   "codemirror_mode": {
    "name": "ipython",
    "version": 3
   },
   "file_extension": ".py",
   "mimetype": "text/x-python",
   "name": "python",
   "nbconvert_exporter": "python",
   "pygments_lexer": "ipython3",
   "version": "3.6.10"
  }
 },
 "nbformat": 4,
 "nbformat_minor": 4
}
